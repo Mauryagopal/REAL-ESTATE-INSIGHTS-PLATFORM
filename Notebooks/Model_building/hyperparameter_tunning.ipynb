{
 "cells": [
  {
   "cell_type": "markdown",
   "id": "1dd16395",
   "metadata": {},
   "source": [
    "## Random Forest Model"
   ]
  },
  {
   "cell_type": "code",
   "execution_count": 36,
   "id": "be4aa139",
   "metadata": {},
   "outputs": [],
   "source": [
    "import pandas as pd\n",
    "import numpy as np"
   ]
  },
  {
   "cell_type": "code",
   "execution_count": 37,
   "id": "46cfe889",
   "metadata": {},
   "outputs": [],
   "source": [
    "df = pd.read_csv('../../Dataset/gurgaon_properties_post_feature_selection_v2.csv')"
   ]
  },
  {
   "cell_type": "code",
   "execution_count": 38,
   "id": "d6dece88",
   "metadata": {},
   "outputs": [
    {
     "data": {
      "text/html": [
       "<div>\n",
       "<style scoped>\n",
       "    .dataframe tbody tr th:only-of-type {\n",
       "        vertical-align: middle;\n",
       "    }\n",
       "\n",
       "    .dataframe tbody tr th {\n",
       "        vertical-align: top;\n",
       "    }\n",
       "\n",
       "    .dataframe thead th {\n",
       "        text-align: right;\n",
       "    }\n",
       "</style>\n",
       "<table border=\"1\" class=\"dataframe\">\n",
       "  <thead>\n",
       "    <tr style=\"text-align: right;\">\n",
       "      <th></th>\n",
       "      <th>property_type</th>\n",
       "      <th>sector</th>\n",
       "      <th>price</th>\n",
       "      <th>bedRoom</th>\n",
       "      <th>bathroom</th>\n",
       "      <th>balcony</th>\n",
       "      <th>agePossession</th>\n",
       "      <th>built_up_area</th>\n",
       "      <th>servant room</th>\n",
       "      <th>store room</th>\n",
       "      <th>furnishing_type</th>\n",
       "      <th>luxury_category</th>\n",
       "      <th>floor_category</th>\n",
       "    </tr>\n",
       "  </thead>\n",
       "  <tbody>\n",
       "    <tr>\n",
       "      <th>0</th>\n",
       "      <td>flat</td>\n",
       "      <td>sector 36</td>\n",
       "      <td>0.82</td>\n",
       "      <td>3.0</td>\n",
       "      <td>2.0</td>\n",
       "      <td>2</td>\n",
       "      <td>New Property</td>\n",
       "      <td>850.0</td>\n",
       "      <td>0.0</td>\n",
       "      <td>0.0</td>\n",
       "      <td>0.0</td>\n",
       "      <td>Low</td>\n",
       "      <td>Low Floor</td>\n",
       "    </tr>\n",
       "    <tr>\n",
       "      <th>1</th>\n",
       "      <td>flat</td>\n",
       "      <td>sector 89</td>\n",
       "      <td>0.95</td>\n",
       "      <td>2.0</td>\n",
       "      <td>2.0</td>\n",
       "      <td>2</td>\n",
       "      <td>New Property</td>\n",
       "      <td>1226.0</td>\n",
       "      <td>1.0</td>\n",
       "      <td>0.0</td>\n",
       "      <td>0.0</td>\n",
       "      <td>Low</td>\n",
       "      <td>Mid Floor</td>\n",
       "    </tr>\n",
       "    <tr>\n",
       "      <th>2</th>\n",
       "      <td>flat</td>\n",
       "      <td>sohna road</td>\n",
       "      <td>0.32</td>\n",
       "      <td>2.0</td>\n",
       "      <td>2.0</td>\n",
       "      <td>1</td>\n",
       "      <td>New Property</td>\n",
       "      <td>1000.0</td>\n",
       "      <td>0.0</td>\n",
       "      <td>0.0</td>\n",
       "      <td>0.0</td>\n",
       "      <td>Low</td>\n",
       "      <td>High Floor</td>\n",
       "    </tr>\n",
       "    <tr>\n",
       "      <th>3</th>\n",
       "      <td>flat</td>\n",
       "      <td>sector 92</td>\n",
       "      <td>1.60</td>\n",
       "      <td>3.0</td>\n",
       "      <td>4.0</td>\n",
       "      <td>3+</td>\n",
       "      <td>Relatively New</td>\n",
       "      <td>1615.0</td>\n",
       "      <td>1.0</td>\n",
       "      <td>0.0</td>\n",
       "      <td>1.0</td>\n",
       "      <td>High</td>\n",
       "      <td>Mid Floor</td>\n",
       "    </tr>\n",
       "    <tr>\n",
       "      <th>4</th>\n",
       "      <td>flat</td>\n",
       "      <td>sector 102</td>\n",
       "      <td>0.48</td>\n",
       "      <td>2.0</td>\n",
       "      <td>2.0</td>\n",
       "      <td>1</td>\n",
       "      <td>Relatively New</td>\n",
       "      <td>582.0</td>\n",
       "      <td>0.0</td>\n",
       "      <td>1.0</td>\n",
       "      <td>0.0</td>\n",
       "      <td>High</td>\n",
       "      <td>Mid Floor</td>\n",
       "    </tr>\n",
       "  </tbody>\n",
       "</table>\n",
       "</div>"
      ],
      "text/plain": [
       "  property_type      sector  price  bedRoom  bathroom balcony   agePossession  \\\n",
       "0          flat   sector 36   0.82      3.0       2.0       2    New Property   \n",
       "1          flat   sector 89   0.95      2.0       2.0       2    New Property   \n",
       "2          flat  sohna road   0.32      2.0       2.0       1    New Property   \n",
       "3          flat   sector 92   1.60      3.0       4.0      3+  Relatively New   \n",
       "4          flat  sector 102   0.48      2.0       2.0       1  Relatively New   \n",
       "\n",
       "   built_up_area  servant room  store room  furnishing_type luxury_category  \\\n",
       "0          850.0           0.0         0.0              0.0             Low   \n",
       "1         1226.0           1.0         0.0              0.0             Low   \n",
       "2         1000.0           0.0         0.0              0.0             Low   \n",
       "3         1615.0           1.0         0.0              1.0            High   \n",
       "4          582.0           0.0         1.0              0.0            High   \n",
       "\n",
       "  floor_category  \n",
       "0      Low Floor  \n",
       "1      Mid Floor  \n",
       "2     High Floor  \n",
       "3      Mid Floor  \n",
       "4      Mid Floor  "
      ]
     },
     "execution_count": 38,
     "metadata": {},
     "output_type": "execute_result"
    }
   ],
   "source": [
    "df.head()"
   ]
  },
  {
   "cell_type": "code",
   "execution_count": 39,
   "id": "dcf264c6",
   "metadata": {},
   "outputs": [
    {
     "data": {
      "text/plain": [
       "(3554, 13)"
      ]
     },
     "execution_count": 39,
     "metadata": {},
     "output_type": "execute_result"
    }
   ],
   "source": [
    "df.shape"
   ]
  },
  {
   "cell_type": "code",
   "execution_count": 40,
   "id": "8e9b197d",
   "metadata": {},
   "outputs": [
    {
     "data": {
      "text/html": [
       "<div>\n",
       "<style scoped>\n",
       "    .dataframe tbody tr th:only-of-type {\n",
       "        vertical-align: middle;\n",
       "    }\n",
       "\n",
       "    .dataframe tbody tr th {\n",
       "        vertical-align: top;\n",
       "    }\n",
       "\n",
       "    .dataframe thead th {\n",
       "        text-align: right;\n",
       "    }\n",
       "</style>\n",
       "<table border=\"1\" class=\"dataframe\">\n",
       "  <thead>\n",
       "    <tr style=\"text-align: right;\">\n",
       "      <th></th>\n",
       "      <th>property_type</th>\n",
       "      <th>sector</th>\n",
       "      <th>price</th>\n",
       "      <th>bedRoom</th>\n",
       "      <th>bathroom</th>\n",
       "      <th>balcony</th>\n",
       "      <th>agePossession</th>\n",
       "      <th>built_up_area</th>\n",
       "      <th>servant room</th>\n",
       "      <th>store room</th>\n",
       "      <th>furnishing_type</th>\n",
       "      <th>luxury_category</th>\n",
       "      <th>floor_category</th>\n",
       "    </tr>\n",
       "  </thead>\n",
       "  <tbody>\n",
       "    <tr>\n",
       "      <th>0</th>\n",
       "      <td>flat</td>\n",
       "      <td>sector 36</td>\n",
       "      <td>0.82</td>\n",
       "      <td>3.0</td>\n",
       "      <td>2.0</td>\n",
       "      <td>2</td>\n",
       "      <td>New Property</td>\n",
       "      <td>850.0</td>\n",
       "      <td>0.0</td>\n",
       "      <td>0.0</td>\n",
       "      <td>0.0</td>\n",
       "      <td>Low</td>\n",
       "      <td>Low Floor</td>\n",
       "    </tr>\n",
       "    <tr>\n",
       "      <th>1</th>\n",
       "      <td>flat</td>\n",
       "      <td>sector 89</td>\n",
       "      <td>0.95</td>\n",
       "      <td>2.0</td>\n",
       "      <td>2.0</td>\n",
       "      <td>2</td>\n",
       "      <td>New Property</td>\n",
       "      <td>1226.0</td>\n",
       "      <td>1.0</td>\n",
       "      <td>0.0</td>\n",
       "      <td>0.0</td>\n",
       "      <td>Low</td>\n",
       "      <td>Mid Floor</td>\n",
       "    </tr>\n",
       "    <tr>\n",
       "      <th>2</th>\n",
       "      <td>flat</td>\n",
       "      <td>sohna road</td>\n",
       "      <td>0.32</td>\n",
       "      <td>2.0</td>\n",
       "      <td>2.0</td>\n",
       "      <td>1</td>\n",
       "      <td>New Property</td>\n",
       "      <td>1000.0</td>\n",
       "      <td>0.0</td>\n",
       "      <td>0.0</td>\n",
       "      <td>0.0</td>\n",
       "      <td>Low</td>\n",
       "      <td>High Floor</td>\n",
       "    </tr>\n",
       "    <tr>\n",
       "      <th>3</th>\n",
       "      <td>flat</td>\n",
       "      <td>sector 92</td>\n",
       "      <td>1.60</td>\n",
       "      <td>3.0</td>\n",
       "      <td>4.0</td>\n",
       "      <td>3+</td>\n",
       "      <td>Relatively New</td>\n",
       "      <td>1615.0</td>\n",
       "      <td>1.0</td>\n",
       "      <td>0.0</td>\n",
       "      <td>1.0</td>\n",
       "      <td>High</td>\n",
       "      <td>Mid Floor</td>\n",
       "    </tr>\n",
       "    <tr>\n",
       "      <th>4</th>\n",
       "      <td>flat</td>\n",
       "      <td>sector 102</td>\n",
       "      <td>0.48</td>\n",
       "      <td>2.0</td>\n",
       "      <td>2.0</td>\n",
       "      <td>1</td>\n",
       "      <td>Relatively New</td>\n",
       "      <td>582.0</td>\n",
       "      <td>0.0</td>\n",
       "      <td>1.0</td>\n",
       "      <td>0.0</td>\n",
       "      <td>High</td>\n",
       "      <td>Mid Floor</td>\n",
       "    </tr>\n",
       "  </tbody>\n",
       "</table>\n",
       "</div>"
      ],
      "text/plain": [
       "  property_type      sector  price  bedRoom  bathroom balcony   agePossession  \\\n",
       "0          flat   sector 36   0.82      3.0       2.0       2    New Property   \n",
       "1          flat   sector 89   0.95      2.0       2.0       2    New Property   \n",
       "2          flat  sohna road   0.32      2.0       2.0       1    New Property   \n",
       "3          flat   sector 92   1.60      3.0       4.0      3+  Relatively New   \n",
       "4          flat  sector 102   0.48      2.0       2.0       1  Relatively New   \n",
       "\n",
       "   built_up_area  servant room  store room  furnishing_type luxury_category  \\\n",
       "0          850.0           0.0         0.0              0.0             Low   \n",
       "1         1226.0           1.0         0.0              0.0             Low   \n",
       "2         1000.0           0.0         0.0              0.0             Low   \n",
       "3         1615.0           1.0         0.0              1.0            High   \n",
       "4          582.0           0.0         1.0              0.0            High   \n",
       "\n",
       "  floor_category  \n",
       "0      Low Floor  \n",
       "1      Mid Floor  \n",
       "2     High Floor  \n",
       "3      Mid Floor  \n",
       "4      Mid Floor  "
      ]
     },
     "execution_count": 40,
     "metadata": {},
     "output_type": "execute_result"
    }
   ],
   "source": [
    "df.head()"
   ]
  },
  {
   "cell_type": "code",
   "execution_count": 41,
   "id": "202b3f34",
   "metadata": {},
   "outputs": [],
   "source": [
    "# 0 -> unfurnished\n",
    "# 1 -> semifurnished\n",
    "# 2 -> furnished\n",
    "df['furnishing_type'] = df['furnishing_type'].replace({0.0:'unfurnished',1.0:'semifurnished',2.0:'furnished'})"
   ]
  },
  {
   "cell_type": "code",
   "execution_count": 42,
   "id": "88537962",
   "metadata": {},
   "outputs": [],
   "source": [
    "X = df.drop(columns=['price'])\n",
    "y = df['price']"
   ]
  },
  {
   "cell_type": "code",
   "execution_count": 43,
   "id": "2960779e",
   "metadata": {},
   "outputs": [],
   "source": [
    "# Applying the log1p transformation to the target variable\n",
    "y_transformed = np.log1p(y)"
   ]
  },
  {
   "cell_type": "code",
   "execution_count": 15,
   "id": "1341ef28",
   "metadata": {},
   "outputs": [
    {
     "name": "stdout",
     "output_type": "stream",
     "text": [
      "Fitting 5 folds for each of 50 candidates, totalling 250 fits\n",
      "Best Parameters: {'regressor__n_estimators': 400, 'regressor__min_samples_split': 5, 'regressor__min_samples_leaf': 1, 'regressor__max_features': None, 'regressor__max_depth': 20, 'regressor__bootstrap': True}\n",
      "Best R2 Score: 0.8913880681352294\n"
     ]
    }
   ],
   "source": [
    "from sklearn.model_selection import RandomizedSearchCV, KFold\n",
    "from sklearn.pipeline import Pipeline\n",
    "from sklearn.compose import ColumnTransformer\n",
    "from sklearn.preprocessing import StandardScaler, OneHotEncoder, OrdinalEncoder\n",
    "from sklearn.ensemble import RandomForestRegressor\n",
    "import category_encoders as ce\n",
    "import numpy as np\n",
    "\n",
    "# Columns\n",
    "columns_to_encode = ['property_type', 'sector', 'balcony', 'furnishing_type', 'luxury_category', 'floor_category']\n",
    "\n",
    "# Preprocessor\n",
    "preprocessor = ColumnTransformer(\n",
    "    transformers=[\n",
    "        ('num', StandardScaler(), ['bedRoom', 'bathroom', 'built_up_area', 'servant room', 'store room']),\n",
    "        ('cat', OneHotEncoder(drop='first', sparse_output=False), ['property_type', 'balcony', 'furnishing_type', 'luxury_category', 'floor_category']),\n",
    "        ('target_enc', ce.TargetEncoder(), ['sector'])\n",
    "    ],\n",
    "    remainder='drop'\n",
    ")\n",
    "\n",
    "# Pipeline\n",
    "pipeline = Pipeline([\n",
    "    ('preprocessor', preprocessor),\n",
    "    ('regressor', RandomForestRegressor(random_state=42))\n",
    "])\n",
    "\n",
    "# Hyperparameter grid (wider + balanced)\n",
    "param_dist = {\n",
    "    'regressor__n_estimators': [100, 200, 300, 400, 500],\n",
    "    'regressor__max_depth': [10, 20, 30, 40, None],\n",
    "    'regressor__min_samples_split': [2, 5, 10],\n",
    "    'regressor__min_samples_leaf': [1, 2, 4],\n",
    "    'regressor__max_features': ['sqrt', 'log2', None],\n",
    "    'regressor__bootstrap': [True, False]\n",
    "}\n",
    "\n",
    "# KFold\n",
    "kfold = KFold(n_splits=5, shuffle=True, random_state=42)\n",
    "\n",
    "# RandomizedSearchCV\n",
    "random_search = RandomizedSearchCV(\n",
    "    pipeline,\n",
    "    param_distributions=param_dist,\n",
    "    n_iter=50,               # try 50 random combinations\n",
    "    cv=kfold,\n",
    "    scoring='r2',\n",
    "    n_jobs=-1,\n",
    "    verbose=3,\n",
    "    random_state=42\n",
    ")\n",
    "\n",
    "# Fit\n",
    "random_search.fit(X, np.log1p(y))\n",
    "\n",
    "# Best estimator & params\n",
    "final_model = random_search.best_estimator_\n",
    "print(\"Best Parameters:\", random_search.best_params_)\n",
    "print(\"Best R2 Score:\", random_search.best_score_)\n"
   ]
  },
  {
   "cell_type": "code",
   "execution_count": 17,
   "id": "8cfbcc9f",
   "metadata": {},
   "outputs": [
    {
     "name": "stdout",
     "output_type": "stream",
     "text": [
      "Collecting optuna\n",
      "  Downloading optuna-4.5.0-py3-none-any.whl.metadata (17 kB)\n",
      "Collecting alembic>=1.5.0 (from optuna)\n",
      "  Downloading alembic-1.16.5-py3-none-any.whl.metadata (7.3 kB)\n",
      "Collecting colorlog (from optuna)\n",
      "  Downloading colorlog-6.9.0-py3-none-any.whl.metadata (10 kB)\n",
      "Requirement already satisfied: numpy in d:\\real-estate-insights-platform\\.venv\\lib\\site-packages (from optuna) (2.1.3)\n",
      "Requirement already satisfied: packaging>=20.0 in d:\\real-estate-insights-platform\\.venv\\lib\\site-packages (from optuna) (25.0)\n",
      "Collecting sqlalchemy>=1.4.2 (from optuna)\n",
      "  Downloading sqlalchemy-2.0.43-cp312-cp312-win_amd64.whl.metadata (9.8 kB)\n",
      "Requirement already satisfied: tqdm in d:\\real-estate-insights-platform\\.venv\\lib\\site-packages (from optuna) (4.67.1)\n",
      "Requirement already satisfied: PyYAML in d:\\real-estate-insights-platform\\.venv\\lib\\site-packages (from optuna) (6.0.3)\n",
      "Collecting Mako (from alembic>=1.5.0->optuna)\n",
      "  Downloading mako-1.3.10-py3-none-any.whl.metadata (2.9 kB)\n",
      "Requirement already satisfied: typing-extensions>=4.12 in d:\\real-estate-insights-platform\\.venv\\lib\\site-packages (from alembic>=1.5.0->optuna) (4.15.0)\n",
      "Collecting greenlet>=1 (from sqlalchemy>=1.4.2->optuna)\n",
      "  Downloading greenlet-3.2.4-cp312-cp312-win_amd64.whl.metadata (4.2 kB)\n",
      "Requirement already satisfied: colorama in d:\\real-estate-insights-platform\\.venv\\lib\\site-packages (from colorlog->optuna) (0.4.6)\n",
      "Requirement already satisfied: MarkupSafe>=0.9.2 in d:\\real-estate-insights-platform\\.venv\\lib\\site-packages (from Mako->alembic>=1.5.0->optuna) (2.1.5)\n",
      "Downloading optuna-4.5.0-py3-none-any.whl (400 kB)\n",
      "Downloading alembic-1.16.5-py3-none-any.whl (247 kB)\n",
      "Downloading sqlalchemy-2.0.43-cp312-cp312-win_amd64.whl (2.1 MB)\n",
      "   ---------------------------------------- 0.0/2.1 MB ? eta -:--:--\n",
      "   ---------------------------------------- 0.0/2.1 MB ? eta -:--:--\n",
      "   ---- ----------------------------------- 0.3/2.1 MB ? eta -:--:--\n",
      "   --------- ------------------------------ 0.5/2.1 MB 1.1 MB/s eta 0:00:02\n",
      "   -------------- ------------------------- 0.8/2.1 MB 958.5 kB/s eta 0:00:02\n",
      "   -------------- ------------------------- 0.8/2.1 MB 958.5 kB/s eta 0:00:02\n",
      "   ------------------- -------------------- 1.0/2.1 MB 968.5 kB/s eta 0:00:02\n",
      "   ------------------------ --------------- 1.3/2.1 MB 1.0 MB/s eta 0:00:01\n",
      "   ----------------------------- ---------- 1.6/2.1 MB 1.0 MB/s eta 0:00:01\n",
      "   ---------------------------------- ----- 1.8/2.1 MB 1.0 MB/s eta 0:00:01\n",
      "   ---------------------------------------- 2.1/2.1 MB 1.1 MB/s  0:00:02\n",
      "Downloading greenlet-3.2.4-cp312-cp312-win_amd64.whl (299 kB)\n",
      "Downloading colorlog-6.9.0-py3-none-any.whl (11 kB)\n",
      "Downloading mako-1.3.10-py3-none-any.whl (78 kB)\n",
      "Installing collected packages: Mako, greenlet, colorlog, sqlalchemy, alembic, optuna\n",
      "\n",
      "   ---------------------------------------- 0/6 [Mako]\n",
      "   ---------------------------------------- 0/6 [Mako]\n",
      "   ---------------------------------------- 0/6 [Mako]\n",
      "   ---------------------------------------- 0/6 [Mako]\n",
      "   ---------------------------------------- 0/6 [Mako]\n",
      "   ---------------------------------------- 0/6 [Mako]\n",
      "   ---------------------------------------- 0/6 [Mako]\n",
      "   ---------------------------------------- 0/6 [Mako]\n",
      "   ------ --------------------------------- 1/6 [greenlet]\n",
      "   ------ --------------------------------- 1/6 [greenlet]\n",
      "   ------ --------------------------------- 1/6 [greenlet]\n",
      "   ------ --------------------------------- 1/6 [greenlet]\n",
      "   ------------- -------------------------- 2/6 [colorlog]\n",
      "   -------------------- ------------------- 3/6 [sqlalchemy]\n",
      "   -------------------- ------------------- 3/6 [sqlalchemy]\n",
      "   -------------------- ------------------- 3/6 [sqlalchemy]\n",
      "   -------------------- ------------------- 3/6 [sqlalchemy]\n",
      "   -------------------- ------------------- 3/6 [sqlalchemy]\n",
      "   -------------------- ------------------- 3/6 [sqlalchemy]\n",
      "   -------------------- ------------------- 3/6 [sqlalchemy]\n",
      "   -------------------- ------------------- 3/6 [sqlalchemy]\n",
      "   -------------------- ------------------- 3/6 [sqlalchemy]\n",
      "   -------------------- ------------------- 3/6 [sqlalchemy]\n",
      "   -------------------- ------------------- 3/6 [sqlalchemy]\n",
      "   -------------------- ------------------- 3/6 [sqlalchemy]\n",
      "   -------------------- ------------------- 3/6 [sqlalchemy]\n",
      "   -------------------- ------------------- 3/6 [sqlalchemy]\n",
      "   -------------------- ------------------- 3/6 [sqlalchemy]\n",
      "   -------------------- ------------------- 3/6 [sqlalchemy]\n",
      "   -------------------- ------------------- 3/6 [sqlalchemy]\n",
      "   -------------------- ------------------- 3/6 [sqlalchemy]\n",
      "   -------------------- ------------------- 3/6 [sqlalchemy]\n",
      "   -------------------- ------------------- 3/6 [sqlalchemy]\n",
      "   -------------------- ------------------- 3/6 [sqlalchemy]\n",
      "   -------------------- ------------------- 3/6 [sqlalchemy]\n",
      "   -------------------- ------------------- 3/6 [sqlalchemy]\n",
      "   -------------------- ------------------- 3/6 [sqlalchemy]\n",
      "   -------------------- ------------------- 3/6 [sqlalchemy]\n",
      "   -------------------- ------------------- 3/6 [sqlalchemy]\n",
      "   -------------------- ------------------- 3/6 [sqlalchemy]\n",
      "   -------------------- ------------------- 3/6 [sqlalchemy]\n",
      "   -------------------- ------------------- 3/6 [sqlalchemy]\n",
      "   -------------------- ------------------- 3/6 [sqlalchemy]\n",
      "   -------------------- ------------------- 3/6 [sqlalchemy]\n",
      "   -------------------- ------------------- 3/6 [sqlalchemy]\n",
      "   -------------------- ------------------- 3/6 [sqlalchemy]\n",
      "   -------------------- ------------------- 3/6 [sqlalchemy]\n",
      "   -------------------- ------------------- 3/6 [sqlalchemy]\n",
      "   -------------------- ------------------- 3/6 [sqlalchemy]\n",
      "   -------------------- ------------------- 3/6 [sqlalchemy]\n",
      "   -------------------- ------------------- 3/6 [sqlalchemy]\n",
      "   -------------------- ------------------- 3/6 [sqlalchemy]\n",
      "   -------------------- ------------------- 3/6 [sqlalchemy]\n",
      "   -------------------- ------------------- 3/6 [sqlalchemy]\n",
      "   -------------------- ------------------- 3/6 [sqlalchemy]\n",
      "   -------------------- ------------------- 3/6 [sqlalchemy]\n",
      "   -------------------- ------------------- 3/6 [sqlalchemy]\n",
      "   -------------------- ------------------- 3/6 [sqlalchemy]\n",
      "   -------------------- ------------------- 3/6 [sqlalchemy]\n",
      "   -------------------- ------------------- 3/6 [sqlalchemy]\n",
      "   -------------------- ------------------- 3/6 [sqlalchemy]\n",
      "   -------------------- ------------------- 3/6 [sqlalchemy]\n",
      "   -------------------- ------------------- 3/6 [sqlalchemy]\n",
      "   -------------------- ------------------- 3/6 [sqlalchemy]\n",
      "   -------------------- ------------------- 3/6 [sqlalchemy]\n",
      "   -------------------------- ------------- 4/6 [alembic]\n",
      "   -------------------------- ------------- 4/6 [alembic]\n",
      "   -------------------------- ------------- 4/6 [alembic]\n",
      "   -------------------------- ------------- 4/6 [alembic]\n",
      "   -------------------------- ------------- 4/6 [alembic]\n",
      "   -------------------------- ------------- 4/6 [alembic]\n",
      "   -------------------------- ------------- 4/6 [alembic]\n",
      "   -------------------------- ------------- 4/6 [alembic]\n",
      "   -------------------------- ------------- 4/6 [alembic]\n",
      "   -------------------------- ------------- 4/6 [alembic]\n",
      "   -------------------------- ------------- 4/6 [alembic]\n",
      "   -------------------------- ------------- 4/6 [alembic]\n",
      "   -------------------------- ------------- 4/6 [alembic]\n",
      "   -------------------------- ------------- 4/6 [alembic]\n",
      "   --------------------------------- ------ 5/6 [optuna]\n",
      "   --------------------------------- ------ 5/6 [optuna]\n",
      "   --------------------------------- ------ 5/6 [optuna]\n",
      "   --------------------------------- ------ 5/6 [optuna]\n",
      "   --------------------------------- ------ 5/6 [optuna]\n",
      "   --------------------------------- ------ 5/6 [optuna]\n",
      "   --------------------------------- ------ 5/6 [optuna]\n",
      "   --------------------------------- ------ 5/6 [optuna]\n",
      "   --------------------------------- ------ 5/6 [optuna]\n",
      "   --------------------------------- ------ 5/6 [optuna]\n",
      "   --------------------------------- ------ 5/6 [optuna]\n",
      "   --------------------------------- ------ 5/6 [optuna]\n",
      "   --------------------------------- ------ 5/6 [optuna]\n",
      "   --------------------------------- ------ 5/6 [optuna]\n",
      "   --------------------------------- ------ 5/6 [optuna]\n",
      "   --------------------------------- ------ 5/6 [optuna]\n",
      "   --------------------------------- ------ 5/6 [optuna]\n",
      "   --------------------------------- ------ 5/6 [optuna]\n",
      "   --------------------------------- ------ 5/6 [optuna]\n",
      "   --------------------------------- ------ 5/6 [optuna]\n",
      "   --------------------------------- ------ 5/6 [optuna]\n",
      "   --------------------------------- ------ 5/6 [optuna]\n",
      "   --------------------------------- ------ 5/6 [optuna]\n",
      "   --------------------------------- ------ 5/6 [optuna]\n",
      "   --------------------------------- ------ 5/6 [optuna]\n",
      "   --------------------------------- ------ 5/6 [optuna]\n",
      "   --------------------------------- ------ 5/6 [optuna]\n",
      "   --------------------------------- ------ 5/6 [optuna]\n",
      "   --------------------------------- ------ 5/6 [optuna]\n",
      "   --------------------------------- ------ 5/6 [optuna]\n",
      "   --------------------------------- ------ 5/6 [optuna]\n",
      "   --------------------------------- ------ 5/6 [optuna]\n",
      "   --------------------------------- ------ 5/6 [optuna]\n",
      "   --------------------------------- ------ 5/6 [optuna]\n",
      "   --------------------------------- ------ 5/6 [optuna]\n",
      "   --------------------------------- ------ 5/6 [optuna]\n",
      "   --------------------------------- ------ 5/6 [optuna]\n",
      "   --------------------------------- ------ 5/6 [optuna]\n",
      "   ---------------------------------------- 6/6 [optuna]\n",
      "\n",
      "Successfully installed Mako-1.3.10 alembic-1.16.5 colorlog-6.9.0 greenlet-3.2.4 optuna-4.5.0 sqlalchemy-2.0.43\n"
     ]
    },
    {
     "name": "stderr",
     "output_type": "stream",
     "text": [
      "WARNING: Ignoring invalid distribution ~atplotlib (d:\\Real-Estate-Insights-Platform\\.venv\\Lib\\site-packages)\n",
      "WARNING: Ignoring invalid distribution ~atplotlib (d:\\Real-Estate-Insights-Platform\\.venv\\Lib\\site-packages)\n",
      "WARNING: Ignoring invalid distribution ~atplotlib (d:\\Real-Estate-Insights-Platform\\.venv\\Lib\\site-packages)\n"
     ]
    }
   ],
   "source": [
    "!pip install optuna\n"
   ]
  },
  {
   "cell_type": "code",
   "execution_count": 18,
   "id": "9d0c334d",
   "metadata": {},
   "outputs": [
    {
     "name": "stderr",
     "output_type": "stream",
     "text": [
      "d:\\Real-Estate-Insights-Platform\\.venv\\Lib\\site-packages\\tqdm\\auto.py:21: TqdmWarning: IProgress not found. Please update jupyter and ipywidgets. See https://ipywidgets.readthedocs.io/en/stable/user_install.html\n",
      "  from .autonotebook import tqdm as notebook_tqdm\n",
      "[I 2025-10-08 12:37:23,934] A new study created in memory with name: no-name-2a67a0a6-56f9-44cc-b915-42b0563c92dd\n",
      "Best trial: 0. Best value: 0.889161:   2%|▏         | 1/50 [00:01<01:16,  1.55s/it]"
     ]
    },
    {
     "name": "stdout",
     "output_type": "stream",
     "text": [
      "[I 2025-10-08 12:37:25,486] Trial 0 finished with value: 0.8891614493438407 and parameters: {'n_estimators': 300, 'max_depth': 19, 'min_samples_split': 2, 'min_samples_leaf': 3, 'max_features': None, 'bootstrap': True}. Best is trial 0 with value: 0.8891614493438407.\n"
     ]
    },
    {
     "name": "stderr",
     "output_type": "stream",
     "text": [
      "Best trial: 0. Best value: 0.889161:   4%|▍         | 2/50 [00:02<00:59,  1.25s/it]"
     ]
    },
    {
     "name": "stdout",
     "output_type": "stream",
     "text": [
      "[I 2025-10-08 12:37:26,524] Trial 1 finished with value: 0.8794333630284499 and parameters: {'n_estimators': 469, 'max_depth': 23, 'min_samples_split': 9, 'min_samples_leaf': 4, 'max_features': 'sqrt', 'bootstrap': False}. Best is trial 0 with value: 0.8891614493438407.\n"
     ]
    },
    {
     "name": "stderr",
     "output_type": "stream",
     "text": [
      "Best trial: 0. Best value: 0.889161:   6%|▌         | 3/50 [00:03<00:47,  1.00s/it]"
     ]
    },
    {
     "name": "stdout",
     "output_type": "stream",
     "text": [
      "[I 2025-10-08 12:37:27,235] Trial 2 finished with value: 0.8717424380962019 and parameters: {'n_estimators': 343, 'max_depth': 21, 'min_samples_split': 9, 'min_samples_leaf': 5, 'max_features': 'log2', 'bootstrap': True}. Best is trial 0 with value: 0.8891614493438407.\n"
     ]
    },
    {
     "name": "stderr",
     "output_type": "stream",
     "text": [
      "Best trial: 0. Best value: 0.889161:   8%|▊         | 4/50 [00:04<00:52,  1.14s/it]"
     ]
    },
    {
     "name": "stdout",
     "output_type": "stream",
     "text": [
      "[I 2025-10-08 12:37:28,587] Trial 3 finished with value: 0.8826238069621877 and parameters: {'n_estimators': 581, 'max_depth': 38, 'min_samples_split': 7, 'min_samples_leaf': 3, 'max_features': 'log2', 'bootstrap': False}. Best is trial 0 with value: 0.8891614493438407.\n"
     ]
    },
    {
     "name": "stderr",
     "output_type": "stream",
     "text": [
      "Best trial: 0. Best value: 0.889161:  10%|█         | 5/50 [00:05<00:41,  1.09it/s]"
     ]
    },
    {
     "name": "stdout",
     "output_type": "stream",
     "text": [
      "[I 2025-10-08 12:37:29,105] Trial 4 finished with value: 0.884704622834899 and parameters: {'n_estimators': 110, 'max_depth': 10, 'min_samples_split': 6, 'min_samples_leaf': 4, 'max_features': None, 'bootstrap': True}. Best is trial 0 with value: 0.8891614493438407.\n"
     ]
    },
    {
     "name": "stderr",
     "output_type": "stream",
     "text": [
      "Best trial: 0. Best value: 0.889161:  12%|█▏        | 6/50 [00:06<00:49,  1.12s/it]"
     ]
    },
    {
     "name": "stdout",
     "output_type": "stream",
     "text": [
      "[I 2025-10-08 12:37:30,628] Trial 5 finished with value: 0.8867741917855753 and parameters: {'n_estimators': 438, 'max_depth': 33, 'min_samples_split': 3, 'min_samples_leaf': 1, 'max_features': 'sqrt', 'bootstrap': False}. Best is trial 0 with value: 0.8891614493438407.\n"
     ]
    },
    {
     "name": "stderr",
     "output_type": "stream",
     "text": [
      "Best trial: 0. Best value: 0.889161:  14%|█▍        | 7/50 [00:08<00:57,  1.33s/it]"
     ]
    },
    {
     "name": "stdout",
     "output_type": "stream",
     "text": [
      "[I 2025-10-08 12:37:32,390] Trial 6 finished with value: 0.8878206968853728 and parameters: {'n_estimators': 416, 'max_depth': 12, 'min_samples_split': 9, 'min_samples_leaf': 3, 'max_features': None, 'bootstrap': True}. Best is trial 0 with value: 0.8891614493438407.\n"
     ]
    },
    {
     "name": "stderr",
     "output_type": "stream",
     "text": [
      "Best trial: 0. Best value: 0.889161:  16%|█▌        | 8/50 [00:09<00:56,  1.34s/it]"
     ]
    },
    {
     "name": "stdout",
     "output_type": "stream",
     "text": [
      "[I 2025-10-08 12:37:33,752] Trial 7 finished with value: 0.8813263358244148 and parameters: {'n_estimators': 556, 'max_depth': 28, 'min_samples_split': 4, 'min_samples_leaf': 2, 'max_features': 'log2', 'bootstrap': True}. Best is trial 0 with value: 0.8891614493438407.\n"
     ]
    },
    {
     "name": "stderr",
     "output_type": "stream",
     "text": [
      "Best trial: 0. Best value: 0.889161:  18%|█▊        | 9/50 [00:10<00:41,  1.01s/it]"
     ]
    },
    {
     "name": "stdout",
     "output_type": "stream",
     "text": [
      "[I 2025-10-08 12:37:34,027] Trial 8 finished with value: 0.871769112403142 and parameters: {'n_estimators': 105, 'max_depth': 38, 'min_samples_split': 5, 'min_samples_leaf': 5, 'max_features': 'sqrt', 'bootstrap': True}. Best is trial 0 with value: 0.8891614493438407.\n"
     ]
    },
    {
     "name": "stderr",
     "output_type": "stream",
     "text": [
      "Best trial: 0. Best value: 0.889161:  20%|██        | 10/50 [00:10<00:38,  1.03it/s]"
     ]
    },
    {
     "name": "stdout",
     "output_type": "stream",
     "text": [
      "[I 2025-10-08 12:37:34,901] Trial 9 finished with value: 0.8744835625785907 and parameters: {'n_estimators': 443, 'max_depth': 10, 'min_samples_split': 8, 'min_samples_leaf': 3, 'max_features': 'sqrt', 'bootstrap': True}. Best is trial 0 with value: 0.8891614493438407.\n"
     ]
    },
    {
     "name": "stderr",
     "output_type": "stream",
     "text": [
      "Best trial: 0. Best value: 0.889161:  22%|██▏       | 11/50 [00:13<00:55,  1.42s/it]"
     ]
    },
    {
     "name": "stdout",
     "output_type": "stream",
     "text": [
      "[I 2025-10-08 12:37:37,337] Trial 10 finished with value: 0.8192384328773363 and parameters: {'n_estimators': 241, 'max_depth': 47, 'min_samples_split': 2, 'min_samples_leaf': 1, 'max_features': None, 'bootstrap': False}. Best is trial 0 with value: 0.8891614493438407.\n"
     ]
    },
    {
     "name": "stderr",
     "output_type": "stream",
     "text": [
      "Best trial: 0. Best value: 0.889161:  24%|██▍       | 12/50 [00:14<00:53,  1.41s/it]"
     ]
    },
    {
     "name": "stdout",
     "output_type": "stream",
     "text": [
      "[I 2025-10-08 12:37:38,720] Trial 11 finished with value: 0.8877949071910857 and parameters: {'n_estimators': 302, 'max_depth': 16, 'min_samples_split': 10, 'min_samples_leaf': 3, 'max_features': None, 'bootstrap': True}. Best is trial 0 with value: 0.8891614493438407.\n"
     ]
    },
    {
     "name": "stderr",
     "output_type": "stream",
     "text": [
      "Best trial: 0. Best value: 0.889161:  26%|██▌       | 13/50 [00:15<00:44,  1.20s/it]"
     ]
    },
    {
     "name": "stdout",
     "output_type": "stream",
     "text": [
      "[I 2025-10-08 12:37:39,454] Trial 12 finished with value: 0.8578483129386191 and parameters: {'n_estimators': 233, 'max_depth': 5, 'min_samples_split': 2, 'min_samples_leaf': 2, 'max_features': None, 'bootstrap': True}. Best is trial 0 with value: 0.8891614493438407.\n"
     ]
    },
    {
     "name": "stderr",
     "output_type": "stream",
     "text": [
      "Best trial: 13. Best value: 0.89042:  28%|██▊       | 14/50 [00:17<00:56,  1.56s/it]"
     ]
    },
    {
     "name": "stdout",
     "output_type": "stream",
     "text": [
      "[I 2025-10-08 12:37:41,827] Trial 13 finished with value: 0.8904196969966132 and parameters: {'n_estimators': 380, 'max_depth': 18, 'min_samples_split': 6, 'min_samples_leaf': 2, 'max_features': None, 'bootstrap': True}. Best is trial 13 with value: 0.8904196969966132.\n"
     ]
    },
    {
     "name": "stderr",
     "output_type": "stream",
     "text": [
      "Best trial: 14. Best value: 0.89061:  30%|███       | 15/50 [00:19<00:58,  1.66s/it]"
     ]
    },
    {
     "name": "stdout",
     "output_type": "stream",
     "text": [
      "[I 2025-10-08 12:37:43,741] Trial 14 finished with value: 0.890609967226073 and parameters: {'n_estimators': 253, 'max_depth': 19, 'min_samples_split': 5, 'min_samples_leaf': 2, 'max_features': None, 'bootstrap': True}. Best is trial 14 with value: 0.890609967226073.\n"
     ]
    },
    {
     "name": "stderr",
     "output_type": "stream",
     "text": [
      "Best trial: 14. Best value: 0.89061:  32%|███▏      | 16/50 [00:21<00:53,  1.58s/it]"
     ]
    },
    {
     "name": "stdout",
     "output_type": "stream",
     "text": [
      "[I 2025-10-08 12:37:45,113] Trial 15 finished with value: 0.8901501217773177 and parameters: {'n_estimators': 182, 'max_depth': 28, 'min_samples_split': 6, 'min_samples_leaf': 2, 'max_features': None, 'bootstrap': True}. Best is trial 14 with value: 0.890609967226073.\n"
     ]
    },
    {
     "name": "stderr",
     "output_type": "stream",
     "text": [
      "Best trial: 16. Best value: 0.891185:  34%|███▍      | 17/50 [00:24<01:04,  1.96s/it]"
     ]
    },
    {
     "name": "stdout",
     "output_type": "stream",
     "text": [
      "[I 2025-10-08 12:37:47,969] Trial 16 finished with value: 0.8911850968852264 and parameters: {'n_estimators': 373, 'max_depth': 24, 'min_samples_split': 5, 'min_samples_leaf': 1, 'max_features': None, 'bootstrap': True}. Best is trial 16 with value: 0.8911850968852264.\n"
     ]
    },
    {
     "name": "stderr",
     "output_type": "stream",
     "text": [
      "Best trial: 17. Best value: 0.891548:  36%|███▌      | 18/50 [00:28<01:23,  2.61s/it]"
     ]
    },
    {
     "name": "stdout",
     "output_type": "stream",
     "text": [
      "[I 2025-10-08 12:37:52,085] Trial 17 finished with value: 0.8915481051326648 and parameters: {'n_estimators': 512, 'max_depth': 34, 'min_samples_split': 4, 'min_samples_leaf': 1, 'max_features': None, 'bootstrap': True}. Best is trial 17 with value: 0.8915481051326648.\n"
     ]
    },
    {
     "name": "stderr",
     "output_type": "stream",
     "text": [
      "Best trial: 17. Best value: 0.891548:  38%|███▊      | 19/50 [00:33<01:50,  3.57s/it]"
     ]
    },
    {
     "name": "stdout",
     "output_type": "stream",
     "text": [
      "[I 2025-10-08 12:37:57,877] Trial 18 finished with value: 0.8196326085937329 and parameters: {'n_estimators': 509, 'max_depth': 50, 'min_samples_split': 4, 'min_samples_leaf': 1, 'max_features': None, 'bootstrap': False}. Best is trial 17 with value: 0.8915481051326648.\n"
     ]
    },
    {
     "name": "stderr",
     "output_type": "stream",
     "text": [
      "Best trial: 17. Best value: 0.891548:  40%|████      | 20/50 [00:36<01:33,  3.12s/it]"
     ]
    },
    {
     "name": "stdout",
     "output_type": "stream",
     "text": [
      "[I 2025-10-08 12:37:59,975] Trial 19 finished with value: 0.8839222380336199 and parameters: {'n_estimators': 522, 'max_depth': 35, 'min_samples_split': 4, 'min_samples_leaf': 1, 'max_features': 'log2', 'bootstrap': True}. Best is trial 17 with value: 0.8915481051326648.\n"
     ]
    },
    {
     "name": "stderr",
     "output_type": "stream",
     "text": [
      "Best trial: 17. Best value: 0.891548:  42%|████▏     | 21/50 [00:38<01:28,  3.07s/it]"
     ]
    },
    {
     "name": "stdout",
     "output_type": "stream",
     "text": [
      "[I 2025-10-08 12:38:02,901] Trial 20 finished with value: 0.8912157895811716 and parameters: {'n_estimators': 377, 'max_depth': 32, 'min_samples_split': 5, 'min_samples_leaf': 1, 'max_features': None, 'bootstrap': True}. Best is trial 17 with value: 0.8915481051326648.\n"
     ]
    },
    {
     "name": "stderr",
     "output_type": "stream",
     "text": [
      "Best trial: 17. Best value: 0.891548:  44%|████▍     | 22/50 [00:41<01:23,  2.98s/it]"
     ]
    },
    {
     "name": "stdout",
     "output_type": "stream",
     "text": [
      "[I 2025-10-08 12:38:05,693] Trial 21 finished with value: 0.8910803374562694 and parameters: {'n_estimators': 356, 'max_depth': 32, 'min_samples_split': 5, 'min_samples_leaf': 1, 'max_features': None, 'bootstrap': True}. Best is trial 17 with value: 0.8915481051326648.\n"
     ]
    },
    {
     "name": "stderr",
     "output_type": "stream",
     "text": [
      "Best trial: 22. Best value: 0.891608:  46%|████▌     | 23/50 [00:45<01:24,  3.14s/it]"
     ]
    },
    {
     "name": "stdout",
     "output_type": "stream",
     "text": [
      "[I 2025-10-08 12:38:09,195] Trial 22 finished with value: 0.8916080942516154 and parameters: {'n_estimators': 394, 'max_depth': 43, 'min_samples_split': 3, 'min_samples_leaf': 1, 'max_features': None, 'bootstrap': True}. Best is trial 22 with value: 0.8916080942516154.\n"
     ]
    },
    {
     "name": "stderr",
     "output_type": "stream",
     "text": [
      "Best trial: 23. Best value: 0.891712:  48%|████▊     | 24/50 [00:49<01:30,  3.48s/it]"
     ]
    },
    {
     "name": "stdout",
     "output_type": "stream",
     "text": [
      "[I 2025-10-08 12:38:13,455] Trial 23 finished with value: 0.8917122117751237 and parameters: {'n_estimators': 488, 'max_depth': 43, 'min_samples_split': 3, 'min_samples_leaf': 1, 'max_features': None, 'bootstrap': True}. Best is trial 23 with value: 0.8917122117751237.\n"
     ]
    },
    {
     "name": "stderr",
     "output_type": "stream",
     "text": [
      "Best trial: 23. Best value: 0.891712:  50%|█████     | 25/50 [00:53<01:27,  3.51s/it]"
     ]
    },
    {
     "name": "stdout",
     "output_type": "stream",
     "text": [
      "[I 2025-10-08 12:38:17,051] Trial 24 finished with value: 0.8910735900382191 and parameters: {'n_estimators': 483, 'max_depth': 46, 'min_samples_split': 3, 'min_samples_leaf': 2, 'max_features': None, 'bootstrap': True}. Best is trial 23 with value: 0.8917122117751237.\n"
     ]
    },
    {
     "name": "stderr",
     "output_type": "stream",
     "text": [
      "Best trial: 25. Best value: 0.891763:  52%|█████▏    | 26/50 [00:57<01:33,  3.90s/it]"
     ]
    },
    {
     "name": "stdout",
     "output_type": "stream",
     "text": [
      "[I 2025-10-08 12:38:21,866] Trial 25 finished with value: 0.8917630790209475 and parameters: {'n_estimators': 539, 'max_depth': 42, 'min_samples_split': 3, 'min_samples_leaf': 1, 'max_features': None, 'bootstrap': True}. Best is trial 25 with value: 0.8917630790209475.\n"
     ]
    },
    {
     "name": "stderr",
     "output_type": "stream",
     "text": [
      "Best trial: 25. Best value: 0.891763:  54%|█████▍    | 27/50 [01:03<01:42,  4.47s/it]"
     ]
    },
    {
     "name": "stdout",
     "output_type": "stream",
     "text": [
      "[I 2025-10-08 12:38:27,651] Trial 26 finished with value: 0.8253853064855416 and parameters: {'n_estimators': 556, 'max_depth': 42, 'min_samples_split': 3, 'min_samples_leaf': 2, 'max_features': None, 'bootstrap': False}. Best is trial 25 with value: 0.8917630790209475.\n"
     ]
    },
    {
     "name": "stderr",
     "output_type": "stream",
     "text": [
      "Best trial: 27. Best value: 0.891801:  56%|█████▌    | 28/50 [01:09<01:45,  4.78s/it]"
     ]
    },
    {
     "name": "stdout",
     "output_type": "stream",
     "text": [
      "[I 2025-10-08 12:38:33,151] Trial 27 finished with value: 0.8918006852657181 and parameters: {'n_estimators': 596, 'max_depth': 42, 'min_samples_split': 3, 'min_samples_leaf': 1, 'max_features': None, 'bootstrap': True}. Best is trial 27 with value: 0.8918006852657181.\n"
     ]
    },
    {
     "name": "stderr",
     "output_type": "stream",
     "text": [
      "Best trial: 27. Best value: 0.891801:  58%|█████▊    | 29/50 [01:12<01:28,  4.19s/it]"
     ]
    },
    {
     "name": "stdout",
     "output_type": "stream",
     "text": [
      "[I 2025-10-08 12:38:35,982] Trial 28 finished with value: 0.8854032644118526 and parameters: {'n_estimators': 597, 'max_depth': 41, 'min_samples_split': 2, 'min_samples_leaf': 1, 'max_features': 'sqrt', 'bootstrap': True}. Best is trial 27 with value: 0.8918006852657181.\n"
     ]
    },
    {
     "name": "stderr",
     "output_type": "stream",
     "text": [
      "Best trial: 27. Best value: 0.891801:  60%|██████    | 30/50 [01:13<01:08,  3.42s/it]"
     ]
    },
    {
     "name": "stdout",
     "output_type": "stream",
     "text": [
      "[I 2025-10-08 12:38:37,605] Trial 29 finished with value: 0.874594639976624 and parameters: {'n_estimators': 556, 'max_depth': 49, 'min_samples_split': 2, 'min_samples_leaf': 4, 'max_features': 'log2', 'bootstrap': True}. Best is trial 27 with value: 0.8918006852657181.\n"
     ]
    },
    {
     "name": "stderr",
     "output_type": "stream",
     "text": [
      "Best trial: 27. Best value: 0.891801:  62%|██████▏   | 31/50 [01:18<01:11,  3.76s/it]"
     ]
    },
    {
     "name": "stdout",
     "output_type": "stream",
     "text": [
      "[I 2025-10-08 12:38:42,138] Trial 30 finished with value: 0.8910361810538407 and parameters: {'n_estimators': 598, 'max_depth': 45, 'min_samples_split': 3, 'min_samples_leaf': 2, 'max_features': None, 'bootstrap': True}. Best is trial 27 with value: 0.8918006852657181.\n"
     ]
    },
    {
     "name": "stderr",
     "output_type": "stream",
     "text": [
      "Best trial: 27. Best value: 0.891801:  64%|██████▍   | 32/50 [01:22<01:10,  3.92s/it]"
     ]
    },
    {
     "name": "stdout",
     "output_type": "stream",
     "text": [
      "[I 2025-10-08 12:38:46,447] Trial 31 finished with value: 0.8916927192759541 and parameters: {'n_estimators': 482, 'max_depth': 42, 'min_samples_split': 3, 'min_samples_leaf': 1, 'max_features': None, 'bootstrap': True}. Best is trial 27 with value: 0.8918006852657181.\n"
     ]
    },
    {
     "name": "stderr",
     "output_type": "stream",
     "text": [
      "Best trial: 27. Best value: 0.891801:  66%|██████▌   | 33/50 [01:27<01:09,  4.11s/it]"
     ]
    },
    {
     "name": "stdout",
     "output_type": "stream",
     "text": [
      "[I 2025-10-08 12:38:50,987] Trial 32 finished with value: 0.8916703074241642 and parameters: {'n_estimators': 477, 'max_depth': 39, 'min_samples_split': 3, 'min_samples_leaf': 1, 'max_features': None, 'bootstrap': True}. Best is trial 27 with value: 0.8918006852657181.\n"
     ]
    },
    {
     "name": "stderr",
     "output_type": "stream",
     "text": [
      "Best trial: 27. Best value: 0.891801:  68%|██████▊   | 34/50 [01:31<01:07,  4.22s/it]"
     ]
    },
    {
     "name": "stdout",
     "output_type": "stream",
     "text": [
      "[I 2025-10-08 12:38:55,462] Trial 33 finished with value: 0.8915460443638901 and parameters: {'n_estimators': 532, 'max_depth': 44, 'min_samples_split': 4, 'min_samples_leaf': 1, 'max_features': None, 'bootstrap': True}. Best is trial 27 with value: 0.8918006852657181.\n"
     ]
    },
    {
     "name": "stderr",
     "output_type": "stream",
     "text": [
      "Best trial: 27. Best value: 0.891801:  70%|███████   | 35/50 [01:36<01:06,  4.42s/it]"
     ]
    },
    {
     "name": "stdout",
     "output_type": "stream",
     "text": [
      "[I 2025-10-08 12:39:00,357] Trial 34 finished with value: 0.8254286412299514 and parameters: {'n_estimators': 455, 'max_depth': 40, 'min_samples_split': 2, 'min_samples_leaf': 2, 'max_features': None, 'bootstrap': False}. Best is trial 27 with value: 0.8918006852657181.\n"
     ]
    },
    {
     "name": "stderr",
     "output_type": "stream",
     "text": [
      "Best trial: 27. Best value: 0.891801:  72%|███████▏  | 36/50 [01:41<01:02,  4.48s/it]"
     ]
    },
    {
     "name": "stdout",
     "output_type": "stream",
     "text": [
      "[I 2025-10-08 12:39:04,985] Trial 35 finished with value: 0.891705098536981 and parameters: {'n_estimators': 497, 'max_depth': 36, 'min_samples_split': 3, 'min_samples_leaf': 1, 'max_features': None, 'bootstrap': True}. Best is trial 27 with value: 0.8918006852657181.\n"
     ]
    },
    {
     "name": "stderr",
     "output_type": "stream",
     "text": [
      "Best trial: 27. Best value: 0.891801:  74%|███████▍  | 37/50 [01:43<00:48,  3.73s/it]"
     ]
    },
    {
     "name": "stdout",
     "output_type": "stream",
     "text": [
      "[I 2025-10-08 12:39:06,956] Trial 36 finished with value: 0.8810513284983068 and parameters: {'n_estimators': 563, 'max_depth': 36, 'min_samples_split': 7, 'min_samples_leaf': 1, 'max_features': 'log2', 'bootstrap': True}. Best is trial 27 with value: 0.8918006852657181.\n"
     ]
    },
    {
     "name": "stderr",
     "output_type": "stream",
     "text": [
      "Best trial: 27. Best value: 0.891801:  76%|███████▌  | 38/50 [01:45<00:38,  3.25s/it]"
     ]
    },
    {
     "name": "stdout",
     "output_type": "stream",
     "text": [
      "[I 2025-10-08 12:39:09,072] Trial 37 finished with value: 0.8800955072493464 and parameters: {'n_estimators': 540, 'max_depth': 37, 'min_samples_split': 4, 'min_samples_leaf': 4, 'max_features': 'sqrt', 'bootstrap': False}. Best is trial 27 with value: 0.8918006852657181.\n"
     ]
    },
    {
     "name": "stderr",
     "output_type": "stream",
     "text": [
      "Best trial: 27. Best value: 0.891801:  78%|███████▊  | 39/50 [01:48<00:36,  3.33s/it]"
     ]
    },
    {
     "name": "stdout",
     "output_type": "stream",
     "text": [
      "[I 2025-10-08 12:39:12,611] Trial 38 finished with value: 0.8911099444535664 and parameters: {'n_estimators': 418, 'max_depth': 30, 'min_samples_split': 2, 'min_samples_leaf': 2, 'max_features': None, 'bootstrap': True}. Best is trial 27 with value: 0.8918006852657181.\n"
     ]
    },
    {
     "name": "stderr",
     "output_type": "stream",
     "text": [
      "Best trial: 27. Best value: 0.891801:  80%|████████  | 40/50 [01:50<00:29,  2.98s/it]"
     ]
    },
    {
     "name": "stdout",
     "output_type": "stream",
     "text": [
      "[I 2025-10-08 12:39:14,755] Trial 39 finished with value: 0.8848008184941107 and parameters: {'n_estimators': 506, 'max_depth': 48, 'min_samples_split': 3, 'min_samples_leaf': 1, 'max_features': 'log2', 'bootstrap': True}. Best is trial 27 with value: 0.8918006852657181.\n"
     ]
    },
    {
     "name": "stderr",
     "output_type": "stream",
     "text": [
      "Best trial: 27. Best value: 0.891801:  82%|████████▏ | 41/50 [01:52<00:23,  2.63s/it]"
     ]
    },
    {
     "name": "stdout",
     "output_type": "stream",
     "text": [
      "[I 2025-10-08 12:39:16,570] Trial 40 finished with value: 0.8719320181785208 and parameters: {'n_estimators': 577, 'max_depth': 25, 'min_samples_split': 4, 'min_samples_leaf': 5, 'max_features': 'sqrt', 'bootstrap': True}. Best is trial 27 with value: 0.8918006852657181.\n"
     ]
    },
    {
     "name": "stderr",
     "output_type": "stream",
     "text": [
      "Best trial: 27. Best value: 0.891801:  84%|████████▍ | 42/50 [01:57<00:26,  3.26s/it]"
     ]
    },
    {
     "name": "stdout",
     "output_type": "stream",
     "text": [
      "[I 2025-10-08 12:39:21,292] Trial 41 finished with value: 0.8917228391123688 and parameters: {'n_estimators': 489, 'max_depth': 42, 'min_samples_split': 3, 'min_samples_leaf': 1, 'max_features': None, 'bootstrap': True}. Best is trial 27 with value: 0.8918006852657181.\n"
     ]
    },
    {
     "name": "stderr",
     "output_type": "stream",
     "text": [
      "Best trial: 27. Best value: 0.891801:  86%|████████▌ | 43/50 [02:01<00:25,  3.67s/it]"
     ]
    },
    {
     "name": "stdout",
     "output_type": "stream",
     "text": [
      "[I 2025-10-08 12:39:25,913] Trial 42 finished with value: 0.8917080289564364 and parameters: {'n_estimators': 498, 'max_depth': 39, 'min_samples_split': 3, 'min_samples_leaf': 1, 'max_features': None, 'bootstrap': True}. Best is trial 27 with value: 0.8918006852657181.\n"
     ]
    },
    {
     "name": "stderr",
     "output_type": "stream",
     "text": [
      "Best trial: 43. Best value: 0.892011:  88%|████████▊ | 44/50 [02:06<00:23,  3.97s/it]"
     ]
    },
    {
     "name": "stdout",
     "output_type": "stream",
     "text": [
      "[I 2025-10-08 12:39:30,599] Trial 43 finished with value: 0.892010945276871 and parameters: {'n_estimators': 454, 'max_depth': 39, 'min_samples_split': 2, 'min_samples_leaf': 1, 'max_features': None, 'bootstrap': True}. Best is trial 43 with value: 0.892010945276871.\n"
     ]
    },
    {
     "name": "stderr",
     "output_type": "stream",
     "text": [
      "Best trial: 43. Best value: 0.892011:  90%|█████████ | 45/50 [02:11<00:20,  4.12s/it]"
     ]
    },
    {
     "name": "stdout",
     "output_type": "stream",
     "text": [
      "[I 2025-10-08 12:39:35,080] Trial 44 finished with value: 0.8918603196598027 and parameters: {'n_estimators': 427, 'max_depth': 46, 'min_samples_split': 2, 'min_samples_leaf': 1, 'max_features': None, 'bootstrap': True}. Best is trial 43 with value: 0.892010945276871.\n"
     ]
    },
    {
     "name": "stderr",
     "output_type": "stream",
     "text": [
      "Best trial: 43. Best value: 0.892011:  92%|█████████▏| 46/50 [02:14<00:15,  3.88s/it]"
     ]
    },
    {
     "name": "stdout",
     "output_type": "stream",
     "text": [
      "[I 2025-10-08 12:39:38,373] Trial 45 finished with value: 0.8894781557452699 and parameters: {'n_estimators': 456, 'max_depth': 46, 'min_samples_split': 2, 'min_samples_leaf': 3, 'max_features': None, 'bootstrap': True}. Best is trial 43 with value: 0.892010945276871.\n"
     ]
    },
    {
     "name": "stderr",
     "output_type": "stream",
     "text": [
      "Best trial: 43. Best value: 0.892011:  94%|█████████▍| 47/50 [02:20<00:13,  4.60s/it]"
     ]
    },
    {
     "name": "stdout",
     "output_type": "stream",
     "text": [
      "[I 2025-10-08 12:39:44,651] Trial 46 finished with value: 0.8192304427046835 and parameters: {'n_estimators': 424, 'max_depth': 48, 'min_samples_split': 2, 'min_samples_leaf': 1, 'max_features': None, 'bootstrap': False}. Best is trial 43 with value: 0.892010945276871.\n"
     ]
    },
    {
     "name": "stderr",
     "output_type": "stream",
     "text": [
      "Best trial: 43. Best value: 0.892011:  96%|█████████▌| 48/50 [02:23<00:08,  4.14s/it]"
     ]
    },
    {
     "name": "stdout",
     "output_type": "stream",
     "text": [
      "[I 2025-10-08 12:39:47,719] Trial 47 finished with value: 0.8908607929124035 and parameters: {'n_estimators': 338, 'max_depth': 45, 'min_samples_split': 2, 'min_samples_leaf': 2, 'max_features': None, 'bootstrap': True}. Best is trial 43 with value: 0.892010945276871.\n"
     ]
    },
    {
     "name": "stderr",
     "output_type": "stream",
     "text": [
      "Best trial: 43. Best value: 0.892011:  98%|█████████▊| 49/50 [02:27<00:04,  4.05s/it]"
     ]
    },
    {
     "name": "stdout",
     "output_type": "stream",
     "text": [
      "[I 2025-10-08 12:39:51,561] Trial 48 finished with value: 0.8887476954238682 and parameters: {'n_estimators': 534, 'max_depth': 40, 'min_samples_split': 10, 'min_samples_leaf': 2, 'max_features': None, 'bootstrap': True}. Best is trial 43 with value: 0.892010945276871.\n"
     ]
    },
    {
     "name": "stderr",
     "output_type": "stream",
     "text": [
      "Best trial: 43. Best value: 0.892011: 100%|██████████| 50/50 [02:29<00:00,  3.00s/it]\n"
     ]
    },
    {
     "name": "stdout",
     "output_type": "stream",
     "text": [
      "[I 2025-10-08 12:39:53,776] Trial 49 finished with value: 0.8851620378882712 and parameters: {'n_estimators': 442, 'max_depth': 50, 'min_samples_split': 2, 'min_samples_leaf': 1, 'max_features': 'sqrt', 'bootstrap': True}. Best is trial 43 with value: 0.892010945276871.\n",
      "✅ Best R² Score: 0.892010945276871\n",
      "🏆 Best Parameters:\n",
      "   n_estimators: 454\n",
      "   max_depth: 39\n",
      "   min_samples_split: 2\n",
      "   min_samples_leaf: 1\n",
      "   max_features: None\n",
      "   bootstrap: True\n",
      "🎯 Final model trained successfully!\n"
     ]
    }
   ],
   "source": [
    "import optuna\n",
    "from sklearn.model_selection import cross_val_score, KFold\n",
    "from sklearn.ensemble import RandomForestRegressor\n",
    "from sklearn.pipeline import Pipeline\n",
    "from sklearn.compose import ColumnTransformer\n",
    "from sklearn.preprocessing import StandardScaler, OneHotEncoder\n",
    "import category_encoders as ce\n",
    "import numpy as np\n",
    "\n",
    "# ==========================\n",
    "# 1️⃣ Preprocessing pipeline\n",
    "# ==========================\n",
    "\n",
    "columns_to_encode = ['property_type', 'sector', 'balcony', 'furnishing_type', 'luxury_category', 'floor_category']\n",
    "\n",
    "preprocessor = ColumnTransformer(\n",
    "    transformers=[\n",
    "        ('num', StandardScaler(), ['bedRoom', 'bathroom', 'built_up_area', 'servant room', 'store room']),\n",
    "        ('cat', OneHotEncoder(drop='first', sparse_output=False), \n",
    "         ['property_type', 'balcony', 'furnishing_type', 'luxury_category', 'floor_category']),\n",
    "        ('target_enc', ce.TargetEncoder(), ['sector'])\n",
    "    ],\n",
    "    remainder='drop'\n",
    ")\n",
    "\n",
    "# ==========================================================\n",
    "# 2️⃣ Define Objective Function for Optuna Optimization\n",
    "# ==========================================================\n",
    "def objective(trial):\n",
    "    # Suggest hyperparameters\n",
    "    n_estimators = trial.suggest_int('n_estimators', 100, 600)\n",
    "    max_depth = trial.suggest_int('max_depth', 5, 50)\n",
    "    min_samples_split = trial.suggest_int('min_samples_split', 2, 10)\n",
    "    min_samples_leaf = trial.suggest_int('min_samples_leaf', 1, 5)\n",
    "    max_features = trial.suggest_categorical('max_features', ['sqrt', 'log2', None])\n",
    "    bootstrap = trial.suggest_categorical('bootstrap', [True, False])\n",
    "    \n",
    "    # Build pipeline\n",
    "    pipeline = Pipeline([\n",
    "        ('preprocessor', preprocessor),\n",
    "        ('regressor', RandomForestRegressor(\n",
    "            n_estimators=n_estimators,\n",
    "            max_depth=max_depth,\n",
    "            min_samples_split=min_samples_split,\n",
    "            min_samples_leaf=min_samples_leaf,\n",
    "            max_features=max_features,\n",
    "            bootstrap=bootstrap,\n",
    "            random_state=42,\n",
    "            n_jobs=-1\n",
    "        ))\n",
    "    ])\n",
    "    \n",
    "    # KFold cross-validation\n",
    "    kf = KFold(n_splits=5, shuffle=True, random_state=42)\n",
    "    scores = cross_val_score(pipeline, X, np.log1p(y), cv=kf, scoring='r2', n_jobs=-1)\n",
    "    \n",
    "    # Return mean CV R² score\n",
    "    return np.mean(scores)\n",
    "\n",
    "# =================================\n",
    "# 3️⃣ Run the Optuna Optimization\n",
    "# =================================\n",
    "study = optuna.create_study(direction='maximize')\n",
    "study.optimize(objective, n_trials=50, show_progress_bar=True)  # you can increase n_trials to 100+ for best tuning\n",
    "\n",
    "# ================================\n",
    "# 4️⃣ Display Best Results\n",
    "# ================================\n",
    "print(\"✅ Best R² Score:\", study.best_value)\n",
    "print(\"🏆 Best Parameters:\")\n",
    "for key, value in study.best_params.items():\n",
    "    print(f\"   {key}: {value}\")\n",
    "\n",
    "# ================================\n",
    "# 5️⃣ Train Final Model with Best Params\n",
    "# ================================\n",
    "best_params = study.best_params\n",
    "final_model = Pipeline([\n",
    "    ('preprocessor', preprocessor),\n",
    "    ('regressor', RandomForestRegressor(**best_params, random_state=42, n_jobs=-1))\n",
    "])\n",
    "\n",
    "final_model.fit(X, np.log1p(y))\n",
    "print(\"🎯 Final model trained successfully!\")\n"
   ]
  },
  {
   "cell_type": "markdown",
   "id": "ff1b5173",
   "metadata": {},
   "source": [
    "## Xgboost Model Hyperparameter Tunning "
   ]
  },
  {
   "cell_type": "code",
   "execution_count": 30,
   "id": "2313c5b5",
   "metadata": {},
   "outputs": [
    {
     "name": "stderr",
     "output_type": "stream",
     "text": [
      "[I 2025-10-08 14:29:57,720] A new study created in memory with name: no-name-de710b45-df14-49b1-858e-fae349127327\n",
      "Best trial: 0. Best value: 0.847407:   2%|▏         | 1/60 [00:05<05:11,  5.27s/it]"
     ]
    },
    {
     "name": "stdout",
     "output_type": "stream",
     "text": [
      "[I 2025-10-08 14:30:02,993] Trial 0 finished with value: 0.8474074814261838 and parameters: {'n_estimators': 323, 'learning_rate': 0.017857194546597326, 'max_depth': 4, 'subsample': 0.7587320679123604, 'colsample_bytree': 0.8902615834184239, 'gamma': 3.7812515374032563, 'reg_alpha': 1.348171669294354, 'reg_lambda': 2.681735921638654, 'min_child_weight': 2}. Best is trial 0 with value: 0.8474074814261838.\n"
     ]
    },
    {
     "name": "stderr",
     "output_type": "stream",
     "text": [
      "Best trial: 1. Best value: 0.86764:   3%|▎         | 2/60 [00:08<04:06,  4.24s/it] "
     ]
    },
    {
     "name": "stdout",
     "output_type": "stream",
     "text": [
      "[I 2025-10-08 14:30:06,516] Trial 1 finished with value: 0.8676396058895495 and parameters: {'n_estimators': 765, 'learning_rate': 0.04216755838959153, 'max_depth': 9, 'subsample': 0.5991732244452963, 'colsample_bytree': 0.7368181707490821, 'gamma': 0.871891793808332, 'reg_alpha': 1.4771437345397747, 'reg_lambda': 0.47321987032938173, 'min_child_weight': 3}. Best is trial 1 with value: 0.8676396058895495.\n"
     ]
    },
    {
     "name": "stderr",
     "output_type": "stream",
     "text": [
      "Best trial: 1. Best value: 0.86764:   5%|▌         | 3/60 [00:11<03:20,  3.51s/it]"
     ]
    },
    {
     "name": "stdout",
     "output_type": "stream",
     "text": [
      "[I 2025-10-08 14:30:09,153] Trial 2 finished with value: 0.8598916622667495 and parameters: {'n_estimators': 843, 'learning_rate': 0.05618443716019895, 'max_depth': 4, 'subsample': 0.5952716252709139, 'colsample_bytree': 0.6450044492382156, 'gamma': 1.9220277662484286, 'reg_alpha': 1.3351865777242111, 'reg_lambda': 0.015720063435558873, 'min_child_weight': 2}. Best is trial 1 with value: 0.8676396058895495.\n"
     ]
    },
    {
     "name": "stderr",
     "output_type": "stream",
     "text": [
      "Best trial: 1. Best value: 0.86764:   7%|▋         | 4/60 [00:11<02:04,  2.22s/it]"
     ]
    },
    {
     "name": "stdout",
     "output_type": "stream",
     "text": [
      "[I 2025-10-08 14:30:09,407] Trial 3 finished with value: 0.8515742925949598 and parameters: {'n_estimators': 300, 'learning_rate': 0.026819677065767038, 'max_depth': 6, 'subsample': 0.7108719958245977, 'colsample_bytree': 0.6629802001434155, 'gamma': 3.706443789872387, 'reg_alpha': 0.15491963662431196, 'reg_lambda': 0.3370799303187333, 'min_child_weight': 9}. Best is trial 1 with value: 0.8676396058895495.\n"
     ]
    },
    {
     "name": "stderr",
     "output_type": "stream",
     "text": [
      "Best trial: 1. Best value: 0.86764:   8%|▊         | 5/60 [00:12<01:27,  1.58s/it]"
     ]
    },
    {
     "name": "stdout",
     "output_type": "stream",
     "text": [
      "[I 2025-10-08 14:30:09,860] Trial 4 finished with value: 0.8665926633912825 and parameters: {'n_estimators': 875, 'learning_rate': 0.032634138982762025, 'max_depth': 6, 'subsample': 0.6525326432377698, 'colsample_bytree': 0.5844192590194965, 'gamma': 1.3215977274294528, 'reg_alpha': 0.2688900840157673, 'reg_lambda': 0.983043580522555, 'min_child_weight': 10}. Best is trial 1 with value: 0.8676396058895495.\n"
     ]
    },
    {
     "name": "stderr",
     "output_type": "stream",
     "text": [
      "Best trial: 1. Best value: 0.86764:  10%|█         | 6/60 [00:12<01:00,  1.11s/it]"
     ]
    },
    {
     "name": "stdout",
     "output_type": "stream",
     "text": [
      "[I 2025-10-08 14:30:10,063] Trial 5 finished with value: 0.8530428859081096 and parameters: {'n_estimators': 276, 'learning_rate': 0.1304358162490694, 'max_depth': 7, 'subsample': 0.6447287310579299, 'colsample_bytree': 0.8917800876776756, 'gamma': 3.414048104632762, 'reg_alpha': 0.10111328374141726, 'reg_lambda': 0.5402603259246764, 'min_child_weight': 9}. Best is trial 1 with value: 0.8676396058895495.\n"
     ]
    },
    {
     "name": "stderr",
     "output_type": "stream",
     "text": [
      "Best trial: 1. Best value: 0.86764:  12%|█▏        | 7/60 [00:12<00:46,  1.13it/s]"
     ]
    },
    {
     "name": "stdout",
     "output_type": "stream",
     "text": [
      "[I 2025-10-08 14:30:10,480] Trial 6 finished with value: 0.8523137584269996 and parameters: {'n_estimators': 756, 'learning_rate': 0.011058964081468637, 'max_depth': 7, 'subsample': 0.7398553251803837, 'colsample_bytree': 0.5817845054494852, 'gamma': 3.517758710318759, 'reg_alpha': 0.5383844416168833, 'reg_lambda': 1.195667773355185, 'min_child_weight': 9}. Best is trial 1 with value: 0.8676396058895495.\n"
     ]
    },
    {
     "name": "stderr",
     "output_type": "stream",
     "text": [
      "Best trial: 1. Best value: 0.86764:  13%|█▎        | 8/60 [00:13<00:38,  1.35it/s]"
     ]
    },
    {
     "name": "stdout",
     "output_type": "stream",
     "text": [
      "[I 2025-10-08 14:30:10,913] Trial 7 finished with value: 0.8471063060324864 and parameters: {'n_estimators': 841, 'learning_rate': 0.030768716941527923, 'max_depth': 3, 'subsample': 0.5695375974915547, 'colsample_bytree': 0.5833155945643322, 'gamma': 3.7653758362706546, 'reg_alpha': 1.6060475495045947, 'reg_lambda': 0.5709451401224787, 'min_child_weight': 6}. Best is trial 1 with value: 0.8676396058895495.\n"
     ]
    },
    {
     "name": "stderr",
     "output_type": "stream",
     "text": [
      "Best trial: 1. Best value: 0.86764:  15%|█▌        | 9/60 [00:13<00:32,  1.57it/s]"
     ]
    },
    {
     "name": "stdout",
     "output_type": "stream",
     "text": [
      "[I 2025-10-08 14:30:11,324] Trial 8 finished with value: 0.8471247338270755 and parameters: {'n_estimators': 799, 'learning_rate': 0.10097651697854884, 'max_depth': 12, 'subsample': 0.6225952664638295, 'colsample_bytree': 0.8200837701848585, 'gamma': 4.82057740413081, 'reg_alpha': 0.6469379964176902, 'reg_lambda': 1.54192241608694, 'min_child_weight': 10}. Best is trial 1 with value: 0.8676396058895495.\n"
     ]
    },
    {
     "name": "stderr",
     "output_type": "stream",
     "text": [
      "Best trial: 1. Best value: 0.86764:  17%|█▋        | 10/60 [00:14<00:29,  1.72it/s]"
     ]
    },
    {
     "name": "stdout",
     "output_type": "stream",
     "text": [
      "[I 2025-10-08 14:30:11,782] Trial 9 finished with value: 0.8531533295873448 and parameters: {'n_estimators': 740, 'learning_rate': 0.1259038392338933, 'max_depth': 12, 'subsample': 0.6572134475986311, 'colsample_bytree': 0.7505167860398942, 'gamma': 3.4734438409027963, 'reg_alpha': 0.34570995268732596, 'reg_lambda': 0.323910202150119, 'min_child_weight': 2}. Best is trial 1 with value: 0.8676396058895495.\n"
     ]
    },
    {
     "name": "stderr",
     "output_type": "stream",
     "text": [
      "Best trial: 10. Best value: 0.883979:  18%|█▊        | 11/60 [00:14<00:25,  1.96it/s]"
     ]
    },
    {
     "name": "stdout",
     "output_type": "stream",
     "text": [
      "[I 2025-10-08 14:30:12,131] Trial 10 finished with value: 0.8839785780745306 and parameters: {'n_estimators': 563, 'learning_rate': 0.24724125324156954, 'max_depth': 10, 'subsample': 0.9004698169629021, 'colsample_bytree': 0.9949276962234012, 'gamma': 0.05147817211875061, 'reg_alpha': 1.9846391879963705, 'reg_lambda': 1.9467085084401512, 'min_child_weight': 5}. Best is trial 10 with value: 0.8839785780745306.\n"
     ]
    },
    {
     "name": "stderr",
     "output_type": "stream",
     "text": [
      "Best trial: 10. Best value: 0.883979:  20%|██        | 12/60 [00:14<00:21,  2.20it/s]"
     ]
    },
    {
     "name": "stdout",
     "output_type": "stream",
     "text": [
      "[I 2025-10-08 14:30:12,454] Trial 11 finished with value: 0.8758945744797272 and parameters: {'n_estimators': 544, 'learning_rate': 0.23366547030349633, 'max_depth': 10, 'subsample': 0.9215275639777548, 'colsample_bytree': 0.9711490066412961, 'gamma': 0.15565064660646188, 'reg_alpha': 1.9946717316500158, 'reg_lambda': 2.054121456196705, 'min_child_weight': 5}. Best is trial 10 with value: 0.8839785780745306.\n"
     ]
    },
    {
     "name": "stderr",
     "output_type": "stream",
     "text": [
      "Best trial: 10. Best value: 0.883979:  22%|██▏       | 13/60 [00:15<00:19,  2.43it/s]"
     ]
    },
    {
     "name": "stdout",
     "output_type": "stream",
     "text": [
      "[I 2025-10-08 14:30:12,767] Trial 12 finished with value: 0.8764753217271958 and parameters: {'n_estimators': 507, 'learning_rate': 0.22537147167427202, 'max_depth': 10, 'subsample': 0.930550177428284, 'colsample_bytree': 0.9942222721210053, 'gamma': 0.16236124861578505, 'reg_alpha': 1.972529610847237, 'reg_lambda': 2.18921370906247, 'min_child_weight': 5}. Best is trial 10 with value: 0.8839785780745306.\n"
     ]
    },
    {
     "name": "stderr",
     "output_type": "stream",
     "text": [
      "Best trial: 13. Best value: 0.885926:  23%|██▎       | 14/60 [00:15<00:18,  2.56it/s]"
     ]
    },
    {
     "name": "stdout",
     "output_type": "stream",
     "text": [
      "[I 2025-10-08 14:30:13,114] Trial 13 finished with value: 0.885926320208873 and parameters: {'n_estimators': 507, 'learning_rate': 0.2878258898007742, 'max_depth': 10, 'subsample': 0.9853386379727962, 'colsample_bytree': 0.9998405789445018, 'gamma': 0.024655778737683133, 'reg_alpha': 1.993747224177067, 'reg_lambda': 2.301386668939396, 'min_child_weight': 6}. Best is trial 13 with value: 0.885926320208873.\n"
     ]
    },
    {
     "name": "stderr",
     "output_type": "stream",
     "text": [
      "Best trial: 13. Best value: 0.885926:  25%|██▌       | 15/60 [00:15<00:15,  2.84it/s]"
     ]
    },
    {
     "name": "stdout",
     "output_type": "stream",
     "text": [
      "[I 2025-10-08 14:30:13,372] Trial 14 finished with value: 0.8664694822446636 and parameters: {'n_estimators': 441, 'learning_rate': 0.28855560965087307, 'max_depth': 9, 'subsample': 0.9989779150527486, 'colsample_bytree': 0.9302630033482655, 'gamma': 0.8633706402022023, 'reg_alpha': 1.7270212440382475, 'reg_lambda': 2.649679593232185, 'min_child_weight': 7}. Best is trial 13 with value: 0.885926320208873.\n"
     ]
    },
    {
     "name": "stderr",
     "output_type": "stream",
     "text": [
      "Best trial: 13. Best value: 0.885926:  27%|██▋       | 16/60 [00:15<00:14,  3.00it/s]"
     ]
    },
    {
     "name": "stdout",
     "output_type": "stream",
     "text": [
      "[I 2025-10-08 14:30:13,665] Trial 15 finished with value: 0.8593044998963524 and parameters: {'n_estimators': 440, 'learning_rate': 0.07640291250685466, 'max_depth': 11, 'subsample': 0.8368714360744267, 'colsample_bytree': 0.834767446986954, 'gamma': 2.382007529211629, 'reg_alpha': 1.0216581763662695, 'reg_lambda': 1.9273523344360681, 'min_child_weight': 4}. Best is trial 13 with value: 0.885926320208873.\n"
     ]
    },
    {
     "name": "stderr",
     "output_type": "stream",
     "text": [
      "Best trial: 13. Best value: 0.885926:  28%|██▊       | 17/60 [00:16<00:16,  2.66it/s]"
     ]
    },
    {
     "name": "stdout",
     "output_type": "stream",
     "text": [
      "[I 2025-10-08 14:30:14,134] Trial 16 finished with value: 0.863199980470341 and parameters: {'n_estimators': 999, 'learning_rate': 0.18312351937166024, 'max_depth': 9, 'subsample': 0.5050813335040638, 'colsample_bytree': 0.5079930114318219, 'gamma': 1.0327538049526703, 'reg_alpha': 0.9566602881560511, 'reg_lambda': 2.9530578636144265, 'min_child_weight': 7}. Best is trial 13 with value: 0.885926320208873.\n"
     ]
    },
    {
     "name": "stderr",
     "output_type": "stream",
     "text": [
      "Best trial: 13. Best value: 0.885926:  30%|███       | 18/60 [00:16<00:16,  2.61it/s]"
     ]
    },
    {
     "name": "stdout",
     "output_type": "stream",
     "text": [
      "[I 2025-10-08 14:30:14,537] Trial 17 finished with value: 0.8802562196703392 and parameters: {'n_estimators': 657, 'learning_rate': 0.1708460801910371, 'max_depth': 10, 'subsample': 0.9987947018510908, 'colsample_bytree': 0.946809252247715, 'gamma': 0.1149870553800135, 'reg_alpha': 1.7587668906705507, 'reg_lambda': 1.5833659678821412, 'min_child_weight': 6}. Best is trial 13 with value: 0.885926320208873.\n"
     ]
    },
    {
     "name": "stderr",
     "output_type": "stream",
     "text": [
      "Best trial: 13. Best value: 0.885926:  32%|███▏      | 19/60 [00:17<00:15,  2.72it/s]"
     ]
    },
    {
     "name": "stdout",
     "output_type": "stream",
     "text": [
      "[I 2025-10-08 14:30:14,868] Trial 18 finished with value: 0.8621928347289801 and parameters: {'n_estimators': 646, 'learning_rate': 0.2838180906254817, 'max_depth': 8, 'subsample': 0.8505429697097747, 'colsample_bytree': 0.8483442170238478, 'gamma': 1.7666881814202227, 'reg_alpha': 1.157660627298779, 'reg_lambda': 2.3024478020570673, 'min_child_weight': 7}. Best is trial 13 with value: 0.885926320208873.\n"
     ]
    },
    {
     "name": "stderr",
     "output_type": "stream",
     "text": [
      "Best trial: 13. Best value: 0.885926:  33%|███▎      | 20/60 [00:17<00:13,  2.94it/s]"
     ]
    },
    {
     "name": "stdout",
     "output_type": "stream",
     "text": [
      "[I 2025-10-08 14:30:15,141] Trial 19 finished with value: 0.8724801118995135 and parameters: {'n_estimators': 385, 'learning_rate': 0.06791348716652114, 'max_depth': 11, 'subsample': 0.8979195593652406, 'colsample_bytree': 0.764530493946272, 'gamma': 0.5230642340192257, 'reg_alpha': 1.7791352831820295, 'reg_lambda': 2.455893093867445, 'min_child_weight': 4}. Best is trial 13 with value: 0.885926320208873.\n"
     ]
    },
    {
     "name": "stderr",
     "output_type": "stream",
     "text": [
      "Best trial: 13. Best value: 0.885926:  35%|███▌      | 21/60 [00:17<00:13,  2.96it/s]"
     ]
    },
    {
     "name": "stdout",
     "output_type": "stream",
     "text": [
      "[I 2025-10-08 14:30:15,478] Trial 20 finished with value: 0.8628721471817578 and parameters: {'n_estimators': 570, 'learning_rate': 0.10598611352223081, 'max_depth': 8, 'subsample': 0.8171787436485457, 'colsample_bytree': 0.9131884934387177, 'gamma': 1.5152884060874552, 'reg_alpha': 1.8938288619027586, 'reg_lambda': 1.7717678356510442, 'min_child_weight': 1}. Best is trial 13 with value: 0.885926320208873.\n"
     ]
    },
    {
     "name": "stderr",
     "output_type": "stream",
     "text": [
      "Best trial: 13. Best value: 0.885926:  37%|███▋      | 22/60 [00:18<00:12,  2.95it/s]"
     ]
    },
    {
     "name": "stdout",
     "output_type": "stream",
     "text": [
      "[I 2025-10-08 14:30:15,817] Trial 21 finished with value: 0.8810112670725092 and parameters: {'n_estimators': 651, 'learning_rate': 0.16769117417268198, 'max_depth': 10, 'subsample': 0.9699307421002502, 'colsample_bytree': 0.9581539253146383, 'gamma': 0.11061648520971366, 'reg_alpha': 1.644503564114832, 'reg_lambda': 1.5935982319872743, 'min_child_weight': 6}. Best is trial 13 with value: 0.885926320208873.\n"
     ]
    },
    {
     "name": "stderr",
     "output_type": "stream",
     "text": [
      "Best trial: 13. Best value: 0.885926:  38%|███▊      | 23/60 [00:18<00:12,  2.91it/s]"
     ]
    },
    {
     "name": "stdout",
     "output_type": "stream",
     "text": [
      "[I 2025-10-08 14:30:16,172] Trial 22 finished with value: 0.8716846683106295 and parameters: {'n_estimators': 654, 'learning_rate': 0.17003680560575934, 'max_depth': 11, 'subsample': 0.9568727040017092, 'colsample_bytree': 0.9985705255750446, 'gamma': 0.5610671516423449, 'reg_alpha': 1.6160976390020667, 'reg_lambda': 1.2510051047061514, 'min_child_weight': 6}. Best is trial 13 with value: 0.885926320208873.\n"
     ]
    },
    {
     "name": "stderr",
     "output_type": "stream",
     "text": [
      "Best trial: 13. Best value: 0.885926:  40%|████      | 24/60 [00:18<00:11,  3.01it/s]"
     ]
    },
    {
     "name": "stdout",
     "output_type": "stream",
     "text": [
      "[I 2025-10-08 14:30:16,480] Trial 23 finished with value: 0.8733462400493792 and parameters: {'n_estimators': 503, 'learning_rate': 0.20982626840058732, 'max_depth': 10, 'subsample': 0.8870467443145527, 'colsample_bytree': 0.954863296911414, 'gamma': 0.3314302036318134, 'reg_alpha': 1.8566363581414564, 'reg_lambda': 1.8163283214237596, 'min_child_weight': 4}. Best is trial 13 with value: 0.885926320208873.\n"
     ]
    },
    {
     "name": "stderr",
     "output_type": "stream",
     "text": [
      "Best trial: 13. Best value: 0.885926:  42%|████▏     | 25/60 [00:19<00:11,  3.03it/s]"
     ]
    },
    {
     "name": "stdout",
     "output_type": "stream",
     "text": [
      "[I 2025-10-08 14:30:16,803] Trial 24 finished with value: 0.8694981282139012 and parameters: {'n_estimators': 604, 'learning_rate': 0.14798642537265927, 'max_depth': 12, 'subsample': 0.9669156708501389, 'colsample_bytree': 0.8681503891360459, 'gamma': 0.8296974217034097, 'reg_alpha': 1.5275069736996154, 'reg_lambda': 1.2523915661006249, 'min_child_weight': 8}. Best is trial 13 with value: 0.885926320208873.\n"
     ]
    },
    {
     "name": "stderr",
     "output_type": "stream",
     "text": [
      "Best trial: 25. Best value: 0.890003:  43%|████▎     | 26/60 [00:19<00:12,  2.78it/s]"
     ]
    },
    {
     "name": "stdout",
     "output_type": "stream",
     "text": [
      "[I 2025-10-08 14:30:17,236] Trial 25 finished with value: 0.89000264934159 and parameters: {'n_estimators': 699, 'learning_rate': 0.293651767541649, 'max_depth': 9, 'subsample': 0.8833061261139088, 'colsample_bytree': 0.7964665118953239, 'gamma': 0.006155588432459641, 'reg_alpha': 1.7151134290570869, 'reg_lambda': 2.128406167442984, 'min_child_weight': 5}. Best is trial 25 with value: 0.89000264934159.\n"
     ]
    },
    {
     "name": "stderr",
     "output_type": "stream",
     "text": [
      "Best trial: 25. Best value: 0.890003:  45%|████▌     | 27/60 [00:19<00:11,  2.95it/s]"
     ]
    },
    {
     "name": "stdout",
     "output_type": "stream",
     "text": [
      "[I 2025-10-08 14:30:17,524] Trial 26 finished with value: 0.8539486723165659 and parameters: {'n_estimators': 464, 'learning_rate': 0.2754243145922639, 'max_depth': 9, 'subsample': 0.7983575446475697, 'colsample_bytree': 0.7982615740980821, 'gamma': 2.916957191705409, 'reg_alpha': 1.3824175501930163, 'reg_lambda': 2.495504402996657, 'min_child_weight': 5}. Best is trial 25 with value: 0.89000264934159.\n"
     ]
    },
    {
     "name": "stderr",
     "output_type": "stream",
     "text": [
      "Best trial: 25. Best value: 0.890003:  47%|████▋     | 28/60 [00:20<00:09,  3.20it/s]"
     ]
    },
    {
     "name": "stdout",
     "output_type": "stream",
     "text": [
      "[I 2025-10-08 14:30:17,772] Trial 27 finished with value: 0.8665132300711097 and parameters: {'n_estimators': 222, 'learning_rate': 0.09749921445247146, 'max_depth': 8, 'subsample': 0.878911453570445, 'colsample_bytree': 0.7103341812165583, 'gamma': 1.2092303501984207, 'reg_alpha': 1.99127090331005, 'reg_lambda': 2.2200453513284115, 'min_child_weight': 3}. Best is trial 25 with value: 0.89000264934159.\n"
     ]
    },
    {
     "name": "stderr",
     "output_type": "stream",
     "text": [
      "Best trial: 25. Best value: 0.890003:  48%|████▊     | 29/60 [00:20<00:10,  3.04it/s]"
     ]
    },
    {
     "name": "stdout",
     "output_type": "stream",
     "text": [
      "[I 2025-10-08 14:30:18,144] Trial 28 finished with value: 0.8729363138353697 and parameters: {'n_estimators': 706, 'learning_rate': 0.21458306897697096, 'max_depth': 11, 'subsample': 0.7912093518423882, 'colsample_bytree': 0.9149432298319679, 'gamma': 0.4469259667875036, 'reg_alpha': 1.8422453266434284, 'reg_lambda': 1.9520168713482065, 'min_child_weight': 4}. Best is trial 25 with value: 0.89000264934159.\n"
     ]
    },
    {
     "name": "stderr",
     "output_type": "stream",
     "text": [
      "Best trial: 25. Best value: 0.890003:  50%|█████     | 30/60 [00:20<00:08,  3.36it/s]"
     ]
    },
    {
     "name": "stdout",
     "output_type": "stream",
     "text": [
      "[I 2025-10-08 14:30:18,367] Trial 29 finished with value: 0.8465059766789755 and parameters: {'n_estimators': 367, 'learning_rate': 0.29577369074338683, 'max_depth': 6, 'subsample': 0.9257824784713456, 'colsample_bytree': 0.8639687969701703, 'gamma': 4.486409523752382, 'reg_alpha': 1.2117511409336779, 'reg_lambda': 2.7392751129913897, 'min_child_weight': 3}. Best is trial 25 with value: 0.89000264934159.\n"
     ]
    },
    {
     "name": "stderr",
     "output_type": "stream",
     "text": [
      "Best trial: 25. Best value: 0.890003:  52%|█████▏    | 31/60 [00:20<00:09,  3.17it/s]"
     ]
    },
    {
     "name": "stdout",
     "output_type": "stream",
     "text": [
      "[I 2025-10-08 14:30:18,726] Trial 30 finished with value: 0.8579041035862567 and parameters: {'n_estimators': 594, 'learning_rate': 0.017978993664449456, 'max_depth': 9, 'subsample': 0.8609680366370858, 'colsample_bytree': 0.7833937020136915, 'gamma': 2.4303723190198423, 'reg_alpha': 0.8842187131944038, 'reg_lambda': 2.440298789676584, 'min_child_weight': 8}. Best is trial 25 with value: 0.89000264934159.\n"
     ]
    },
    {
     "name": "stderr",
     "output_type": "stream",
     "text": [
      "Best trial: 25. Best value: 0.890003:  53%|█████▎    | 32/60 [00:21<00:09,  3.07it/s]"
     ]
    },
    {
     "name": "stdout",
     "output_type": "stream",
     "text": [
      "[I 2025-10-08 14:30:19,074] Trial 31 finished with value: 0.871129983358008 and parameters: {'n_estimators': 695, 'learning_rate': 0.23622946633275466, 'max_depth': 10, 'subsample': 0.9614767084430117, 'colsample_bytree': 0.9733597287964483, 'gamma': 0.518800371645399, 'reg_alpha': 1.661744590454815, 'reg_lambda': 2.081340117574505, 'min_child_weight': 6}. Best is trial 25 with value: 0.89000264934159.\n"
     ]
    },
    {
     "name": "stderr",
     "output_type": "stream",
     "text": [
      "Best trial: 25. Best value: 0.890003:  55%|█████▌    | 33/60 [00:21<00:08,  3.13it/s]"
     ]
    },
    {
     "name": "stdout",
     "output_type": "stream",
     "text": [
      "[I 2025-10-08 14:30:19,379] Trial 32 finished with value: 0.8855955913926989 and parameters: {'n_estimators': 511, 'learning_rate': 0.16820762544435597, 'max_depth': 9, 'subsample': 0.9711272489228688, 'colsample_bytree': 0.8877038840151548, 'gamma': 0.06524338768470475, 'reg_alpha': 1.4484956841049756, 'reg_lambda': 1.6691231607724972, 'min_child_weight': 5}. Best is trial 25 with value: 0.89000264934159.\n"
     ]
    },
    {
     "name": "stderr",
     "output_type": "stream",
     "text": [
      "Best trial: 25. Best value: 0.890003:  57%|█████▋    | 34/60 [00:21<00:08,  3.15it/s]"
     ]
    },
    {
     "name": "stdout",
     "output_type": "stream",
     "text": [
      "[I 2025-10-08 14:30:19,685] Trial 33 finished with value: 0.8696812324106228 and parameters: {'n_estimators': 525, 'learning_rate': 0.20836381533648513, 'max_depth': 9, 'subsample': 0.9057241184361118, 'colsample_bytree': 0.9132257191403296, 'gamma': 0.7061991423845738, 'reg_alpha': 1.4526230577104782, 'reg_lambda': 1.7973686966701623, 'min_child_weight': 5}. Best is trial 25 with value: 0.89000264934159.\n"
     ]
    },
    {
     "name": "stderr",
     "output_type": "stream",
     "text": [
      "Best trial: 25. Best value: 0.890003:  58%|█████▊    | 35/60 [00:22<00:07,  3.24it/s]"
     ]
    },
    {
     "name": "stdout",
     "output_type": "stream",
     "text": [
      "[I 2025-10-08 14:30:19,981] Trial 34 finished with value: 0.8877857202430036 and parameters: {'n_estimators': 373, 'learning_rate': 0.12116664537765726, 'max_depth': 8, 'subsample': 0.942143700843256, 'colsample_bytree': 0.7144998725627016, 'gamma': 0.021640721524194766, 'reg_alpha': 1.5290008844399352, 'reg_lambda': 1.419589472954513, 'min_child_weight': 5}. Best is trial 25 with value: 0.89000264934159.\n"
     ]
    },
    {
     "name": "stderr",
     "output_type": "stream",
     "text": [
      "Best trial: 25. Best value: 0.890003:  60%|██████    | 36/60 [00:22<00:07,  3.40it/s]"
     ]
    },
    {
     "name": "stdout",
     "output_type": "stream",
     "text": [
      "[I 2025-10-08 14:30:20,236] Trial 35 finished with value: 0.867532437758312 and parameters: {'n_estimators': 387, 'learning_rate': 0.13304778034809708, 'max_depth': 7, 'subsample': 0.9395841953148346, 'colsample_bytree': 0.7089179978842943, 'gamma': 1.0569027598934186, 'reg_alpha': 1.3170934724656949, 'reg_lambda': 1.3742121006928647, 'min_child_weight': 4}. Best is trial 25 with value: 0.89000264934159.\n"
     ]
    },
    {
     "name": "stderr",
     "output_type": "stream",
     "text": [
      "Best trial: 25. Best value: 0.890003:  62%|██████▏   | 37/60 [00:22<00:07,  3.26it/s]"
     ]
    },
    {
     "name": "stdout",
     "output_type": "stream",
     "text": [
      "[I 2025-10-08 14:30:20,575] Trial 36 finished with value: 0.8604544102761184 and parameters: {'n_estimators': 335, 'learning_rate': 0.0683267533139085, 'max_depth': 8, 'subsample': 0.99621003495232, 'colsample_bytree': 0.6936627659414883, 'gamma': 2.129128583627177, 'reg_alpha': 1.506357664597185, 'reg_lambda': 0.9458343658614454, 'min_child_weight': 7}. Best is trial 25 with value: 0.89000264934159.\n"
     ]
    },
    {
     "name": "stderr",
     "output_type": "stream",
     "text": [
      "Best trial: 37. Best value: 0.89041:  63%|██████▎   | 38/60 [00:23<00:07,  3.05it/s] "
     ]
    },
    {
     "name": "stdout",
     "output_type": "stream",
     "text": [
      "[I 2025-10-08 14:30:20,954] Trial 37 finished with value: 0.8904097238572384 and parameters: {'n_estimators': 471, 'learning_rate': 0.05097257682157461, 'max_depth': 5, 'subsample': 0.9729222801188686, 'colsample_bytree': 0.6580798727676289, 'gamma': 0.011286691447124866, 'reg_alpha': 1.2322097641335843, 'reg_lambda': 1.0511373440780247, 'min_child_weight': 3}. Best is trial 37 with value: 0.8904097238572384.\n"
     ]
    },
    {
     "name": "stderr",
     "output_type": "stream",
     "text": [
      "Best trial: 37. Best value: 0.89041:  65%|██████▌   | 39/60 [00:23<00:06,  3.40it/s]"
     ]
    },
    {
     "name": "stdout",
     "output_type": "stream",
     "text": [
      "[I 2025-10-08 14:30:21,170] Trial 38 finished with value: 0.8637132256206522 and parameters: {'n_estimators': 263, 'learning_rate': 0.04626783533422118, 'max_depth': 5, 'subsample': 0.7597067269515566, 'colsample_bytree': 0.6308614113816551, 'gamma': 1.4652561643588542, 'reg_alpha': 1.2794219453903002, 'reg_lambda': 0.9798494038131154, 'min_child_weight': 1}. Best is trial 37 with value: 0.8904097238572384.\n"
     ]
    },
    {
     "name": "stderr",
     "output_type": "stream",
     "text": [
      "Best trial: 37. Best value: 0.89041:  67%|██████▋   | 40/60 [00:23<00:05,  3.37it/s]"
     ]
    },
    {
     "name": "stdout",
     "output_type": "stream",
     "text": [
      "[I 2025-10-08 14:30:21,470] Trial 39 finished with value: 0.8569131842781594 and parameters: {'n_estimators': 464, 'learning_rate': 0.03952833061673691, 'max_depth': 5, 'subsample': 0.8737966872141286, 'colsample_bytree': 0.6297042184425358, 'gamma': 2.9076255202864547, 'reg_alpha': 1.1133853410541126, 'reg_lambda': 0.6516491888021798, 'min_child_weight': 3}. Best is trial 37 with value: 0.8904097238572384.\n"
     ]
    },
    {
     "name": "stderr",
     "output_type": "stream",
     "text": [
      "Best trial: 37. Best value: 0.89041:  68%|██████▊   | 41/60 [00:24<00:05,  3.40it/s]"
     ]
    },
    {
     "name": "stdout",
     "output_type": "stream",
     "text": [
      "[I 2025-10-08 14:30:21,760] Trial 40 finished with value: 0.8749098094305363 and parameters: {'n_estimators': 355, 'learning_rate': 0.021570701934447406, 'max_depth': 5, 'subsample': 0.9390364012845204, 'colsample_bytree': 0.6730403694590431, 'gamma': 0.35624532889142047, 'reg_alpha': 1.5556602317514845, 'reg_lambda': 0.7359408662819511, 'min_child_weight': 2}. Best is trial 37 with value: 0.8904097238572384.\n"
     ]
    },
    {
     "name": "stderr",
     "output_type": "stream",
     "text": [
      "Best trial: 37. Best value: 0.89041:  70%|███████   | 42/60 [00:24<00:05,  3.18it/s]"
     ]
    },
    {
     "name": "stdout",
     "output_type": "stream",
     "text": [
      "[I 2025-10-08 14:30:22,121] Trial 41 finished with value: 0.8900201061122519 and parameters: {'n_estimators': 418, 'learning_rate': 0.05442194754049575, 'max_depth': 7, 'subsample': 0.974078508829613, 'colsample_bytree': 0.7316924965647336, 'gamma': 0.014397531019681086, 'reg_alpha': 1.409962013794176, 'reg_lambda': 1.3930424702447155, 'min_child_weight': 3}. Best is trial 37 with value: 0.8904097238572384.\n"
     ]
    },
    {
     "name": "stderr",
     "output_type": "stream",
     "text": [
      "Best trial: 37. Best value: 0.89041:  72%|███████▏  | 43/60 [00:24<00:05,  3.35it/s]"
     ]
    },
    {
     "name": "stdout",
     "output_type": "stream",
     "text": [
      "[I 2025-10-08 14:30:22,383] Trial 42 finished with value: 0.8696637086537888 and parameters: {'n_estimators': 413, 'learning_rate': 0.0516419430765297, 'max_depth': 3, 'subsample': 0.9830036858197435, 'colsample_bytree': 0.7415996804106142, 'gamma': 0.6323541232375138, 'reg_alpha': 0.7965240256424919, 'reg_lambda': 1.4046924329096302, 'min_child_weight': 3}. Best is trial 37 with value: 0.8904097238572384.\n"
     ]
    },
    {
     "name": "stderr",
     "output_type": "stream",
     "text": [
      "Best trial: 37. Best value: 0.89041:  73%|███████▎  | 44/60 [00:24<00:04,  3.47it/s]"
     ]
    },
    {
     "name": "stdout",
     "output_type": "stream",
     "text": [
      "[I 2025-10-08 14:30:22,648] Trial 43 finished with value: 0.874978200219708 and parameters: {'n_estimators': 304, 'learning_rate': 0.0342765938386477, 'max_depth': 6, 'subsample': 0.9487558007108866, 'colsample_bytree': 0.6026736853726876, 'gamma': 0.31258103840974266, 'reg_alpha': 1.354853581478611, 'reg_lambda': 1.0669141800523103, 'min_child_weight': 2}. Best is trial 37 with value: 0.8904097238572384.\n"
     ]
    },
    {
     "name": "stderr",
     "output_type": "stream",
     "text": [
      "Best trial: 37. Best value: 0.89041:  75%|███████▌  | 45/60 [00:25<00:04,  3.34it/s]"
     ]
    },
    {
     "name": "stdout",
     "output_type": "stream",
     "text": [
      "[I 2025-10-08 14:30:22,972] Trial 44 finished with value: 0.8875197291285815 and parameters: {'n_estimators': 412, 'learning_rate': 0.0647955719594471, 'max_depth': 7, 'subsample': 0.9493560094134329, 'colsample_bytree': 0.6640199555520208, 'gamma': 0.033235718802692125, 'reg_alpha': 1.7162866967711845, 'reg_lambda': 1.4089458245475694, 'min_child_weight': 3}. Best is trial 37 with value: 0.8904097238572384.\n"
     ]
    },
    {
     "name": "stderr",
     "output_type": "stream",
     "text": [
      "Best trial: 37. Best value: 0.89041:  77%|███████▋  | 46/60 [00:25<00:04,  3.39it/s]"
     ]
    },
    {
     "name": "stdout",
     "output_type": "stream",
     "text": [
      "[I 2025-10-08 14:30:23,253] Trial 45 finished with value: 0.8749280157944114 and parameters: {'n_estimators': 410, 'learning_rate': 0.08055018443232538, 'max_depth': 7, 'subsample': 0.695352877288664, 'colsample_bytree': 0.6738147645127919, 'gamma': 0.33210709192493354, 'reg_alpha': 1.2491764139797445, 'reg_lambda': 1.3728335051747742, 'min_child_weight': 3}. Best is trial 37 with value: 0.8904097238572384.\n"
     ]
    },
    {
     "name": "stderr",
     "output_type": "stream",
     "text": [
      "Best trial: 37. Best value: 0.89041:  78%|███████▊  | 47/60 [00:25<00:03,  3.38it/s]"
     ]
    },
    {
     "name": "stdout",
     "output_type": "stream",
     "text": [
      "[I 2025-10-08 14:30:23,556] Trial 46 finished with value: 0.8712131032536623 and parameters: {'n_estimators': 321, 'learning_rate': 0.05219602806437672, 'max_depth': 7, 'subsample': 0.911896235691688, 'colsample_bytree': 0.7189993870899068, 'gamma': 0.7084128309505692, 'reg_alpha': 1.4139229729175906, 'reg_lambda': 0.803437254098724, 'min_child_weight': 2}. Best is trial 37 with value: 0.8904097238572384.\n"
     ]
    },
    {
     "name": "stderr",
     "output_type": "stream",
     "text": [
      "Best trial: 37. Best value: 0.89041:  80%|████████  | 48/60 [00:26<00:03,  3.70it/s]"
     ]
    },
    {
     "name": "stdout",
     "output_type": "stream",
     "text": [
      "[I 2025-10-08 14:30:23,765] Trial 47 finished with value: 0.866915746256393 and parameters: {'n_estimators': 262, 'learning_rate': 0.06057041725000496, 'max_depth': 4, 'subsample': 0.9273897432304885, 'colsample_bytree': 0.64874717193773, 'gamma': 0.9883167540455206, 'reg_alpha': 1.7104558308637132, 'reg_lambda': 1.1136587927114194, 'min_child_weight': 1}. Best is trial 37 with value: 0.8904097238572384.\n"
     ]
    },
    {
     "name": "stderr",
     "output_type": "stream",
     "text": [
      "Best trial: 48. Best value: 0.894016:  82%|████████▏ | 49/60 [00:26<00:04,  2.62it/s]"
     ]
    },
    {
     "name": "stdout",
     "output_type": "stream",
     "text": [
      "[I 2025-10-08 14:30:24,408] Trial 48 finished with value: 0.8940157781360165 and parameters: {'n_estimators': 791, 'learning_rate': 0.026585362765327938, 'max_depth': 7, 'subsample': 0.9518082588441827, 'colsample_bytree': 0.7703206286574154, 'gamma': 0.00923318749883295, 'reg_alpha': 1.1080380341265303, 'reg_lambda': 1.4735210058471901, 'min_child_weight': 4}. Best is trial 48 with value: 0.8940157781360165.\n"
     ]
    },
    {
     "name": "stderr",
     "output_type": "stream",
     "text": [
      "Best trial: 48. Best value: 0.894016:  83%|████████▎ | 50/60 [00:27<00:04,  2.45it/s]"
     ]
    },
    {
     "name": "stdout",
     "output_type": "stream",
     "text": [
      "[I 2025-10-08 14:30:24,871] Trial 49 finished with value: 0.8771552919768457 and parameters: {'n_estimators': 826, 'learning_rate': 0.024514794871195972, 'max_depth': 4, 'subsample': 0.8441616324451069, 'colsample_bytree': 0.7673122031445229, 'gamma': 0.30035209620204883, 'reg_alpha': 1.0732752063465247, 'reg_lambda': 0.8959711742648101, 'min_child_weight': 4}. Best is trial 48 with value: 0.8940157781360165.\n"
     ]
    },
    {
     "name": "stderr",
     "output_type": "stream",
     "text": [
      "Best trial: 48. Best value: 0.894016:  85%|████████▌ | 51/60 [00:27<00:03,  2.31it/s]"
     ]
    },
    {
     "name": "stdout",
     "output_type": "stream",
     "text": [
      "[I 2025-10-08 14:30:25,368] Trial 50 finished with value: 0.8718922058192475 and parameters: {'n_estimators': 790, 'learning_rate': 0.01030939443445365, 'max_depth': 6, 'subsample': 0.910583626372878, 'colsample_bytree': 0.8200700030818435, 'gamma': 0.800142111379152, 'reg_alpha': 0.6847383231064921, 'reg_lambda': 0.30947131907038306, 'min_child_weight': 4}. Best is trial 48 with value: 0.8940157781360165.\n"
     ]
    },
    {
     "name": "stderr",
     "output_type": "stream",
     "text": [
      "Best trial: 48. Best value: 0.894016:  87%|████████▋ | 52/60 [00:28<00:03,  2.02it/s]"
     ]
    },
    {
     "name": "stdout",
     "output_type": "stream",
     "text": [
      "[I 2025-10-08 14:30:26,010] Trial 51 finished with value: 0.8888866578067669 and parameters: {'n_estimators': 879, 'learning_rate': 0.013640276326728526, 'max_depth': 6, 'subsample': 0.9483680194381323, 'colsample_bytree': 0.726226959588214, 'gamma': 0.03610583333278128, 'reg_alpha': 1.1700129017796304, 'reg_lambda': 1.4858190119482577, 'min_child_weight': 5}. Best is trial 48 with value: 0.8940157781360165.\n"
     ]
    },
    {
     "name": "stderr",
     "output_type": "stream",
     "text": [
      "Best trial: 48. Best value: 0.894016:  88%|████████▊ | 53/60 [00:29<00:04,  1.71it/s]"
     ]
    },
    {
     "name": "stdout",
     "output_type": "stream",
     "text": [
      "[I 2025-10-08 14:30:26,804] Trial 52 finished with value: 0.8925141154352646 and parameters: {'n_estimators': 963, 'learning_rate': 0.014766419290164451, 'max_depth': 6, 'subsample': 0.9669986702882105, 'colsample_bytree': 0.7238080362723743, 'gamma': 0.008923725092969334, 'reg_alpha': 1.1626047360190555, 'reg_lambda': 1.1312063891525928, 'min_child_weight': 5}. Best is trial 48 with value: 0.8940157781360165.\n"
     ]
    },
    {
     "name": "stderr",
     "output_type": "stream",
     "text": [
      "Best trial: 48. Best value: 0.894016:  90%|█████████ | 54/60 [00:29<00:03,  1.71it/s]"
     ]
    },
    {
     "name": "stdout",
     "output_type": "stream",
     "text": [
      "[I 2025-10-08 14:30:27,384] Trial 53 finished with value: 0.8789504633182634 and parameters: {'n_estimators': 926, 'learning_rate': 0.012886042466621625, 'max_depth': 6, 'subsample': 0.981038814681382, 'colsample_bytree': 0.7962806656379844, 'gamma': 0.27319609407766676, 'reg_alpha': 0.9843652253442174, 'reg_lambda': 1.2240404091330883, 'min_child_weight': 5}. Best is trial 48 with value: 0.8940157781360165.\n"
     ]
    },
    {
     "name": "stderr",
     "output_type": "stream",
     "text": [
      "Best trial: 48. Best value: 0.894016:  92%|█████████▏| 55/60 [00:30<00:02,  1.77it/s]"
     ]
    },
    {
     "name": "stdout",
     "output_type": "stream",
     "text": [
      "[I 2025-10-08 14:30:27,906] Trial 54 finished with value: 0.8737387512457376 and parameters: {'n_estimators': 908, 'learning_rate': 0.01341642334081278, 'max_depth': 5, 'subsample': 0.9758721722186977, 'colsample_bytree': 0.7545964301459581, 'gamma': 0.5055334584916809, 'reg_alpha': 1.176206367885437, 'reg_lambda': 1.0973561225209547, 'min_child_weight': 4}. Best is trial 48 with value: 0.8940157781360165.\n"
     ]
    },
    {
     "name": "stderr",
     "output_type": "stream",
     "text": [
      "Best trial: 48. Best value: 0.894016:  93%|█████████▎| 56/60 [00:30<00:02,  1.71it/s]"
     ]
    },
    {
     "name": "stdout",
     "output_type": "stream",
     "text": [
      "[I 2025-10-08 14:30:28,531] Trial 55 finished with value: 0.8804233755248845 and parameters: {'n_estimators': 994, 'learning_rate': 0.016783058816498227, 'max_depth': 6, 'subsample': 0.8879794416707598, 'colsample_bytree': 0.7383155659906298, 'gamma': 0.20692351464989983, 'reg_alpha': 1.0809444620632673, 'reg_lambda': 1.6114195023617914, 'min_child_weight': 3}. Best is trial 48 with value: 0.8940157781360165.\n"
     ]
    },
    {
     "name": "stderr",
     "output_type": "stream",
     "text": [
      "Best trial: 48. Best value: 0.894016:  95%|█████████▌| 57/60 [00:31<00:01,  1.80it/s]"
     ]
    },
    {
     "name": "stdout",
     "output_type": "stream",
     "text": [
      "[I 2025-10-08 14:30:29,016] Trial 56 finished with value: 0.8504896938127674 and parameters: {'n_estimators': 875, 'learning_rate': 0.017961941310520382, 'max_depth': 6, 'subsample': 0.9568208339190462, 'colsample_bytree': 0.6960832721278103, 'gamma': 4.0407821281114265, 'reg_alpha': 0.867569989462604, 'reg_lambda': 1.2957305075976024, 'min_child_weight': 5}. Best is trial 48 with value: 0.8940157781360165.\n"
     ]
    },
    {
     "name": "stderr",
     "output_type": "stream",
     "text": [
      "Best trial: 48. Best value: 0.894016:  97%|█████████▋| 58/60 [00:31<00:01,  1.87it/s]"
     ]
    },
    {
     "name": "stdout",
     "output_type": "stream",
     "text": [
      "[I 2025-10-08 14:30:29,505] Trial 57 finished with value: 0.8792963514532905 and parameters: {'n_estimators': 955, 'learning_rate': 0.029282061570753238, 'max_depth': 5, 'subsample': 0.9984737702044392, 'colsample_bytree': 0.7795725731323617, 'gamma': 0.19399789759017314, 'reg_alpha': 1.2723387463784621, 'reg_lambda': 1.5003123663953937, 'min_child_weight': 4}. Best is trial 48 with value: 0.8940157781360165.\n"
     ]
    },
    {
     "name": "stderr",
     "output_type": "stream",
     "text": [
      "Best trial: 48. Best value: 0.894016:  98%|█████████▊| 59/60 [00:32<00:00,  1.62it/s]"
     ]
    },
    {
     "name": "stdout",
     "output_type": "stream",
     "text": [
      "[I 2025-10-08 14:30:30,312] Trial 58 finished with value: 0.8933184352365492 and parameters: {'n_estimators': 873, 'learning_rate': 0.013893584389631867, 'max_depth': 7, 'subsample': 0.9215780688448744, 'colsample_bytree': 0.7267628170261748, 'gamma': 0.014882345990503813, 'reg_alpha': 1.14718700195993, 'reg_lambda': 1.1431439918831052, 'min_child_weight': 6}. Best is trial 48 with value: 0.8940157781360165.\n"
     ]
    },
    {
     "name": "stderr",
     "output_type": "stream",
     "text": [
      "Best trial: 48. Best value: 0.894016: 100%|██████████| 60/60 [00:32<00:00,  1.82it/s]"
     ]
    },
    {
     "name": "stdout",
     "output_type": "stream",
     "text": [
      "[I 2025-10-08 14:30:30,710] Trial 59 finished with value: 0.8730516738661216 and parameters: {'n_estimators': 742, 'learning_rate': 0.038835782275899525, 'max_depth': 7, 'subsample': 0.8688432095544685, 'colsample_bytree': 0.5617204123347995, 'gamma': 0.49262166785766304, 'reg_alpha': 0.9238621488510107, 'reg_lambda': 0.8440111332843525, 'min_child_weight': 6}. Best is trial 48 with value: 0.8940157781360165.\n",
      "✅ Best R²: 0.8940157781360165\n",
      "🏆 Best Params:\n",
      "   n_estimators: 791\n",
      "   learning_rate: 0.026585362765327938\n",
      "   max_depth: 7\n",
      "   subsample: 0.9518082588441827\n",
      "   colsample_bytree: 0.7703206286574154\n",
      "   gamma: 0.00923318749883295\n",
      "   reg_alpha: 1.1080380341265303\n",
      "   reg_lambda: 1.4735210058471901\n",
      "   min_child_weight: 4\n"
     ]
    },
    {
     "name": "stderr",
     "output_type": "stream",
     "text": [
      "\n"
     ]
    }
   ],
   "source": [
    "import optuna\n",
    "from xgboost import XGBRegressor\n",
    "from sklearn.pipeline import Pipeline\n",
    "from sklearn.compose import ColumnTransformer\n",
    "from sklearn.preprocessing import StandardScaler, OneHotEncoder\n",
    "from sklearn.model_selection import cross_val_score, KFold\n",
    "import category_encoders as ce\n",
    "import numpy as np\n",
    "\n",
    "# =========================\n",
    "# 1️⃣ Preprocessing pipeline\n",
    "# =========================\n",
    "columns_to_encode = ['property_type', 'sector', 'balcony', 'furnishing_type', 'luxury_category', 'floor_category']\n",
    "\n",
    "preprocessor = ColumnTransformer(\n",
    "    transformers=[\n",
    "        ('num', StandardScaler(), ['bedRoom', 'bathroom', 'built_up_area', 'servant room', 'store room']),\n",
    "        ('cat', OneHotEncoder(drop='first', sparse_output=False), \n",
    "         ['property_type', 'balcony', 'furnishing_type', 'luxury_category', 'floor_category']),\n",
    "        ('target_enc', ce.TargetEncoder(), ['sector'])\n",
    "    ],\n",
    "    remainder='drop'\n",
    ")\n",
    "\n",
    "# =========================\n",
    "# 2️⃣ Define objective\n",
    "# =========================\n",
    "def objective(trial):\n",
    "    params = {\n",
    "        'n_estimators': trial.suggest_int('n_estimators', 200, 1000),\n",
    "        'learning_rate': trial.suggest_float('learning_rate', 0.01, 0.3, log=True),\n",
    "        'max_depth': trial.suggest_int('max_depth', 3, 12),\n",
    "        'subsample': trial.suggest_float('subsample', 0.5, 1.0),\n",
    "        'colsample_bytree': trial.suggest_float('colsample_bytree', 0.5, 1.0),\n",
    "        'gamma': trial.suggest_float('gamma', 0, 5),\n",
    "        'reg_alpha': trial.suggest_float('reg_alpha', 0.0, 2.0),\n",
    "        'reg_lambda': trial.suggest_float('reg_lambda', 0.0, 3.0),\n",
    "        'min_child_weight': trial.suggest_int('min_child_weight', 1, 10),\n",
    "    }\n",
    "\n",
    "    model = Pipeline([\n",
    "        ('preprocessor', preprocessor),\n",
    "        ('regressor', XGBRegressor(\n",
    "            objective='reg:squarederror',\n",
    "            random_state=42,\n",
    "            tree_method='hist',\n",
    "            n_jobs=-1,\n",
    "            **params\n",
    "        ))\n",
    "    ])\n",
    "\n",
    "    kf = KFold(n_splits=5, shuffle=True, random_state=42)\n",
    "    score = cross_val_score(model, X, np.log1p(y), cv=kf, scoring='r2', n_jobs=-1).mean()\n",
    "    return score\n",
    "\n",
    "# =========================\n",
    "# 3️⃣ Run Optuna study\n",
    "# =========================\n",
    "study = optuna.create_study(direction='maximize')\n",
    "study.optimize(objective, n_trials=60, show_progress_bar=True)\n",
    "\n",
    "# =========================\n",
    "# 4️⃣ Results\n",
    "# =========================\n",
    "print(\"✅ Best R²:\", study.best_value)\n",
    "print(\"🏆 Best Params:\")\n",
    "for key, val in study.best_params.items():\n",
    "    print(f\"   {key}: {val}\")\n"
   ]
  },
  {
   "cell_type": "markdown",
   "id": "4b2ec6c8",
   "metadata": {},
   "source": [
    "## Stacking Random Forest and Xgboost "
   ]
  },
  {
   "cell_type": "code",
   "execution_count": 31,
   "id": "7eaf4797",
   "metadata": {},
   "outputs": [
    {
     "name": "stdout",
     "output_type": "stream",
     "text": [
      "🏆 STACKING MODEL PERFORMANCE\n",
      "R² Score : 0.8579\n",
      "RMSE     : 1.0452\n",
      "MAE      : 0.4826\n"
     ]
    },
    {
     "data": {
      "image/png": "[encoded data removed]",
      "text/plain": [
       "<Figure size 600x600 with 1 Axes>"
      ]
     },
     "metadata": {},
     "output_type": "display_data"
    }
   ],
   "source": [
    "from sklearn.compose import ColumnTransformer\n",
    "from sklearn.preprocessing import StandardScaler, OneHotEncoder\n",
    "from sklearn.pipeline import Pipeline\n",
    "from sklearn.ensemble import RandomForestRegressor, StackingRegressor\n",
    "from sklearn.linear_model import Ridge\n",
    "from xgboost import XGBRegressor\n",
    "from sklearn.model_selection import train_test_split\n",
    "from sklearn.metrics import r2_score, mean_squared_error, mean_absolute_error\n",
    "import category_encoders as ce\n",
    "import numpy as np\n",
    "import matplotlib.pyplot as plt\n",
    "\n",
    "# ====================================\n",
    "# 1️⃣ Train-test split\n",
    "# ====================================\n",
    "X_train, X_test, y_train, y_test = train_test_split(X, np.log1p(y), test_size=0.2, random_state=42)\n",
    "\n",
    "# ====================================\n",
    "# 2️⃣ Preprocessing pipeline\n",
    "# ====================================\n",
    "columns_to_encode = ['property_type', 'sector', 'balcony', 'furnishing_type', 'luxury_category', 'floor_category']\n",
    "\n",
    "preprocessor = ColumnTransformer(\n",
    "    transformers=[\n",
    "        ('num', StandardScaler(), ['bedRoom', 'bathroom', 'built_up_area', 'servant room', 'store room']),\n",
    "        ('cat', OneHotEncoder(drop='first', sparse_output=False), \n",
    "         ['property_type', 'balcony', 'furnishing_type', 'luxury_category', 'floor_category']),\n",
    "        ('target_enc', ce.TargetEncoder(), ['sector'])\n",
    "    ],\n",
    "    remainder='drop'\n",
    ")\n",
    "\n",
    "# ====================================\n",
    "# 3️⃣ Base Models (your tuned params)\n",
    "# ====================================\n",
    "rf_best = RandomForestRegressor(\n",
    "    n_estimators=454,\n",
    "    max_depth=39,\n",
    "    min_samples_split=2,\n",
    "    min_samples_leaf=1,\n",
    "    max_features=None,\n",
    "    bootstrap=True,\n",
    "    random_state=42,\n",
    "    n_jobs=-1\n",
    ")\n",
    "\n",
    "xgb_best = XGBRegressor(\n",
    "    n_estimators=791,\n",
    "    learning_rate=0.0266,\n",
    "    max_depth=7,\n",
    "    subsample=0.9518,\n",
    "    colsample_bytree=0.7703,\n",
    "    gamma=0.0092,\n",
    "    reg_alpha=1.108,\n",
    "    reg_lambda=1.474,\n",
    "    min_child_weight=4,\n",
    "    objective='reg:squarederror',\n",
    "    tree_method='hist',\n",
    "    random_state=42,\n",
    "    n_jobs=-1\n",
    ")\n",
    "\n",
    "# ====================================\n",
    "# 4️⃣ Stacking Model\n",
    "# ====================================\n",
    "stack_model = StackingRegressor(\n",
    "    estimators=[\n",
    "        ('rf', rf_best),\n",
    "        ('xgb', xgb_best)\n",
    "    ],\n",
    "    final_estimator=Ridge(alpha=1.0),\n",
    "    n_jobs=-1,\n",
    "    passthrough=True   # Allow meta-model to see original features too\n",
    ")\n",
    "\n",
    "# ====================================\n",
    "# 5️⃣ Full Pipeline\n",
    "# ====================================\n",
    "stack_pipeline = Pipeline([\n",
    "    ('preprocessor', preprocessor),\n",
    "    ('stack', stack_model)\n",
    "])\n",
    "\n",
    "# ====================================\n",
    "# 6️⃣ Train & Evaluate\n",
    "# ====================================\n",
    "stack_pipeline.fit(X_train, y_train)\n",
    "y_pred = stack_pipeline.predict(X_test)\n",
    "\n",
    "# Inverse transform predictions\n",
    "y_test_exp = np.expm1(y_test)\n",
    "y_pred_exp = np.expm1(y_pred)\n",
    "\n",
    "r2 = r2_score(y_test_exp, y_pred_exp)\n",
    "rmse = np.sqrt(mean_squared_error(y_test_exp, y_pred_exp))\n",
    "mae = mean_absolute_error(y_test_exp, y_pred_exp)\n",
    "\n",
    "print(\"🏆 STACKING MODEL PERFORMANCE\")\n",
    "print(f\"R² Score : {r2:.4f}\")\n",
    "print(f\"RMSE     : {rmse:.4f}\")\n",
    "print(f\"MAE      : {mae:.4f}\")\n",
    "\n",
    "# ====================================\n",
    "# 7️⃣ Visualization\n",
    "# ====================================\n",
    "plt.figure(figsize=(6,6))\n",
    "plt.scatter(y_test_exp, y_pred_exp, alpha=0.5)\n",
    "plt.plot([y_test_exp.min(), y_test_exp.max()],\n",
    "         [y_test_exp.min(), y_test_exp.max()],\n",
    "         'r--')\n",
    "plt.xlabel(\"Actual Price\")\n",
    "plt.ylabel(\"Predicted Price\")\n",
    "plt.title(\"Actual vs Predicted (Stacking RF + XGB)\")\n",
    "plt.show()\n"
   ]
  },
  {
   "cell_type": "code",
   "execution_count": 46,
   "id": "d1951d03",
   "metadata": {},
   "outputs": [
    {
     "name": "stdout",
     "output_type": "stream",
     "text": [
      "Weighted Average R²: 0.9071\n"
     ]
    },
    {
     "ename": "ValueError",
     "evalue": "\nAll the 10 fits failed.\nIt is very likely that your model is misconfigured.\nYou can try to debug the error by setting error_score='raise'.\n\nBelow are more details about the failures:\n--------------------------------------------------------------------------------\n10 fits failed with the following error:\nTraceback (most recent call last):\n  File \"d:\\Real-Estate-Insights-Platform\\.venv\\Lib\\site-packages\\sklearn\\model_selection\\_validation.py\", line 859, in _fit_and_score\n    estimator.fit(X_train, y_train, **fit_params)\n  File \"d:\\Real-Estate-Insights-Platform\\.venv\\Lib\\site-packages\\sklearn\\ensemble\\_stacking.py\", line 1043, in fit\n    return super().fit(X, y, **fit_params)\n           ^^^^^^^^^^^^^^^^^^^^^^^^^^^^^^^\n  File \"d:\\Real-Estate-Insights-Platform\\.venv\\Lib\\site-packages\\sklearn\\base.py\", line 1365, in wrapper\n    return fit_method(estimator, *args, **kwargs)\n           ^^^^^^^^^^^^^^^^^^^^^^^^^^^^^^^^^^^^^^\n  File \"d:\\Real-Estate-Insights-Platform\\.venv\\Lib\\site-packages\\sklearn\\ensemble\\_stacking.py\", line 277, in fit\n    _fit_single_estimator(self.final_estimator_, X_meta, y, fit_params=fit_params)\n  File \"d:\\Real-Estate-Insights-Platform\\.venv\\Lib\\site-packages\\sklearn\\ensemble\\_base.py\", line 39, in _fit_single_estimator\n    estimator.fit(X, y, **fit_params)\n  File \"d:\\Real-Estate-Insights-Platform\\.venv\\Lib\\site-packages\\xgboost\\core.py\", line 729, in inner_f\n    return func(**kwargs)\n           ^^^^^^^^^^^^^^\n  File \"d:\\Real-Estate-Insights-Platform\\.venv\\Lib\\site-packages\\xgboost\\sklearn.py\", line 1222, in fit\n    train_dmatrix, evals = _wrap_evaluation_matrices(\n                           ^^^^^^^^^^^^^^^^^^^^^^^^^^\n  File \"d:\\Real-Estate-Insights-Platform\\.venv\\Lib\\site-packages\\xgboost\\sklearn.py\", line 628, in _wrap_evaluation_matrices\n    train_dmatrix = create_dmatrix(\n                    ^^^^^^^^^^^^^^^\n  File \"d:\\Real-Estate-Insights-Platform\\.venv\\Lib\\site-packages\\xgboost\\sklearn.py\", line 1137, in _create_dmatrix\n    return QuantileDMatrix(\n           ^^^^^^^^^^^^^^^^\n  File \"d:\\Real-Estate-Insights-Platform\\.venv\\Lib\\site-packages\\xgboost\\core.py\", line 729, in inner_f\n    return func(**kwargs)\n           ^^^^^^^^^^^^^^\n  File \"d:\\Real-Estate-Insights-Platform\\.venv\\Lib\\site-packages\\xgboost\\core.py\", line 1614, in __init__\n    self._init(\n  File \"d:\\Real-Estate-Insights-Platform\\.venv\\Lib\\site-packages\\xgboost\\core.py\", line 1678, in _init\n    it.reraise()\n  File \"d:\\Real-Estate-Insights-Platform\\.venv\\Lib\\site-packages\\xgboost\\core.py\", line 572, in reraise\n    raise exc  # pylint: disable=raising-bad-type\n    ^^^^^^^^^\n  File \"d:\\Real-Estate-Insights-Platform\\.venv\\Lib\\site-packages\\xgboost\\core.py\", line 553, in _handle_exception\n    return fn()\n           ^^^^\n  File \"d:\\Real-Estate-Insights-Platform\\.venv\\Lib\\site-packages\\xgboost\\core.py\", line 640, in <lambda>\n    return self._handle_exception(lambda: int(self.next(input_data)), 0)\n                                              ^^^^^^^^^^^^^^^^^^^^^\n  File \"d:\\Real-Estate-Insights-Platform\\.venv\\Lib\\site-packages\\xgboost\\data.py\", line 1654, in next\n    input_data(**self.kwargs)\n  File \"d:\\Real-Estate-Insights-Platform\\.venv\\Lib\\site-packages\\xgboost\\core.py\", line 729, in inner_f\n    return func(**kwargs)\n           ^^^^^^^^^^^^^^\n  File \"d:\\Real-Estate-Insights-Platform\\.venv\\Lib\\site-packages\\xgboost\\core.py\", line 620, in input_data\n    new, cat_codes, feature_names, feature_types = _proxy_transform(\n                                                   ^^^^^^^^^^^^^^^^^\n  File \"d:\\Real-Estate-Insights-Platform\\.venv\\Lib\\site-packages\\xgboost\\data.py\", line 1681, in _proxy_transform\n    data, _ = _ensure_np_dtype(data, data.dtype)\n              ^^^^^^^^^^^^^^^^^^^^^^^^^^^^^^^^^^\n  File \"d:\\Real-Estate-Insights-Platform\\.venv\\Lib\\site-packages\\xgboost\\data.py\", line 239, in _ensure_np_dtype\n    data = data.astype(dtype, copy=False)\n           ^^^^^^^^^^^^^^^^^^^^^^^^^^^^^^\nValueError: could not convert string to float: 'flat'\n",
     "output_type": "error",
     "traceback": [
      "\u001b[31m---------------------------------------------------------------------------\u001b[39m",
      "\u001b[31mValueError\u001b[39m                                Traceback (most recent call last)",
      "\u001b[36mCell\u001b[39m\u001b[36m \u001b[39m\u001b[32mIn[46]\u001b[39m\u001b[32m, line 109\u001b[39m\n\u001b[32m     93\u001b[39m estimators = [\n\u001b[32m     94\u001b[39m     (\u001b[33m'\u001b[39m\u001b[33mrf\u001b[39m\u001b[33m'\u001b[39m, Pipeline([(\u001b[33m'\u001b[39m\u001b[33mpreprocessor\u001b[39m\u001b[33m'\u001b[39m, preprocessor), (\u001b[33m'\u001b[39m\u001b[33mmodel\u001b[39m\u001b[33m'\u001b[39m, rf)])),\n\u001b[32m     95\u001b[39m     (\u001b[33m'\u001b[39m\u001b[33mxgb\u001b[39m\u001b[33m'\u001b[39m, Pipeline([(\u001b[33m'\u001b[39m\u001b[33mpreprocessor\u001b[39m\u001b[33m'\u001b[39m, preprocessor), (\u001b[33m'\u001b[39m\u001b[33mmodel\u001b[39m\u001b[33m'\u001b[39m, xgb)])),\n\u001b[32m     96\u001b[39m     (\u001b[33m'\u001b[39m\u001b[33mridge\u001b[39m\u001b[33m'\u001b[39m, Pipeline([(\u001b[33m'\u001b[39m\u001b[33mpreprocessor\u001b[39m\u001b[33m'\u001b[39m, preprocessor), (\u001b[33m'\u001b[39m\u001b[33mmodel\u001b[39m\u001b[33m'\u001b[39m, ridge)]))\n\u001b[32m     97\u001b[39m ]\n\u001b[32m     99\u001b[39m stack = StackingRegressor(\n\u001b[32m    100\u001b[39m     estimators=estimators,\n\u001b[32m    101\u001b[39m     final_estimator=XGBRegressor(\n\u001b[32m   (...)\u001b[39m\u001b[32m    106\u001b[39m     n_jobs=-\u001b[32m1\u001b[39m\n\u001b[32m    107\u001b[39m )\n\u001b[32m--> \u001b[39m\u001b[32m109\u001b[39m stack_r2 = np.mean(\u001b[43mcross_val_score\u001b[49m\u001b[43m(\u001b[49m\u001b[43mstack\u001b[49m\u001b[43m,\u001b[49m\u001b[43m \u001b[49m\u001b[43mX\u001b[49m\u001b[43m,\u001b[49m\u001b[43m \u001b[49m\u001b[43my_transformed\u001b[49m\u001b[43m,\u001b[49m\u001b[43m \u001b[49m\u001b[43mcv\u001b[49m\u001b[43m=\u001b[49m\u001b[43mkfold\u001b[49m\u001b[43m,\u001b[49m\u001b[43m \u001b[49m\u001b[43mscoring\u001b[49m\u001b[43m=\u001b[49m\u001b[33;43m'\u001b[39;49m\u001b[33;43mr2\u001b[39;49m\u001b[33;43m'\u001b[39;49m\u001b[43m,\u001b[49m\u001b[43m \u001b[49m\u001b[43mn_jobs\u001b[49m\u001b[43m=\u001b[49m\u001b[43m-\u001b[49m\u001b[32;43m1\u001b[39;49m\u001b[43m)\u001b[49m)\n\u001b[32m    110\u001b[39m \u001b[38;5;28mprint\u001b[39m(\u001b[33mf\u001b[39m\u001b[33m\"\u001b[39m\u001b[33mImproved Stacking R²: \u001b[39m\u001b[38;5;132;01m{\u001b[39;00mstack_r2\u001b[38;5;132;01m:\u001b[39;00m\u001b[33m.4f\u001b[39m\u001b[38;5;132;01m}\u001b[39;00m\u001b[33m\"\u001b[39m)\n\u001b[32m    112\u001b[39m \u001b[38;5;66;03m# ===========================================\u001b[39;00m\n\u001b[32m    113\u001b[39m \u001b[38;5;66;03m# 6️⃣ Blending\u001b[39;00m\n\u001b[32m    114\u001b[39m \u001b[38;5;66;03m# ===========================================\u001b[39;00m\n\u001b[32m    115\u001b[39m \u001b[38;5;66;03m# Split the data\u001b[39;00m\n",
      "\u001b[36mFile \u001b[39m\u001b[32md:\\Real-Estate-Insights-Platform\\.venv\\Lib\\site-packages\\sklearn\\utils\\_param_validation.py:218\u001b[39m, in \u001b[36mvalidate_params.<locals>.decorator.<locals>.wrapper\u001b[39m\u001b[34m(*args, **kwargs)\u001b[39m\n\u001b[32m    212\u001b[39m \u001b[38;5;28;01mtry\u001b[39;00m:\n\u001b[32m    213\u001b[39m     \u001b[38;5;28;01mwith\u001b[39;00m config_context(\n\u001b[32m    214\u001b[39m         skip_parameter_validation=(\n\u001b[32m    215\u001b[39m             prefer_skip_nested_validation \u001b[38;5;129;01mor\u001b[39;00m global_skip_validation\n\u001b[32m    216\u001b[39m         )\n\u001b[32m    217\u001b[39m     ):\n\u001b[32m--> \u001b[39m\u001b[32m218\u001b[39m         \u001b[38;5;28;01mreturn\u001b[39;00m \u001b[43mfunc\u001b[49m\u001b[43m(\u001b[49m\u001b[43m*\u001b[49m\u001b[43margs\u001b[49m\u001b[43m,\u001b[49m\u001b[43m \u001b[49m\u001b[43m*\u001b[49m\u001b[43m*\u001b[49m\u001b[43mkwargs\u001b[49m\u001b[43m)\u001b[49m\n\u001b[32m    219\u001b[39m \u001b[38;5;28;01mexcept\u001b[39;00m InvalidParameterError \u001b[38;5;28;01mas\u001b[39;00m e:\n\u001b[32m    220\u001b[39m     \u001b[38;5;66;03m# When the function is just a wrapper around an estimator, we allow\u001b[39;00m\n\u001b[32m    221\u001b[39m     \u001b[38;5;66;03m# the function to delegate validation to the estimator, but we replace\u001b[39;00m\n\u001b[32m    222\u001b[39m     \u001b[38;5;66;03m# the name of the estimator by the name of the function in the error\u001b[39;00m\n\u001b[32m    223\u001b[39m     \u001b[38;5;66;03m# message to avoid confusion.\u001b[39;00m\n\u001b[32m    224\u001b[39m     msg = re.sub(\n\u001b[32m    225\u001b[39m         \u001b[33mr\u001b[39m\u001b[33m\"\u001b[39m\u001b[33mparameter of \u001b[39m\u001b[33m\\\u001b[39m\u001b[33mw+ must be\u001b[39m\u001b[33m\"\u001b[39m,\n\u001b[32m    226\u001b[39m         \u001b[33mf\u001b[39m\u001b[33m\"\u001b[39m\u001b[33mparameter of \u001b[39m\u001b[38;5;132;01m{\u001b[39;00mfunc.\u001b[34m__qualname__\u001b[39m\u001b[38;5;132;01m}\u001b[39;00m\u001b[33m must be\u001b[39m\u001b[33m\"\u001b[39m,\n\u001b[32m    227\u001b[39m         \u001b[38;5;28mstr\u001b[39m(e),\n\u001b[32m    228\u001b[39m     )\n",
      "\u001b[36mFile \u001b[39m\u001b[32md:\\Real-Estate-Insights-Platform\\.venv\\Lib\\site-packages\\sklearn\\model_selection\\_validation.py:677\u001b[39m, in \u001b[36mcross_val_score\u001b[39m\u001b[34m(estimator, X, y, groups, scoring, cv, n_jobs, verbose, params, pre_dispatch, error_score)\u001b[39m\n\u001b[32m    674\u001b[39m \u001b[38;5;66;03m# To ensure multimetric format is not supported\u001b[39;00m\n\u001b[32m    675\u001b[39m scorer = check_scoring(estimator, scoring=scoring)\n\u001b[32m--> \u001b[39m\u001b[32m677\u001b[39m cv_results = \u001b[43mcross_validate\u001b[49m\u001b[43m(\u001b[49m\n\u001b[32m    678\u001b[39m \u001b[43m    \u001b[49m\u001b[43mestimator\u001b[49m\u001b[43m=\u001b[49m\u001b[43mestimator\u001b[49m\u001b[43m,\u001b[49m\n\u001b[32m    679\u001b[39m \u001b[43m    \u001b[49m\u001b[43mX\u001b[49m\u001b[43m=\u001b[49m\u001b[43mX\u001b[49m\u001b[43m,\u001b[49m\n\u001b[32m    680\u001b[39m \u001b[43m    \u001b[49m\u001b[43my\u001b[49m\u001b[43m=\u001b[49m\u001b[43my\u001b[49m\u001b[43m,\u001b[49m\n\u001b[32m    681\u001b[39m \u001b[43m    \u001b[49m\u001b[43mgroups\u001b[49m\u001b[43m=\u001b[49m\u001b[43mgroups\u001b[49m\u001b[43m,\u001b[49m\n\u001b[32m    682\u001b[39m \u001b[43m    \u001b[49m\u001b[43mscoring\u001b[49m\u001b[43m=\u001b[49m\u001b[43m{\u001b[49m\u001b[33;43m\"\u001b[39;49m\u001b[33;43mscore\u001b[39;49m\u001b[33;43m\"\u001b[39;49m\u001b[43m:\u001b[49m\u001b[43m \u001b[49m\u001b[43mscorer\u001b[49m\u001b[43m}\u001b[49m\u001b[43m,\u001b[49m\n\u001b[32m    683\u001b[39m \u001b[43m    \u001b[49m\u001b[43mcv\u001b[49m\u001b[43m=\u001b[49m\u001b[43mcv\u001b[49m\u001b[43m,\u001b[49m\n\u001b[32m    684\u001b[39m \u001b[43m    \u001b[49m\u001b[43mn_jobs\u001b[49m\u001b[43m=\u001b[49m\u001b[43mn_jobs\u001b[49m\u001b[43m,\u001b[49m\n\u001b[32m    685\u001b[39m \u001b[43m    \u001b[49m\u001b[43mverbose\u001b[49m\u001b[43m=\u001b[49m\u001b[43mverbose\u001b[49m\u001b[43m,\u001b[49m\n\u001b[32m    686\u001b[39m \u001b[43m    \u001b[49m\u001b[43mparams\u001b[49m\u001b[43m=\u001b[49m\u001b[43mparams\u001b[49m\u001b[43m,\u001b[49m\n\u001b[32m    687\u001b[39m \u001b[43m    \u001b[49m\u001b[43mpre_dispatch\u001b[49m\u001b[43m=\u001b[49m\u001b[43mpre_dispatch\u001b[49m\u001b[43m,\u001b[49m\n\u001b[32m    688\u001b[39m \u001b[43m    \u001b[49m\u001b[43merror_score\u001b[49m\u001b[43m=\u001b[49m\u001b[43merror_score\u001b[49m\u001b[43m,\u001b[49m\n\u001b[32m    689\u001b[39m \u001b[43m\u001b[49m\u001b[43m)\u001b[49m\n\u001b[32m    690\u001b[39m \u001b[38;5;28;01mreturn\u001b[39;00m cv_results[\u001b[33m\"\u001b[39m\u001b[33mtest_score\u001b[39m\u001b[33m\"\u001b[39m]\n",
      "\u001b[36mFile \u001b[39m\u001b[32md:\\Real-Estate-Insights-Platform\\.venv\\Lib\\site-packages\\sklearn\\utils\\_param_validation.py:218\u001b[39m, in \u001b[36mvalidate_params.<locals>.decorator.<locals>.wrapper\u001b[39m\u001b[34m(*args, **kwargs)\u001b[39m\n\u001b[32m    212\u001b[39m \u001b[38;5;28;01mtry\u001b[39;00m:\n\u001b[32m    213\u001b[39m     \u001b[38;5;28;01mwith\u001b[39;00m config_context(\n\u001b[32m    214\u001b[39m         skip_parameter_validation=(\n\u001b[32m    215\u001b[39m             prefer_skip_nested_validation \u001b[38;5;129;01mor\u001b[39;00m global_skip_validation\n\u001b[32m    216\u001b[39m         )\n\u001b[32m    217\u001b[39m     ):\n\u001b[32m--> \u001b[39m\u001b[32m218\u001b[39m         \u001b[38;5;28;01mreturn\u001b[39;00m \u001b[43mfunc\u001b[49m\u001b[43m(\u001b[49m\u001b[43m*\u001b[49m\u001b[43margs\u001b[49m\u001b[43m,\u001b[49m\u001b[43m \u001b[49m\u001b[43m*\u001b[49m\u001b[43m*\u001b[49m\u001b[43mkwargs\u001b[49m\u001b[43m)\u001b[49m\n\u001b[32m    219\u001b[39m \u001b[38;5;28;01mexcept\u001b[39;00m InvalidParameterError \u001b[38;5;28;01mas\u001b[39;00m e:\n\u001b[32m    220\u001b[39m     \u001b[38;5;66;03m# When the function is just a wrapper around an estimator, we allow\u001b[39;00m\n\u001b[32m    221\u001b[39m     \u001b[38;5;66;03m# the function to delegate validation to the estimator, but we replace\u001b[39;00m\n\u001b[32m    222\u001b[39m     \u001b[38;5;66;03m# the name of the estimator by the name of the function in the error\u001b[39;00m\n\u001b[32m    223\u001b[39m     \u001b[38;5;66;03m# message to avoid confusion.\u001b[39;00m\n\u001b[32m    224\u001b[39m     msg = re.sub(\n\u001b[32m    225\u001b[39m         \u001b[33mr\u001b[39m\u001b[33m\"\u001b[39m\u001b[33mparameter of \u001b[39m\u001b[33m\\\u001b[39m\u001b[33mw+ must be\u001b[39m\u001b[33m\"\u001b[39m,\n\u001b[32m    226\u001b[39m         \u001b[33mf\u001b[39m\u001b[33m\"\u001b[39m\u001b[33mparameter of \u001b[39m\u001b[38;5;132;01m{\u001b[39;00mfunc.\u001b[34m__qualname__\u001b[39m\u001b[38;5;132;01m}\u001b[39;00m\u001b[33m must be\u001b[39m\u001b[33m\"\u001b[39m,\n\u001b[32m    227\u001b[39m         \u001b[38;5;28mstr\u001b[39m(e),\n\u001b[32m    228\u001b[39m     )\n",
      "\u001b[36mFile \u001b[39m\u001b[32md:\\Real-Estate-Insights-Platform\\.venv\\Lib\\site-packages\\sklearn\\model_selection\\_validation.py:419\u001b[39m, in \u001b[36mcross_validate\u001b[39m\u001b[34m(estimator, X, y, groups, scoring, cv, n_jobs, verbose, params, pre_dispatch, return_train_score, return_estimator, return_indices, error_score)\u001b[39m\n\u001b[32m    398\u001b[39m parallel = Parallel(n_jobs=n_jobs, verbose=verbose, pre_dispatch=pre_dispatch)\n\u001b[32m    399\u001b[39m results = parallel(\n\u001b[32m    400\u001b[39m     delayed(_fit_and_score)(\n\u001b[32m    401\u001b[39m         clone(estimator),\n\u001b[32m   (...)\u001b[39m\u001b[32m    416\u001b[39m     \u001b[38;5;28;01mfor\u001b[39;00m train, test \u001b[38;5;129;01min\u001b[39;00m indices\n\u001b[32m    417\u001b[39m )\n\u001b[32m--> \u001b[39m\u001b[32m419\u001b[39m \u001b[43m_warn_or_raise_about_fit_failures\u001b[49m\u001b[43m(\u001b[49m\u001b[43mresults\u001b[49m\u001b[43m,\u001b[49m\u001b[43m \u001b[49m\u001b[43merror_score\u001b[49m\u001b[43m)\u001b[49m\n\u001b[32m    421\u001b[39m \u001b[38;5;66;03m# For callable scoring, the return type is only know after calling. If the\u001b[39;00m\n\u001b[32m    422\u001b[39m \u001b[38;5;66;03m# return type is a dictionary, the error scores can now be inserted with\u001b[39;00m\n\u001b[32m    423\u001b[39m \u001b[38;5;66;03m# the correct key.\u001b[39;00m\n\u001b[32m    424\u001b[39m \u001b[38;5;28;01mif\u001b[39;00m \u001b[38;5;28mcallable\u001b[39m(scoring):\n",
      "\u001b[36mFile \u001b[39m\u001b[32md:\\Real-Estate-Insights-Platform\\.venv\\Lib\\site-packages\\sklearn\\model_selection\\_validation.py:505\u001b[39m, in \u001b[36m_warn_or_raise_about_fit_failures\u001b[39m\u001b[34m(results, error_score)\u001b[39m\n\u001b[32m    498\u001b[39m \u001b[38;5;28;01mif\u001b[39;00m num_failed_fits == num_fits:\n\u001b[32m    499\u001b[39m     all_fits_failed_message = (\n\u001b[32m    500\u001b[39m         \u001b[33mf\u001b[39m\u001b[33m\"\u001b[39m\u001b[38;5;130;01m\\n\u001b[39;00m\u001b[33mAll the \u001b[39m\u001b[38;5;132;01m{\u001b[39;00mnum_fits\u001b[38;5;132;01m}\u001b[39;00m\u001b[33m fits failed.\u001b[39m\u001b[38;5;130;01m\\n\u001b[39;00m\u001b[33m\"\u001b[39m\n\u001b[32m    501\u001b[39m         \u001b[33m\"\u001b[39m\u001b[33mIt is very likely that your model is misconfigured.\u001b[39m\u001b[38;5;130;01m\\n\u001b[39;00m\u001b[33m\"\u001b[39m\n\u001b[32m    502\u001b[39m         \u001b[33m\"\u001b[39m\u001b[33mYou can try to debug the error by setting error_score=\u001b[39m\u001b[33m'\u001b[39m\u001b[33mraise\u001b[39m\u001b[33m'\u001b[39m\u001b[33m.\u001b[39m\u001b[38;5;130;01m\\n\u001b[39;00m\u001b[38;5;130;01m\\n\u001b[39;00m\u001b[33m\"\u001b[39m\n\u001b[32m    503\u001b[39m         \u001b[33mf\u001b[39m\u001b[33m\"\u001b[39m\u001b[33mBelow are more details about the failures:\u001b[39m\u001b[38;5;130;01m\\n\u001b[39;00m\u001b[38;5;132;01m{\u001b[39;00mfit_errors_summary\u001b[38;5;132;01m}\u001b[39;00m\u001b[33m\"\u001b[39m\n\u001b[32m    504\u001b[39m     )\n\u001b[32m--> \u001b[39m\u001b[32m505\u001b[39m     \u001b[38;5;28;01mraise\u001b[39;00m \u001b[38;5;167;01mValueError\u001b[39;00m(all_fits_failed_message)\n\u001b[32m    507\u001b[39m \u001b[38;5;28;01melse\u001b[39;00m:\n\u001b[32m    508\u001b[39m     some_fits_failed_message = (\n\u001b[32m    509\u001b[39m         \u001b[33mf\u001b[39m\u001b[33m\"\u001b[39m\u001b[38;5;130;01m\\n\u001b[39;00m\u001b[38;5;132;01m{\u001b[39;00mnum_failed_fits\u001b[38;5;132;01m}\u001b[39;00m\u001b[33m fits failed out of a total of \u001b[39m\u001b[38;5;132;01m{\u001b[39;00mnum_fits\u001b[38;5;132;01m}\u001b[39;00m\u001b[33m.\u001b[39m\u001b[38;5;130;01m\\n\u001b[39;00m\u001b[33m\"\u001b[39m\n\u001b[32m    510\u001b[39m         \u001b[33m\"\u001b[39m\u001b[33mThe score on these train-test partitions for these parameters\u001b[39m\u001b[33m\"\u001b[39m\n\u001b[32m   (...)\u001b[39m\u001b[32m    514\u001b[39m         \u001b[33mf\u001b[39m\u001b[33m\"\u001b[39m\u001b[33mBelow are more details about the failures:\u001b[39m\u001b[38;5;130;01m\\n\u001b[39;00m\u001b[38;5;132;01m{\u001b[39;00mfit_errors_summary\u001b[38;5;132;01m}\u001b[39;00m\u001b[33m\"\u001b[39m\n\u001b[32m    515\u001b[39m     )\n",
      "\u001b[31mValueError\u001b[39m: \nAll the 10 fits failed.\nIt is very likely that your model is misconfigured.\nYou can try to debug the error by setting error_score='raise'.\n\nBelow are more details about the failures:\n--------------------------------------------------------------------------------\n10 fits failed with the following error:\nTraceback (most recent call last):\n  File \"d:\\Real-Estate-Insights-Platform\\.venv\\Lib\\site-packages\\sklearn\\model_selection\\_validation.py\", line 859, in _fit_and_score\n    estimator.fit(X_train, y_train, **fit_params)\n  File \"d:\\Real-Estate-Insights-Platform\\.venv\\Lib\\site-packages\\sklearn\\ensemble\\_stacking.py\", line 1043, in fit\n    return super().fit(X, y, **fit_params)\n           ^^^^^^^^^^^^^^^^^^^^^^^^^^^^^^^\n  File \"d:\\Real-Estate-Insights-Platform\\.venv\\Lib\\site-packages\\sklearn\\base.py\", line 1365, in wrapper\n    return fit_method(estimator, *args, **kwargs)\n           ^^^^^^^^^^^^^^^^^^^^^^^^^^^^^^^^^^^^^^\n  File \"d:\\Real-Estate-Insights-Platform\\.venv\\Lib\\site-packages\\sklearn\\ensemble\\_stacking.py\", line 277, in fit\n    _fit_single_estimator(self.final_estimator_, X_meta, y, fit_params=fit_params)\n  File \"d:\\Real-Estate-Insights-Platform\\.venv\\Lib\\site-packages\\sklearn\\ensemble\\_base.py\", line 39, in _fit_single_estimator\n    estimator.fit(X, y, **fit_params)\n  File \"d:\\Real-Estate-Insights-Platform\\.venv\\Lib\\site-packages\\xgboost\\core.py\", line 729, in inner_f\n    return func(**kwargs)\n           ^^^^^^^^^^^^^^\n  File \"d:\\Real-Estate-Insights-Platform\\.venv\\Lib\\site-packages\\xgboost\\sklearn.py\", line 1222, in fit\n    train_dmatrix, evals = _wrap_evaluation_matrices(\n                           ^^^^^^^^^^^^^^^^^^^^^^^^^^\n  File \"d:\\Real-Estate-Insights-Platform\\.venv\\Lib\\site-packages\\xgboost\\sklearn.py\", line 628, in _wrap_evaluation_matrices\n    train_dmatrix = create_dmatrix(\n                    ^^^^^^^^^^^^^^^\n  File \"d:\\Real-Estate-Insights-Platform\\.venv\\Lib\\site-packages\\xgboost\\sklearn.py\", line 1137, in _create_dmatrix\n    return QuantileDMatrix(\n           ^^^^^^^^^^^^^^^^\n  File \"d:\\Real-Estate-Insights-Platform\\.venv\\Lib\\site-packages\\xgboost\\core.py\", line 729, in inner_f\n    return func(**kwargs)\n           ^^^^^^^^^^^^^^\n  File \"d:\\Real-Estate-Insights-Platform\\.venv\\Lib\\site-packages\\xgboost\\core.py\", line 1614, in __init__\n    self._init(\n  File \"d:\\Real-Estate-Insights-Platform\\.venv\\Lib\\site-packages\\xgboost\\core.py\", line 1678, in _init\n    it.reraise()\n  File \"d:\\Real-Estate-Insights-Platform\\.venv\\Lib\\site-packages\\xgboost\\core.py\", line 572, in reraise\n    raise exc  # pylint: disable=raising-bad-type\n    ^^^^^^^^^\n  File \"d:\\Real-Estate-Insights-Platform\\.venv\\Lib\\site-packages\\xgboost\\core.py\", line 553, in _handle_exception\n    return fn()\n           ^^^^\n  File \"d:\\Real-Estate-Insights-Platform\\.venv\\Lib\\site-packages\\xgboost\\core.py\", line 640, in <lambda>\n    return self._handle_exception(lambda: int(self.next(input_data)), 0)\n                                              ^^^^^^^^^^^^^^^^^^^^^\n  File \"d:\\Real-Estate-Insights-Platform\\.venv\\Lib\\site-packages\\xgboost\\data.py\", line 1654, in next\n    input_data(**self.kwargs)\n  File \"d:\\Real-Estate-Insights-Platform\\.venv\\Lib\\site-packages\\xgboost\\core.py\", line 729, in inner_f\n    return func(**kwargs)\n           ^^^^^^^^^^^^^^\n  File \"d:\\Real-Estate-Insights-Platform\\.venv\\Lib\\site-packages\\xgboost\\core.py\", line 620, in input_data\n    new, cat_codes, feature_names, feature_types = _proxy_transform(\n                                                   ^^^^^^^^^^^^^^^^^\n  File \"d:\\Real-Estate-Insights-Platform\\.venv\\Lib\\site-packages\\xgboost\\data.py\", line 1681, in _proxy_transform\n    data, _ = _ensure_np_dtype(data, data.dtype)\n              ^^^^^^^^^^^^^^^^^^^^^^^^^^^^^^^^^^\n  File \"d:\\Real-Estate-Insights-Platform\\.venv\\Lib\\site-packages\\xgboost\\data.py\", line 239, in _ensure_np_dtype\n    data = data.astype(dtype, copy=False)\n           ^^^^^^^^^^^^^^^^^^^^^^^^^^^^^^\nValueError: could not convert string to float: 'flat'\n"
     ]
    }
   ],
   "source": [
    "# =============================================\n",
    "#     COMPLETE PIPELINE: ENCODING + ENSEMBLES\n",
    "# =============================================\n",
    "\n",
    "import numpy as np\n",
    "import pandas as pd\n",
    "from sklearn.preprocessing import StandardScaler, OrdinalEncoder, OneHotEncoder\n",
    "from sklearn.compose import ColumnTransformer\n",
    "from sklearn.pipeline import Pipeline\n",
    "from sklearn.model_selection import KFold, cross_val_score, cross_val_predict, train_test_split\n",
    "from sklearn.metrics import r2_score\n",
    "from sklearn.linear_model import Ridge\n",
    "from sklearn.ensemble import RandomForestRegressor, StackingRegressor\n",
    "from xgboost import XGBRegressor\n",
    "import category_encoders as ce\n",
    "\n",
    "# ===========================================\n",
    "# 1️⃣ Load and prepare data\n",
    "# ===========================================\n",
    "# Assuming you already have your dataframe loaded as df\n",
    "# df = pd.read_csv(\"your_dataset.csv\")\n",
    "\n",
    "X = df.drop(columns=['price'])\n",
    "y = df['price']\n",
    "y_transformed = np.log1p(y)\n",
    "\n",
    "# ===========================================\n",
    "# 2️⃣ Preprocessing setup (your encoding logic)\n",
    "# ===========================================\n",
    "columns_to_encode = ['property_type', 'sector', 'balcony', 'agePossession',\n",
    "                     'furnishing_type', 'luxury_category', 'floor_category']\n",
    "\n",
    "preprocessor = ColumnTransformer(\n",
    "    transformers=[\n",
    "        ('num', StandardScaler(), ['bedRoom', 'bathroom', 'built_up_area', 'servant room', 'store room']),\n",
    "        ('cat', OrdinalEncoder(handle_unknown='use_encoded_value', unknown_value=-1),\n",
    "         ['property_type', 'sector', 'balcony', 'agePossession', 'furnishing_type', 'luxury_category', 'floor_category']),\n",
    "        ('cat1', OneHotEncoder(drop='first', sparse_output=False, handle_unknown='ignore'), ['agePossession']),\n",
    "        ('target_enc', ce.TargetEncoder(), ['sector'])\n",
    "    ],\n",
    "    remainder='passthrough'\n",
    ")\n",
    "\n",
    "\n",
    "# ===========================================\n",
    "# 3️⃣ Define best hyperparameters\n",
    "# ===========================================\n",
    "best_rf_params = {\n",
    "    'n_estimators': 454,\n",
    "    'max_depth': 39,\n",
    "    'min_samples_split': 2,\n",
    "    'min_samples_leaf': 1,\n",
    "    'max_features': None,\n",
    "    'bootstrap': True,\n",
    "    'random_state': 42\n",
    "}\n",
    "\n",
    "best_xgb_params = {\n",
    "    'n_estimators': 791,\n",
    "    'learning_rate': 0.0266,\n",
    "    'max_depth': 7,\n",
    "    'subsample': 0.9518,\n",
    "    'colsample_bytree': 0.7703,\n",
    "    'gamma': 0.00923,\n",
    "    'reg_alpha': 1.108,\n",
    "    'reg_lambda': 1.4735,\n",
    "    'min_child_weight': 4,\n",
    "    'random_state': 42\n",
    "}\n",
    "\n",
    "rf = RandomForestRegressor(**best_rf_params)\n",
    "xgb = XGBRegressor(**best_xgb_params)\n",
    "ridge = Ridge(alpha=1.0)\n",
    "\n",
    "kfold = KFold(n_splits=10, shuffle=True, random_state=42)\n",
    "\n",
    "# ===========================================\n",
    "# 4️⃣ Weighted Averaging\n",
    "# ===========================================\n",
    "pipe_rf = Pipeline([('preprocessor', preprocessor), ('model', rf)])\n",
    "pipe_xgb = Pipeline([('preprocessor', preprocessor), ('model', xgb)])\n",
    "\n",
    "rf_pred = cross_val_predict(pipe_rf, X, y_transformed, cv=kfold, n_jobs=-1)\n",
    "xgb_pred = cross_val_predict(pipe_xgb, X, y_transformed, cv=kfold, n_jobs=-1)\n",
    "\n",
    "final_pred = 0.5 * rf_pred + 0.5 * xgb_pred\n",
    "weighted_r2 = r2_score(y_transformed, final_pred)\n",
    "print(f\"Weighted Average R²: {weighted_r2:.4f}\")\n",
    "\n",
    "# ===========================================\n",
    "# 5️⃣ Improved Stacking\n",
    "# ===========================================\n",
    "estimators = [\n",
    "    ('rf', Pipeline([('preprocessor', preprocessor), ('model', rf)])),\n",
    "    ('xgb', Pipeline([('preprocessor', preprocessor), ('model', xgb)])),\n",
    "    ('ridge', Pipeline([('preprocessor', preprocessor), ('model', ridge)]))\n",
    "]\n",
    "\n",
    "stack = StackingRegressor(\n",
    "    estimators=estimators,\n",
    "    final_estimator=XGBRegressor(\n",
    "        n_estimators=400, learning_rate=0.05, max_depth=4,\n",
    "        subsample=0.8, colsample_bytree=0.8, random_state=42\n",
    "    ),\n",
    "    passthrough=True,\n",
    "    n_jobs=-1\n",
    ")\n",
    "\n",
    "stack_r2 = np.mean(cross_val_score(stack, X, y_transformed, cv=kfold, scoring='r2', n_jobs=-1))\n",
    "print(f\"Improved Stacking R²: {stack_r2:.4f}\")\n",
    "\n",
    "# ===========================================\n",
    "# 6️⃣ Blending\n",
    "# ===========================================\n",
    "# Split the data\n",
    "X_train, X_blend, y_train, y_blend = train_test_split(X, y_transformed, test_size=0.2, random_state=42)\n",
    "\n",
    "# Fit preprocessors and models\n",
    "X_train_prep = preprocessor.fit_transform(X_train)\n",
    "X_blend_prep = preprocessor.transform(X_blend)\n",
    "\n",
    "rf.fit(X_train_prep, y_train)\n",
    "xgb.fit(X_train_prep, y_train)\n",
    "ridge.fit(X_train_prep, y_train)\n",
    "\n",
    "# Create blend features\n",
    "blend_features = np.column_stack([\n",
    "    rf.predict(X_blend_prep),\n",
    "    xgb.predict(X_blend_prep),\n",
    "    ridge.predict(X_blend_prep)\n",
    "])\n",
    "\n",
    "meta_model = XGBRegressor(n_estimators=300, learning_rate=0.05, max_depth=4, random_state=42)\n",
    "meta_model.fit(blend_features, y_blend)\n",
    "\n",
    "blend_pred = meta_model.predict(blend_features)\n",
    "blend_r2 = r2_score(y_blend, blend_pred)\n",
    "print(f\"Blending R²: {blend_r2:.4f}\")\n",
    "\n",
    "# ===========================================\n",
    "# 7️⃣ Compare all results\n",
    "# ===========================================\n",
    "print(\"\\n🏁 Model Comparison Summary:\")\n",
    "print(f\"Weighted Averaging R²: {weighted_r2:.4f}\")\n",
    "print(f\"Improved Stacking R²:  {stack_r2:.4f}\")\n",
    "print(f\"Blending R²:           {blend_r2:.4f}\")\n",
    "\n",
    "best_score = max(weighted_r2, stack_r2, blend_r2)\n",
    "if best_score == weighted_r2:\n",
    "    print(\"\\n🏆 Best Method: Weighted Averaging\")\n",
    "elif best_score == stack_r2:\n",
    "    print(\"\\n🏆 Best Method: Improved Stacking\")\n",
    "else:\n",
    "    print(\"\\n🏆 Best Method: Blending\")\n"
   ]
  },
  {
   "cell_type": "code",
   "execution_count": 47,
   "id": "df9ec41a",
   "metadata": {},
   "outputs": [
    {
     "name": "stdout",
     "output_type": "stream",
     "text": [
      "Computing OOF predictions for: rf\n",
      "Computing OOF predictions for: xgb\n"
     ]
    },
    {
     "name": "stderr",
     "output_type": "stream",
     "text": [
      "[I 2025-10-08 15:00:09,348] A new study created in memory with name: no-name-2db9730f-9224-41b1-ad01-1db6a7c6036d\n",
      "[I 2025-10-08 15:00:09,348] Trial 0 finished with value: 0.9067239027553384 and parameters: {'w_0': 0.3745401188473625, 'w_1': 0.9507143064099162}. Best is trial 0 with value: 0.9067239027553384.\n",
      "[I 2025-10-08 15:00:09,348] Trial 1 finished with value: 0.9070012533529292 and parameters: {'w_0': 0.7319939418114051, 'w_1': 0.5986584841970366}. Best is trial 1 with value: 0.9070012533529292.\n",
      "[I 2025-10-08 15:00:09,357] Trial 2 finished with value: 0.9071081258557276 and parameters: {'w_0': 0.15601864044243652, 'w_1': 0.15599452033620265}. Best is trial 2 with value: 0.9071081258557276.\n",
      "[I 2025-10-08 15:00:09,359] Trial 3 finished with value: 0.9049338836975145 and parameters: {'w_0': 0.05808361216819946, 'w_1': 0.8661761457749352}. Best is trial 2 with value: 0.9071081258557276.\n",
      "[I 2025-10-08 15:00:09,362] Trial 4 finished with value: 0.9071411636772846 and parameters: {'w_0': 0.6011150117432088, 'w_1': 0.7080725777960455}. Best is trial 4 with value: 0.9071411636772846.\n",
      "[I 2025-10-08 15:00:09,362] Trial 5 finished with value: 0.9044306465190387 and parameters: {'w_0': 0.020584494295802447, 'w_1': 0.9699098521619943}. Best is trial 4 with value: 0.9071411636772846.\n",
      "[I 2025-10-08 15:00:09,367] Trial 6 finished with value: 0.9054070237632249 and parameters: {'w_0': 0.8324426408004217, 'w_1': 0.21233911067827616}. Best is trial 4 with value: 0.9071411636772846.\n",
      "[I 2025-10-08 15:00:09,371] Trial 7 finished with value: 0.9071111464887847 and parameters: {'w_0': 0.18182496720710062, 'w_1': 0.18340450985343382}. Best is trial 4 with value: 0.9071411636772846.\n",
      "[I 2025-10-08 15:00:09,373] Trial 8 finished with value: 0.9070367835808943 and parameters: {'w_0': 0.3042422429595377, 'w_1': 0.5247564316322378}. Best is trial 4 with value: 0.9071411636772846.\n",
      "[I 2025-10-08 15:00:09,373] Trial 9 finished with value: 0.9068335705955585 and parameters: {'w_0': 0.43194501864211576, 'w_1': 0.2912291401980419}. Best is trial 4 with value: 0.9071411636772846.\n",
      "[I 2025-10-08 15:00:09,382] Trial 10 finished with value: 0.9071376962493537 and parameters: {'w_0': 0.6332473742108361, 'w_1': 0.7171409693086566}. Best is trial 4 with value: 0.9071411636772846.\n",
      "[I 2025-10-08 15:00:09,389] Trial 11 finished with value: 0.9071419248092243 and parameters: {'w_0': 0.5926329579681531, 'w_1': 0.7206532007461377}. Best is trial 11 with value: 0.9071419248092243.\n",
      "[I 2025-10-08 15:00:09,399] Trial 12 finished with value: 0.9071406373637209 and parameters: {'w_0': 0.5819162120835578, 'w_1': 0.7331983444045204}. Best is trial 11 with value: 0.9071419248092243.\n",
      "[I 2025-10-08 15:00:09,406] Trial 13 finished with value: 0.9062155230200815 and parameters: {'w_0': 0.9329741405848544, 'w_1': 0.3924528921026324}. Best is trial 11 with value: 0.9071419248092243.\n",
      "[I 2025-10-08 15:00:09,411] Trial 14 finished with value: 0.9031292818356254 and parameters: {'w_0': 0.5445265189449457, 'w_1': 0.013176732463340557}. Best is trial 11 with value: 0.9071419248092243.\n",
      "[I 2025-10-08 15:00:09,451] Trial 15 finished with value: 0.90711301780669 and parameters: {'w_0': 0.7183803821417525, 'w_1': 0.7287433219921675}. Best is trial 11 with value: 0.9071419248092243.\n",
      "[I 2025-10-08 15:00:09,459] Trial 16 finished with value: 0.9071376183726068 and parameters: {'w_0': 0.46234458642164533, 'w_1': 0.6012356570578812}. Best is trial 11 with value: 0.9071419248092243.\n",
      "[I 2025-10-08 15:00:09,467] Trial 17 finished with value: 0.9070122851640533 and parameters: {'w_0': 0.9802348798673151, 'w_1': 0.8145001689858163}. Best is trial 11 with value: 0.9071419248092243.\n",
      "[I 2025-10-08 15:00:09,487] Trial 18 finished with value: 0.9068169568529181 and parameters: {'w_0': 0.689890423349692, 'w_1': 0.4577164002293533}. Best is trial 11 with value: 0.9071419248092243.\n",
      "[I 2025-10-08 15:00:09,501] Trial 19 finished with value: 0.9069440691535666 and parameters: {'w_0': 0.822464050600963, 'w_1': 0.62461177965236}. Best is trial 11 with value: 0.9071419248092243.\n",
      "[I 2025-10-08 15:00:09,509] Trial 20 finished with value: 0.9067083607065382 and parameters: {'w_0': 0.3267765203882021, 'w_1': 0.8423730329410294}. Best is trial 11 with value: 0.9071419248092243.\n",
      "[I 2025-10-08 15:00:09,516] Trial 21 finished with value: 0.9071362468770369 and parameters: {'w_0': 0.5470045520023288, 'w_1': 0.7187401841067621}. Best is trial 11 with value: 0.9071419248092243.\n",
      "[I 2025-10-08 15:00:09,516] Trial 22 finished with value: 0.9071412691004654 and parameters: {'w_0': 0.6183518726131458, 'w_1': 0.7706890947093697}. Best is trial 11 with value: 0.9071419248092243.\n",
      "[I 2025-10-08 15:00:09,534] Trial 23 finished with value: 0.9071394576964743 and parameters: {'w_0': 0.6248991190482561, 'w_1': 0.798953642546511}. Best is trial 11 with value: 0.9071419248092243.\n"
     ]
    },
    {
     "name": "stdout",
     "output_type": "stream",
     "text": [
      "\n",
      "Equal-weights OOF R²: 0.9071\n"
     ]
    },
    {
     "name": "stderr",
     "output_type": "stream",
     "text": [
      "[I 2025-10-08 15:00:09,544] Trial 24 finished with value: 0.906988388839516 and parameters: {'w_0': 0.8225247923552409, 'w_1': 0.6608557252922864}. Best is trial 11 with value: 0.9071419248092243.\n",
      "[I 2025-10-08 15:00:09,552] Trial 25 finished with value: 0.9071222939273947 and parameters: {'w_0': 0.49845064179653653, 'w_1': 0.521732800059271}. Best is trial 11 with value: 0.9071419248092243.\n",
      "[I 2025-10-08 15:00:09,557] Trial 26 finished with value: 0.9071209346263815 and parameters: {'w_0': 0.6484881796319708, 'w_1': 0.918055126685164}. Best is trial 11 with value: 0.9071419248092243.\n",
      "[I 2025-10-08 15:00:09,565] Trial 27 finished with value: 0.9071113365512182 and parameters: {'w_0': 0.7751024595894629, 'w_1': 0.782280212271333}. Best is trial 11 with value: 0.9071419248092243.\n",
      "[I 2025-10-08 15:00:09,580] Trial 28 finished with value: 0.9068866754327705 and parameters: {'w_0': 0.5757662941374543, 'w_1': 0.40983120037328424}. Best is trial 11 with value: 0.9071419248092243.\n",
      "[I 2025-10-08 15:00:09,584] Trial 29 finished with value: 0.9067899078328857 and parameters: {'w_0': 0.42028161677964615, 'w_1': 0.9969273835954017}. Best is trial 11 with value: 0.9071419248092243.\n",
      "[I 2025-10-08 15:00:09,594] Trial 30 finished with value: 0.906724218906603 and parameters: {'w_0': 0.35482617890004875, 'w_1': 0.900389044089537}. Best is trial 11 with value: 0.9071419248092243.\n",
      "[I 2025-10-08 15:00:09,599] Trial 31 finished with value: 0.9071400047375637 and parameters: {'w_0': 0.5742170827022148, 'w_1': 0.6649485385300482}. Best is trial 11 with value: 0.9071419248092243.\n",
      "[I 2025-10-08 15:00:09,607] Trial 32 finished with value: 0.9070942253446763 and parameters: {'w_0': 0.4944447863861648, 'w_1': 0.7582236170130733}. Best is trial 11 with value: 0.9071419248092243.\n",
      "[I 2025-10-08 15:00:09,610] Trial 33 finished with value: 0.907021216026602 and parameters: {'w_0': 0.6873159282093619, 'w_1': 0.5787682926499096}. Best is trial 11 with value: 0.9071419248092243.\n",
      "[I 2025-10-08 15:00:09,614] Trial 34 finished with value: 0.9071386635353044 and parameters: {'w_0': 0.5900217920778856, 'w_1': 0.6737726706378047}. Best is trial 11 with value: 0.9071419248092243.\n",
      "[I 2025-10-08 15:00:09,614] Trial 35 finished with value: 0.9071394163620827 and parameters: {'w_0': 0.7501065664018074, 'w_1': 0.8629273218532529}. Best is trial 11 with value: 0.9071419248092243.\n",
      "[I 2025-10-08 15:00:09,627] Trial 36 finished with value: 0.9068189777725404 and parameters: {'w_0': 0.40349435818258284, 'w_1': 0.9276950511523473}. Best is trial 11 with value: 0.9071419248092243.\n",
      "[I 2025-10-08 15:00:09,635] Trial 37 finished with value: 0.9067633899514482 and parameters: {'w_0': 0.8855188288803457, 'w_1': 0.5590752033973456}. Best is trial 11 with value: 0.9071419248092243.\n",
      "[I 2025-10-08 15:00:09,641] Trial 38 finished with value: 0.9065487857600603 and parameters: {'w_0': 0.2514242885023515, 'w_1': 0.7532520302712786}. Best is trial 11 with value: 0.9071419248092243.\n",
      "[I 2025-10-08 15:00:09,648] Trial 39 finished with value: 0.90711985600328 and parameters: {'w_0': 0.660599245828458, 'w_1': 0.6853646147919257}. Best is trial 11 with value: 0.9071419248092243.\n",
      "[I 2025-10-08 15:00:09,654] Trial 40 finished with value: 0.9070704956386704 and parameters: {'w_0': 0.5145608112346968, 'w_1': 0.8327352158331607}. Best is trial 11 with value: 0.9071419248092243.\n",
      "[I 2025-10-08 15:00:09,657] Trial 41 finished with value: 0.9071238575369645 and parameters: {'w_0': 0.6073948787331559, 'w_1': 0.63957108754344}. Best is trial 11 with value: 0.9071419248092243.\n",
      "[I 2025-10-08 15:00:09,665] Trial 42 finished with value: 0.9070990130914327 and parameters: {'w_0': 0.4611466564818085, 'w_1': 0.6985077075972026}. Best is trial 11 with value: 0.9071419248092243.\n",
      "[I 2025-10-08 15:00:09,671] Trial 43 finished with value: 0.9071203047002206 and parameters: {'w_0': 0.5534322211283998, 'w_1': 0.7853127113766276}. Best is trial 11 with value: 0.9071419248092243.\n",
      "[I 2025-10-08 15:00:09,673] Trial 44 finished with value: 0.907071456630763 and parameters: {'w_0': 0.6958133384655844, 'w_1': 0.6386818497298764}. Best is trial 11 with value: 0.9071419248092243.\n",
      "[I 2025-10-08 15:00:09,682] Trial 45 finished with value: 0.9071389696469987 and parameters: {'w_0': 0.7724765811754191, 'w_1': 0.884675767703963}. Best is trial 11 with value: 0.9071419248092243.\n",
      "[I 2025-10-08 15:00:09,689] Trial 46 finished with value: 0.906988889834761 and parameters: {'w_0': 0.600066767461387, 'w_1': 0.4824493496434583}. Best is trial 11 with value: 0.9071419248092243.\n",
      "[I 2025-10-08 15:00:09,696] Trial 47 finished with value: 0.9071361453214913 and parameters: {'w_0': 0.5104955777793057, 'w_1': 0.5714883318874626}. Best is trial 11 with value: 0.9071419248092243.\n",
      "[I 2025-10-08 15:00:09,704] Trial 48 finished with value: 0.9056962129671674 and parameters: {'w_0': 0.11810406985098604, 'w_1': 0.7434126256621406}. Best is trial 11 with value: 0.9071419248092243.\n",
      "[I 2025-10-08 15:00:09,710] Trial 49 finished with value: 0.9044853614887098 and parameters: {'w_0': 0.6528846693058871, 'w_1': 0.09017405294742792}. Best is trial 11 with value: 0.9071419248092243.\n",
      "[I 2025-10-08 15:00:09,716] Trial 50 finished with value: 0.9060234709185442 and parameters: {'w_0': 0.7347047300484632, 'w_1': 0.2734019904350005}. Best is trial 11 with value: 0.9071419248092243.\n",
      "[I 2025-10-08 15:00:09,716] Trial 51 finished with value: 0.9071366502174508 and parameters: {'w_0': 0.616658220801566, 'w_1': 0.8079109091155222}. Best is trial 11 with value: 0.9071419248092243.\n",
      "[I 2025-10-08 15:00:09,731] Trial 52 finished with value: 0.9071190651383264 and parameters: {'w_0': 0.5518272692099492, 'w_1': 0.7865580289549233}. Best is trial 11 with value: 0.9071419248092243.\n",
      "[I 2025-10-08 15:00:09,736] Trial 53 finished with value: 0.907097474161692 and parameters: {'w_0': 0.4621906390118806, 'w_1': 0.702913219147908}. Best is trial 11 with value: 0.9071419248092243.\n",
      "[I 2025-10-08 15:00:09,743] Trial 54 finished with value: 0.9071363445829524 and parameters: {'w_0': 0.640259515923155, 'w_1': 0.8406892351770096}. Best is trial 11 with value: 0.9071419248092243.\n",
      "[I 2025-10-08 15:00:09,750] Trial 55 finished with value: 0.907055051895423 and parameters: {'w_0': 0.573907829618562, 'w_1': 0.9576298090392895}. Best is trial 11 with value: 0.9071419248092243.\n",
      "[I 2025-10-08 15:00:09,754] Trial 56 finished with value: 0.9070546566721698 and parameters: {'w_0': 0.6811719263078777, 'w_1': 0.6058846602813074}. Best is trial 11 with value: 0.9071419248092243.\n",
      "[I 2025-10-08 15:00:09,761] Trial 57 finished with value: 0.9071239642900616 and parameters: {'w_0': 0.529402056130572, 'w_1': 0.7407412625515509}. Best is trial 11 with value: 0.9071419248092243.\n",
      "[I 2025-10-08 15:00:09,767] Trial 58 finished with value: 0.9070757471874655 and parameters: {'w_0': 0.7159234919423613, 'w_1': 0.6628234732072888}. Best is trial 11 with value: 0.9071419248092243.\n",
      "[I 2025-10-08 15:00:09,767] Trial 59 finished with value: 0.9071403417526014 and parameters: {'w_0': 0.6204544816708687, 'w_1': 0.7849975910744071}. Best is trial 11 with value: 0.9071419248092243.\n",
      "[I 2025-10-08 15:00:09,767] Trial 60 finished with value: 0.9071354336770644 and parameters: {'w_0': 0.47773304629084307, 'w_1': 0.532265500519883}. Best is trial 11 with value: 0.9071419248092243.\n",
      "[I 2025-10-08 15:00:09,781] Trial 61 finished with value: 0.9071389562508552 and parameters: {'w_0': 0.628497603251376, 'w_1': 0.8076747955745011}. Best is trial 11 with value: 0.9071419248092243.\n",
      "[I 2025-10-08 15:00:09,781] Trial 62 finished with value: 0.9070912488558714 and parameters: {'w_0': 0.5638334844024542, 'w_1': 0.8710172194120513}. Best is trial 11 with value: 0.9071419248092243.\n",
      "[I 2025-10-08 15:00:09,796] Trial 63 finished with value: 0.9071417969085277 and parameters: {'w_0': 0.5984571220260427, 'w_1': 0.7170386957868963}. Best is trial 11 with value: 0.9071419248092243.\n",
      "[I 2025-10-08 15:00:09,801] Trial 64 finished with value: 0.9071419137413925 and parameters: {'w_0': 0.5939327703219225, 'w_1': 0.723521018438176}. Best is trial 11 with value: 0.9071419248092243.\n",
      "[I 2025-10-08 15:00:09,807] Trial 65 finished with value: 0.9070590841042877 and parameters: {'w_0': 0.79399790792354, 'w_1': 0.7118955013199105}. Best is trial 11 with value: 0.9071419248092243.\n",
      "[I 2025-10-08 15:00:09,812] Trial 66 finished with value: 0.9071401356990529 and parameters: {'w_0': 0.6726808628243395, 'w_1': 0.7802168727305572}. Best is trial 11 with value: 0.9071419248092243.\n",
      "[I 2025-10-08 15:00:09,817] Trial 67 finished with value: 0.9071160539283404 and parameters: {'w_0': 0.5263114736762968, 'w_1': 0.7580582366562215}. Best is trial 11 with value: 0.9071419248092243.\n",
      "[I 2025-10-08 15:00:09,817] Trial 68 finished with value: 0.9071180096245341 and parameters: {'w_0': 0.5949255512559005, 'w_1': 0.6133043423072032}. Best is trial 11 with value: 0.9071419248092243.\n",
      "[I 2025-10-08 15:00:09,828] Trial 69 finished with value: 0.9071395491592719 and parameters: {'w_0': 0.6247685396930239, 'w_1': 0.7197536519300214}. Best is trial 11 with value: 0.9071419248092243.\n",
      "[I 2025-10-08 15:00:09,838] Trial 70 finished with value: 0.9069836120010654 and parameters: {'w_0': 0.45032864960258423, 'w_1': 0.8447540066097388}. Best is trial 11 with value: 0.9071419248092243.\n",
      "[I 2025-10-08 15:00:09,844] Trial 71 finished with value: 0.9071393528005591 and parameters: {'w_0': 0.6707018148003101, 'w_1': 0.7710683243310599}. Best is trial 11 with value: 0.9071419248092243.\n",
      "[I 2025-10-08 15:00:09,852] Trial 72 finished with value: 0.9071415619160037 and parameters: {'w_0': 0.6633159291113326, 'w_1': 0.8210407664371226}. Best is trial 11 with value: 0.9071419248092243.\n",
      "[I 2025-10-08 15:00:09,857] Trial 73 finished with value: 0.9070909163017662 and parameters: {'w_0': 0.597959236402297, 'w_1': 0.9244831171678565}. Best is trial 11 with value: 0.9071419248092243.\n",
      "[I 2025-10-08 15:00:09,865] Trial 74 finished with value: 0.9071387993526753 and parameters: {'w_0': 0.6375050588583435, 'w_1': 0.8204887620603892}. Best is trial 11 with value: 0.9071419248092243.\n",
      "[I 2025-10-08 15:00:09,868] Trial 75 finished with value: 0.9070968177549322 and parameters: {'w_0': 0.704192850945647, 'w_1': 0.6833510242095351}. Best is trial 11 with value: 0.9071419248092243.\n",
      "[I 2025-10-08 15:00:09,868] Trial 76 finished with value: 0.9071000548882777 and parameters: {'w_0': 0.7502590786387685, 'w_1': 0.7339975981868472}. Best is trial 11 with value: 0.9071419248092243.\n",
      "[I 2025-10-08 15:00:09,880] Trial 77 finished with value: 0.9070661353814979 and parameters: {'w_0': 0.527049696533208, 'w_1': 0.8605911440228247}. Best is trial 11 with value: 0.9071419248092243.\n",
      "[I 2025-10-08 15:00:09,884] Trial 78 finished with value: 0.9071373638266912 and parameters: {'w_0': 0.49104266763470206, 'w_1': 0.6398560039541215}. Best is trial 11 with value: 0.9071419248092243.\n",
      "[I 2025-10-08 15:00:09,891] Trial 79 finished with value: 0.9070837661146113 and parameters: {'w_0': 0.577008211861123, 'w_1': 0.9072392945503889}. Best is trial 11 with value: 0.9071419248092243.\n",
      "[I 2025-10-08 15:00:09,897] Trial 80 finished with value: 0.9070548557902496 and parameters: {'w_0': 0.8555838805083349, 'w_1': 0.7612892626445277}. Best is trial 11 with value: 0.9071419248092243.\n",
      "[I 2025-10-08 15:00:09,900] Trial 81 finished with value: 0.9071401755058783 and parameters: {'w_0': 0.6910472135806021, 'w_1': 0.8019181406843083}. Best is trial 11 with value: 0.9071419248092243.\n",
      "[I 2025-10-08 15:00:09,900] Trial 82 finished with value: 0.9071412398007823 and parameters: {'w_0': 0.6479820207779379, 'w_1': 0.8081013783425489}. Best is trial 11 with value: 0.9071419248092243.\n",
      "[I 2025-10-08 15:00:09,911] Trial 83 finished with value: 0.9071371605899614 and parameters: {'w_0': 0.6533409459905198, 'w_1': 0.736797136512724}. Best is trial 11 with value: 0.9071419248092243.\n",
      "[I 2025-10-08 15:00:09,917] Trial 84 finished with value: 0.9071389651371958 and parameters: {'w_0': 0.6074287624574016, 'w_1': 0.6956250855673337}. Best is trial 11 with value: 0.9071419248092243.\n",
      "[I 2025-10-08 15:00:09,922] Trial 85 finished with value: 0.9071382395312687 and parameters: {'w_0': 0.732348936767243, 'w_1': 0.8331455532960468}. Best is trial 11 with value: 0.9071419248092243.\n",
      "[I 2025-10-08 15:00:09,928] Trial 86 finished with value: 0.9071418382721151 and parameters: {'w_0': 0.5419064777290912, 'w_1': 0.663988257956684}. Best is trial 11 with value: 0.9071419248092243.\n",
      "[I 2025-10-08 15:00:09,932] Trial 87 finished with value: 0.907136305070608 and parameters: {'w_0': 0.5453634773168043, 'w_1': 0.71628812284061}. Best is trial 11 with value: 0.9071419248092243.\n",
      "[I 2025-10-08 15:00:09,932] Trial 88 finished with value: 0.9070953351843051 and parameters: {'w_0': 0.41180771475896105, 'w_1': 0.6297352912128681}. Best is trial 11 with value: 0.9071419248092243.\n",
      "[I 2025-10-08 15:00:09,941] Trial 89 finished with value: 0.9071388823742215 and parameters: {'w_0': 0.5774203582448647, 'w_1': 0.6607347714708344}. Best is trial 11 with value: 0.9071419248092243.\n",
      "[I 2025-10-08 15:00:09,947] Trial 90 finished with value: 0.907023343611412 and parameters: {'w_0': 0.3863139455573794, 'w_1': 0.6816280586519106}. Best is trial 11 with value: 0.9071419248092243.\n",
      "[I 2025-10-08 15:00:09,949] Trial 91 finished with value: 0.9071411851583993 and parameters: {'w_0': 0.6151356179463371, 'w_1': 0.7679681566408131}. Best is trial 11 with value: 0.9071419248092243.\n",
      "[I 2025-10-08 15:00:09,955] Trial 92 finished with value: 0.9071387159864591 and parameters: {'w_0': 0.6641702766566059, 'w_1': 0.7588138156698472}. Best is trial 11 with value: 0.9071419248092243.\n",
      "[I 2025-10-08 15:00:09,965] Trial 93 finished with value: 0.9071352340658346 and parameters: {'w_0': 0.5528730069333745, 'w_1': 0.7314635116318747}. Best is trial 11 with value: 0.9071419248092243.\n",
      "[I 2025-10-08 15:00:09,970] Trial 94 finished with value: 0.9068371539553057 and parameters: {'w_0': 0.5915526137649008, 'w_1': 0.40024778622927526}. Best is trial 11 with value: 0.9071419248092243.\n",
      "[I 2025-10-08 15:00:09,976] Trial 95 finished with value: 0.9070273830164728 and parameters: {'w_0': 0.5060014348830805, 'w_1': 0.8868455912555354}. Best is trial 11 with value: 0.9071419248092243.\n",
      "[I 2025-10-08 15:00:09,982] Trial 96 finished with value: 0.9071402031607342 and parameters: {'w_0': 0.6442505838805183, 'w_1': 0.8165789892585411}. Best is trial 11 with value: 0.9071419248092243.\n",
      "[I 2025-10-08 15:00:09,987] Trial 97 finished with value: 0.9071364709028035 and parameters: {'w_0': 0.5358717503669215, 'w_1': 0.7029858175109032}. Best is trial 11 with value: 0.9071419248092243.\n",
      "[I 2025-10-08 15:00:09,994] Trial 98 finished with value: 0.9070001547668765 and parameters: {'w_0': 0.7133372449394492, 'w_1': 0.5824986833101181}. Best is trial 11 with value: 0.9071419248092243.\n",
      "[I 2025-10-08 15:00:10,000] Trial 99 finished with value: 0.9071293996423545 and parameters: {'w_0': 0.6089308178488205, 'w_1': 0.6564885718420553}. Best is trial 11 with value: 0.9071419248092243.\n",
      "[I 2025-10-08 15:00:10,000] Trial 100 finished with value: 0.9071214283278924 and parameters: {'w_0': 0.5633838604254475, 'w_1': 0.796100656525981}. Best is trial 11 with value: 0.9071419248092243.\n",
      "[I 2025-10-08 15:00:10,010] Trial 101 finished with value: 0.9071416694295689 and parameters: {'w_0': 0.6299449040108813, 'w_1': 0.7772287474472431}. Best is trial 11 with value: 0.9071419248092243.\n",
      "[I 2025-10-08 15:00:10,016] Trial 102 finished with value: 0.9071417496180687 and parameters: {'w_0': 0.630564187043629, 'w_1': 0.775766557680112}. Best is trial 11 with value: 0.9071419248092243.\n",
      "[I 2025-10-08 15:00:10,016] Trial 103 finished with value: 0.9071419136990264 and parameters: {'w_0': 0.6343259074554435, 'w_1': 0.7727315926054195}. Best is trial 11 with value: 0.9071419248092243.\n",
      "[I 2025-10-08 15:00:10,027] Trial 104 finished with value: 0.9071296959744366 and parameters: {'w_0': 0.6274601113310557, 'w_1': 0.8561111013452077}. Best is trial 11 with value: 0.9071419248092243.\n",
      "[I 2025-10-08 15:00:10,032] Trial 105 finished with value: 0.907137366483553 and parameters: {'w_0': 0.682380602980958, 'w_1': 0.7707662060362868}. Best is trial 11 with value: 0.9071419248092243.\n",
      "[I 2025-10-08 15:00:10,038] Trial 106 finished with value: 0.9071412566861001 and parameters: {'w_0': 0.656141914821138, 'w_1': 0.8179973391490656}. Best is trial 11 with value: 0.9071419248092243.\n",
      "[I 2025-10-08 15:00:10,038] Trial 107 finished with value: 0.9071406876362765 and parameters: {'w_0': 0.6566373125809892, 'w_1': 0.8267253211267623}. Best is trial 11 with value: 0.9071419248092243.\n",
      "[I 2025-10-08 15:00:10,049] Trial 108 finished with value: 0.9071269819388625 and parameters: {'w_0': 0.6390482895389575, 'w_1': 0.8829025625037882}. Best is trial 11 with value: 0.9071419248092243.\n",
      "[I 2025-10-08 15:00:10,049] Trial 109 finished with value: 0.9071260266297034 and parameters: {'w_0': 0.7454602413012794, 'w_1': 0.7918295256699656}. Best is trial 11 with value: 0.9071419248092243.\n",
      "[I 2025-10-08 15:00:10,059] Trial 110 finished with value: 0.907133247429037 and parameters: {'w_0': 0.7734363149845314, 'w_1': 0.8504153160447768}. Best is trial 11 with value: 0.9071419248092243.\n",
      "[I 2025-10-08 15:00:10,065] Trial 111 finished with value: 0.907139458006175 and parameters: {'w_0': 0.5822896469385384, 'w_1': 0.7444735959342765}. Best is trial 11 with value: 0.9071419248092243.\n",
      "[I 2025-10-08 15:00:10,065] Trial 112 finished with value: 0.9071402941608626 and parameters: {'w_0': 0.6139991158924751, 'w_1': 0.7773192223583053}. Best is trial 11 with value: 0.9071419248092243.\n",
      "[I 2025-10-08 15:00:10,082] Trial 113 finished with value: 0.907140339138196 and parameters: {'w_0': 0.7005923510129447, 'w_1': 0.8147094782504694}. Best is trial 11 with value: 0.9071419248092243.\n",
      "[I 2025-10-08 15:00:10,085] Trial 114 finished with value: 0.9071371971577081 and parameters: {'w_0': 0.6654678937615228, 'w_1': 0.7506824036308108}. Best is trial 11 with value: 0.9071419248092243.\n",
      "[I 2025-10-08 15:00:10,090] Trial 115 finished with value: 0.9071419307789617 and parameters: {'w_0': 0.597045557160283, 'w_1': 0.724196892136803}. Best is trial 115 with value: 0.9071419307789617.\n",
      "[I 2025-10-08 15:00:10,097] Trial 116 finished with value: 0.9071415467720207 and parameters: {'w_0': 0.5942183642857316, 'w_1': 0.7059544990548193}. Best is trial 115 with value: 0.9071419307789617.\n",
      "[I 2025-10-08 15:00:10,100] Trial 117 finished with value: 0.9071419233253515 and parameters: {'w_0': 0.5925701788594674, 'w_1': 0.7207953531057675}. Best is trial 115 with value: 0.9071419307789617.\n",
      "[I 2025-10-08 15:00:10,100] Trial 118 finished with value: 0.9071417138913561 and parameters: {'w_0': 0.5880401176196044, 'w_1': 0.7244217088759435}. Best is trial 115 with value: 0.9071419307789617.\n",
      "[I 2025-10-08 15:00:10,110] Trial 119 finished with value: 0.9071398953150039 and parameters: {'w_0': 0.556358281355156, 'w_1': 0.7078421731250344}. Best is trial 115 with value: 0.9071419307789617.\n",
      "[I 2025-10-08 15:00:10,115] Trial 120 finished with value: 0.9071406901112593 and parameters: {'w_0': 0.5169006580003995, 'w_1': 0.6507685895129078}. Best is trial 115 with value: 0.9071419307789617.\n",
      "[I 2025-10-08 15:00:10,115] Trial 121 finished with value: 0.9071418565927656 and parameters: {'w_0': 0.5947605690202108, 'w_1': 0.7279749986106473}. Best is trial 115 with value: 0.9071419307789617.\n",
      "[I 2025-10-08 15:00:10,129] Trial 122 finished with value: 0.9071391588391332 and parameters: {'w_0': 0.5929717085840082, 'w_1': 0.6803623251053397}. Best is trial 115 with value: 0.9071419307789617.\n",
      "[I 2025-10-08 15:00:10,131] Trial 123 finished with value: 0.9071419192880421 and parameters: {'w_0': 0.5689477046360911, 'w_1': 0.6925440644465685}. Best is trial 115 with value: 0.9071419307789617.\n",
      "[I 2025-10-08 15:00:10,131] Trial 124 finished with value: 0.9071393774540806 and parameters: {'w_0': 0.5689487446729365, 'w_1': 0.7280385467987397}. Best is trial 115 with value: 0.9071419307789617.\n",
      "[I 2025-10-08 15:00:10,144] Trial 125 finished with value: 0.9071209240414561 and parameters: {'w_0': 0.4812913097832533, 'w_1': 0.6813838463065095}. Best is trial 115 with value: 0.9071419307789617.\n",
      "[I 2025-10-08 15:00:10,149] Trial 126 finished with value: 0.907139407241399 and parameters: {'w_0': 0.5386506902001444, 'w_1': 0.6196078948675265}. Best is trial 115 with value: 0.9071419307789617.\n",
      "[I 2025-10-08 15:00:10,156] Trial 127 finished with value: 0.907140678814496 and parameters: {'w_0': 0.6240353585093285, 'w_1': 0.7291400940714526}. Best is trial 115 with value: 0.9071419307789617.\n",
      "[I 2025-10-08 15:00:10,160] Trial 128 finished with value: 0.9071415409279922 and parameters: {'w_0': 0.5819799952833337, 'w_1': 0.6913064843880277}. Best is trial 115 with value: 0.9071419307789617.\n",
      "[I 2025-10-08 15:00:10,165] Trial 129 finished with value: 0.9071353950491753 and parameters: {'w_0': 0.5666009659813585, 'w_1': 0.7488341683583885}. Best is trial 115 with value: 0.9071419307789617.\n",
      "[I 2025-10-08 15:00:10,165] Trial 130 finished with value: 0.9071333131713177 and parameters: {'w_0': 0.5375064575772351, 'w_1': 0.7195415950840993}. Best is trial 115 with value: 0.9071419307789617.\n",
      "[I 2025-10-08 15:00:10,174] Trial 131 finished with value: 0.9071413109295001 and parameters: {'w_0': 0.5969545200278848, 'w_1': 0.705250834079181}. Best is trial 115 with value: 0.9071419307789617.\n",
      "[I 2025-10-08 15:00:10,179] Trial 132 finished with value: 0.9071346197086553 and parameters: {'w_0': 0.5991617554130813, 'w_1': 0.6641285276960225}. Best is trial 115 with value: 0.9071419307789617.\n",
      "[I 2025-10-08 15:00:10,181] Trial 133 finished with value: 0.9065703762165869 and parameters: {'w_0': 0.6363071841812237, 'w_1': 0.34286633719230086}. Best is trial 115 with value: 0.9071419307789617.\n",
      "[I 2025-10-08 15:00:10,190] Trial 134 finished with value: 0.9071391974484321 and parameters: {'w_0': 0.5557003833227891, 'w_1': 0.7124108394001539}. Best is trial 115 with value: 0.9071419307789617.\n",
      "[I 2025-10-08 15:00:10,196] Trial 135 finished with value: 0.9071063208643901 and parameters: {'w_0': 0.5015175778149511, 'w_1': 0.7445137430084412}. Best is trial 115 with value: 0.9071419307789617.\n",
      "[I 2025-10-08 15:00:10,200] Trial 136 finished with value: 0.9071398590520456 and parameters: {'w_0': 0.611887761385509, 'w_1': 0.778822130027286}. Best is trial 115 with value: 0.9071419307789617.\n",
      "[I 2025-10-08 15:00:10,200] Trial 137 finished with value: 0.9071413910921919 and parameters: {'w_0': 0.585767341226907, 'w_1': 0.693250873020519}. Best is trial 115 with value: 0.9071419307789617.\n",
      "[I 2025-10-08 15:00:10,210] Trial 138 finished with value: 0.907127513448873 and parameters: {'w_0': 0.6789924329631146, 'w_1': 0.7258081907934508}. Best is trial 115 with value: 0.9071419307789617.\n",
      "[I 2025-10-08 15:00:10,215] Trial 139 finished with value: 0.9071414235769287 and parameters: {'w_0': 0.5182902018866096, 'w_1': 0.6437877663011856}. Best is trial 115 with value: 0.9071419307789617.\n",
      "[I 2025-10-08 15:00:10,223] Trial 140 finished with value: 0.9071285972802723 and parameters: {'w_0': 0.6249394709779149, 'w_1': 0.6712592196130528}. Best is trial 115 with value: 0.9071419307789617.\n",
      "[I 2025-10-08 15:00:10,227] Trial 141 finished with value: 0.9071418127966889 and parameters: {'w_0': 0.5817853222922404, 'w_1': 0.6975849547261145}. Best is trial 115 with value: 0.9071419307789617.\n",
      "[I 2025-10-08 15:00:10,232] Trial 142 finished with value: 0.9071358405924774 and parameters: {'w_0': 0.576936949610842, 'w_1': 0.7602152154540999}. Best is trial 115 with value: 0.9071419307789617.\n",
      "[I 2025-10-08 15:00:10,238] Trial 143 finished with value: 0.9071409226736601 and parameters: {'w_0': 0.6031038011089822, 'w_1': 0.7073856978255612}. Best is trial 115 with value: 0.9071419307789617.\n",
      "[I 2025-10-08 15:00:10,238] Trial 144 finished with value: 0.9071414422581344 and parameters: {'w_0': 0.6377452481785049, 'w_1': 0.79181604860083}. Best is trial 115 with value: 0.9071419307789617.\n",
      "[I 2025-10-08 15:00:10,249] Trial 145 finished with value: 0.9071301867346491 and parameters: {'w_0': 0.547675744459988, 'w_1': 0.7454586759762135}. Best is trial 115 with value: 0.9071419307789617.\n",
      "[I 2025-10-08 15:00:10,253] Trial 146 finished with value: 0.9071419134874172 and parameters: {'w_0': 0.5665865273220747, 'w_1': 0.6902305582964673}. Best is trial 115 with value: 0.9071419307789617.\n",
      "[I 2025-10-08 15:00:10,258] Trial 147 finished with value: 0.9071417807611902 and parameters: {'w_0': 0.5546696517479005, 'w_1': 0.6815210372877079}. Best is trial 115 with value: 0.9071419307789617.\n",
      "[I 2025-10-08 15:00:10,265] Trial 148 finished with value: 0.9071398273816499 and parameters: {'w_0': 0.5302319431934146, 'w_1': 0.6751376841209983}. Best is trial 115 with value: 0.9071419307789617.\n",
      "[I 2025-10-08 15:00:10,270] Trial 149 finished with value: 0.9071417234841129 and parameters: {'w_0': 0.5484518885586207, 'w_1': 0.6551665328476951}. Best is trial 115 with value: 0.9071419307789617.\n",
      "[I 2025-10-08 15:00:10,274] Trial 150 finished with value: 0.9071389798709277 and parameters: {'w_0': 0.48119996635861795, 'w_1': 0.6182416324883655}. Best is trial 115 with value: 0.9071419307789617.\n",
      "[I 2025-10-08 15:00:10,280] Trial 151 finished with value: 0.9071388932153727 and parameters: {'w_0': 0.5688993880074571, 'w_1': 0.6510516357529751}. Best is trial 115 with value: 0.9071419307789617.\n",
      "[I 2025-10-08 15:00:10,282] Trial 152 finished with value: 0.9071413127978063 and parameters: {'w_0': 0.5540275738781627, 'w_1': 0.6898858340279577}. Best is trial 115 with value: 0.9071419307789617.\n",
      "[I 2025-10-08 15:00:10,282] Trial 153 finished with value: 0.9071413929850355 and parameters: {'w_0': 0.5055603839710919, 'w_1': 0.5983523258168749}. Best is trial 115 with value: 0.9071419307789617.\n",
      "[I 2025-10-08 15:00:10,293] Trial 154 finished with value: 0.9071403486498002 and parameters: {'w_0': 0.571494686653851, 'w_1': 0.7229872800172591}. Best is trial 115 with value: 0.9071419307789617.\n",
      "[I 2025-10-08 15:00:10,299] Trial 155 finished with value: 0.907141595345351 and parameters: {'w_0': 0.5354693437436475, 'w_1': 0.6621693342470816}. Best is trial 115 with value: 0.9071419307789617.\n",
      "[I 2025-10-08 15:00:10,299] Trial 156 finished with value: 0.9046137470844392 and parameters: {'w_0': 0.028065599900554128, 'w_1': 0.7604320951779956}. Best is trial 115 with value: 0.9071419307789617.\n",
      "[I 2025-10-08 15:00:10,310] Trial 157 finished with value: 0.9071201985790518 and parameters: {'w_0': 0.6121050053890531, 'w_1': 0.6358228503326553}. Best is trial 115 with value: 0.9071419307789617.\n",
      "[I 2025-10-08 15:00:10,316] Trial 158 finished with value: 0.9071409118095669 and parameters: {'w_0': 0.5898442865595636, 'w_1': 0.691709094900844}. Best is trial 115 with value: 0.9071419307789617.\n",
      "[I 2025-10-08 15:00:10,316] Trial 159 finished with value: 0.9034586842575419 and parameters: {'w_0': 0.19422838434535755, 'w_1': 0.009283177793250053}. Best is trial 115 with value: 0.9071419307789617.\n",
      "[I 2025-10-08 15:00:10,325] Trial 160 finished with value: 0.9071349194151863 and parameters: {'w_0': 0.556198977541461, 'w_1': 0.7373590530492196}. Best is trial 115 with value: 0.9071419307789617.\n",
      "[I 2025-10-08 15:00:10,332] Trial 161 finished with value: 0.907139692944868 and parameters: {'w_0': 0.5183308947432045, 'w_1': 0.6609970788597219}. Best is trial 115 with value: 0.9071419307789617.\n",
      "[I 2025-10-08 15:00:10,338] Trial 162 finished with value: 0.9071417462020374 and parameters: {'w_0': 0.5419800007983347, 'w_1': 0.6668729181310942}. Best is trial 115 with value: 0.9071419307789617.\n",
      "[I 2025-10-08 15:00:10,358] Trial 163 finished with value: 0.9071411668976812 and parameters: {'w_0': 0.5777255401056602, 'w_1': 0.721517617337316}. Best is trial 115 with value: 0.9071419307789617.\n",
      "[I 2025-10-08 15:00:10,365] Trial 164 finished with value: 0.907132097994063 and parameters: {'w_0': 0.6242173971704893, 'w_1': 0.68205377181524}. Best is trial 115 with value: 0.9071419307789617.\n",
      "[I 2025-10-08 15:00:10,372] Trial 165 finished with value: 0.9071357651774875 and parameters: {'w_0': 0.5363445107863382, 'w_1': 0.5988764510512964}. Best is trial 115 with value: 0.9071419307789617.\n",
      "[I 2025-10-08 15:00:10,377] Trial 166 finished with value: 0.906928756901588 and parameters: {'w_0': 0.6006079234432037, 'w_1': 0.44796636338456064}. Best is trial 115 with value: 0.9071419307789617.\n",
      "[I 2025-10-08 15:00:10,385] Trial 167 finished with value: 0.9071265370309647 and parameters: {'w_0': 0.5566307412655724, 'w_1': 0.7705299713777555}. Best is trial 115 with value: 0.9071419307789617.\n",
      "[I 2025-10-08 15:00:10,387] Trial 168 finished with value: 0.9071305873022617 and parameters: {'w_0': 0.6489948227495277, 'w_1': 0.703682995737582}. Best is trial 115 with value: 0.9071419307789617.\n",
      "[I 2025-10-08 15:00:10,394] Trial 169 finished with value: 0.9071396146084079 and parameters: {'w_0': 0.5781617984296789, 'w_1': 0.7379394970520413}. Best is trial 115 with value: 0.9071419307789617.\n",
      "[I 2025-10-08 15:00:10,402] Trial 170 finished with value: 0.9071335599467855 and parameters: {'w_0': 0.6137050926678652, 'w_1': 0.6759859901628027}. Best is trial 115 with value: 0.9071419307789617.\n",
      "[I 2025-10-08 15:00:10,416] Trial 171 finished with value: 0.9071412771224419 and parameters: {'w_0': 0.5367445673072093, 'w_1': 0.6336700803967589}. Best is trial 115 with value: 0.9071419307789617.\n",
      "[I 2025-10-08 15:00:10,419] Trial 172 finished with value: 0.90713284660128 and parameters: {'w_0': 0.5010288677306283, 'w_1': 0.6724922482528979}. Best is trial 115 with value: 0.9071419307789617.\n",
      "[I 2025-10-08 15:00:10,424] Trial 173 finished with value: 0.9071419171979752 and parameters: {'w_0': 0.5405839520194541, 'w_1': 0.6531149584847047}. Best is trial 115 with value: 0.9071419307789617.\n",
      "[I 2025-10-08 15:00:10,430] Trial 174 finished with value: 0.9070882105063668 and parameters: {'w_0': 0.4487958886460601, 'w_1': 0.6983885563970985}. Best is trial 115 with value: 0.9071419307789617.\n",
      "[I 2025-10-08 15:00:10,430] Trial 175 finished with value: 0.9071418642956599 and parameters: {'w_0': 0.59252136979059, 'w_1': 0.7248818558011924}. Best is trial 115 with value: 0.9071419307789617.\n",
      "[I 2025-10-08 15:00:10,430] Trial 176 finished with value: 0.9071403603619731 and parameters: {'w_0': 0.5687304779007715, 'w_1': 0.7193776538061082}. Best is trial 115 with value: 0.9071419307789617.\n",
      "[I 2025-10-08 15:00:10,443] Trial 177 finished with value: 0.907119211547586 and parameters: {'w_0': 0.5202973876378809, 'w_1': 0.5385866721818234}. Best is trial 115 with value: 0.9071419307789617.\n",
      "[I 2025-10-08 15:00:10,449] Trial 178 finished with value: 0.9068034703190617 and parameters: {'w_0': 0.9970878721386107, 'w_1': 0.6531151213894059}. Best is trial 115 with value: 0.9071419307789617.\n",
      "[I 2025-10-08 15:00:10,449] Trial 179 finished with value: 0.9071417722515183 and parameters: {'w_0': 0.5926122880537766, 'w_1': 0.7092710974977063}. Best is trial 115 with value: 0.9071419307789617.\n",
      "[I 2025-10-08 15:00:10,460] Trial 180 finished with value: 0.9071391381619796 and parameters: {'w_0': 0.5438189202871506, 'w_1': 0.6975970380701557}. Best is trial 115 with value: 0.9071419307789617.\n",
      "[I 2025-10-08 15:00:10,467] Trial 181 finished with value: 0.9071417743326897 and parameters: {'w_0': 0.5953833670512293, 'w_1': 0.7317469566538921}. Best is trial 115 with value: 0.9071419307789617.\n",
      "[I 2025-10-08 15:00:10,467] Trial 182 finished with value: 0.9071414870065903 and parameters: {'w_0': 0.5994530638784333, 'w_1': 0.7434559836559345}. Best is trial 115 with value: 0.9071419307789617.\n",
      "[I 2025-10-08 15:00:10,477] Trial 183 finished with value: 0.9071401762416134 and parameters: {'w_0': 0.5600526150031243, 'w_1': 0.7101024304989165}. Best is trial 115 with value: 0.9071419307789617.\n",
      "[I 2025-10-08 15:00:10,483] Trial 184 finished with value: 0.907138523512671 and parameters: {'w_0': 0.585807865270653, 'w_1': 0.755891205506335}. Best is trial 115 with value: 0.9071419307789617.\n",
      "[I 2025-10-08 15:00:10,489] Trial 185 finished with value: 0.9071346993493753 and parameters: {'w_0': 0.6138150146432796, 'w_1': 0.680704348239076}. Best is trial 115 with value: 0.9071419307789617.\n",
      "[I 2025-10-08 15:00:10,497] Trial 186 finished with value: 0.90492116625622 and parameters: {'w_0': 0.5630042144361934, 'w_1': 0.10558773285946521}. Best is trial 115 with value: 0.9071419307789617.\n",
      "[I 2025-10-08 15:00:10,503] Trial 187 finished with value: 0.9071390481844848 and parameters: {'w_0': 0.6352869671035308, 'w_1': 0.728116236132715}. Best is trial 115 with value: 0.9071419307789617.\n",
      "[I 2025-10-08 15:00:10,507] Trial 188 finished with value: 0.9071255273741116 and parameters: {'w_0': 0.5906550238036489, 'w_1': 0.6261047131947678}. Best is trial 115 with value: 0.9071419307789617.\n",
      "[I 2025-10-08 15:00:10,510] Trial 189 finished with value: 0.9071289422791178 and parameters: {'w_0': 0.607437448219685, 'w_1': 0.653489605421345}. Best is trial 115 with value: 0.9071419307789617.\n",
      "[I 2025-10-08 15:00:10,520] Trial 190 finished with value: 0.9071398637825541 and parameters: {'w_0': 0.5470205386509567, 'w_1': 0.696219454848641}. Best is trial 115 with value: 0.9071419307789617.\n",
      "[I 2025-10-08 15:00:10,527] Trial 191 finished with value: 0.9071415711004365 and parameters: {'w_0': 0.5771351343556037, 'w_1': 0.7141856536375769}. Best is trial 115 with value: 0.9071419307789617.\n",
      "[I 2025-10-08 15:00:10,527] Trial 192 finished with value: 0.9071411145068035 and parameters: {'w_0': 0.5902272934977583, 'w_1': 0.7378598497241238}. Best is trial 115 with value: 0.9071419307789617.\n",
      "[I 2025-10-08 15:00:10,538] Trial 193 finished with value: 0.9071396195240027 and parameters: {'w_0': 0.6241627561715831, 'w_1': 0.7196057076329625}. Best is trial 115 with value: 0.9071419307789617.\n",
      "[I 2025-10-08 15:00:10,548] Trial 194 finished with value: 0.9071419192184079 and parameters: {'w_0': 0.565471331374785, 'w_1': 0.6833888894963639}. Best is trial 115 with value: 0.9071419307789617.\n",
      "[I 2025-10-08 15:00:10,551] Trial 195 finished with value: 0.9071366912982011 and parameters: {'w_0': 0.5157560693740652, 'w_1': 0.6755105205107894}. Best is trial 115 with value: 0.9071419307789617.\n",
      "[I 2025-10-08 15:00:10,564] Trial 196 finished with value: 0.9071416502601756 and parameters: {'w_0': 0.5587274058734456, 'w_1': 0.689785552782961}. Best is trial 115 with value: 0.9071419307789617.\n",
      "[I 2025-10-08 15:00:10,570] Trial 197 finished with value: 0.9071382923160903 and parameters: {'w_0': 0.5682743029929479, 'w_1': 0.6467850365685122}. Best is trial 115 with value: 0.9071419307789617.\n",
      "[I 2025-10-08 15:00:10,577] Trial 198 finished with value: 0.9071194914429359 and parameters: {'w_0': 0.5281475595796927, 'w_1': 0.7516547066417505}. Best is trial 115 with value: 0.9071419307789617.\n",
      "[I 2025-10-08 15:00:10,584] Trial 199 finished with value: 0.9071412867975526 and parameters: {'w_0': 0.5947481809851004, 'w_1': 0.7022886425374447}. Best is trial 115 with value: 0.9071419307789617.\n"
     ]
    },
    {
     "name": "stdout",
     "output_type": "stream",
     "text": [
      "\n",
      "🎯 Optimized weights (sum to 1):\n",
      "  rf: 0.4519\n",
      "  xgb: 0.5481\n",
      "Optimized OOF R²: 0.9071 (vs equal-weights 0.9071)\n",
      "Fitting final model on full data: rf\n",
      "Fitting final model on full data: xgb\n"
     ]
    },
    {
     "name": "stderr",
     "output_type": "stream",
     "text": [
      "[I 2025-10-08 15:00:28,684] A new study created in memory with name: no-name-5c24c9fb-3788-4961-ae04-f22d8879187d\n",
      "[I 2025-10-08 15:00:28,684] Trial 0 finished with value: 0.9004730426409286 and parameters: {'w_0': 0.3745401188473625, 'w_1': 0.9507143064099162}. Best is trial 0 with value: 0.9004730426409286.\n",
      "[I 2025-10-08 15:00:28,689] Trial 1 finished with value: 0.8993352925100169 and parameters: {'w_0': 0.7319939418114051, 'w_1': 0.5986584841970366}. Best is trial 0 with value: 0.9004730426409286.\n",
      "[I 2025-10-08 15:00:28,689] Trial 2 finished with value: 0.8997142276830608 and parameters: {'w_0': 0.15601864044243652, 'w_1': 0.15599452033620265}. Best is trial 0 with value: 0.9004730426409286.\n",
      "[I 2025-10-08 15:00:28,689] Trial 3 finished with value: 0.8997747916483505 and parameters: {'w_0': 0.05808361216819946, 'w_1': 0.8661761457749352}. Best is trial 0 with value: 0.9004730426409286.\n",
      "[I 2025-10-08 15:00:28,689] Trial 4 finished with value: 0.8999670021545934 and parameters: {'w_0': 0.6011150117432088, 'w_1': 0.7080725777960455}. Best is trial 0 with value: 0.9004730426409286.\n",
      "[I 2025-10-08 15:00:28,689] Trial 5 finished with value: 0.8994732074223233 and parameters: {'w_0': 0.020584494295802447, 'w_1': 0.9699098521619943}. Best is trial 0 with value: 0.9004730426409286.\n",
      "[I 2025-10-08 15:00:28,689] Trial 6 finished with value: 0.8963521287606335 and parameters: {'w_0': 0.8324426408004217, 'w_1': 0.21233911067827616}. Best is trial 0 with value: 0.9004730426409286.\n",
      "[I 2025-10-08 15:00:28,689] Trial 7 finished with value: 0.8997291335507487 and parameters: {'w_0': 0.18182496720710062, 'w_1': 0.18340450985343382}. Best is trial 0 with value: 0.9004730426409286.\n",
      "[I 2025-10-08 15:00:28,706] Trial 8 finished with value: 0.9003497405690744 and parameters: {'w_0': 0.3042422429595377, 'w_1': 0.5247564316322378}. Best is trial 0 with value: 0.9004730426409286.\n",
      "[I 2025-10-08 15:00:28,709] Trial 9 finished with value: 0.898908125813959 and parameters: {'w_0': 0.43194501864211576, 'w_1': 0.2912291401980419}. Best is trial 0 with value: 0.9004730426409286.\n",
      "[I 2025-10-08 15:00:28,713] Trial 10 finished with value: 0.8993310457959047 and parameters: {'w_0': 0.9451365442303864, 'w_1': 0.7713875440128322}. Best is trial 0 with value: 0.9004730426409286.\n",
      "[I 2025-10-08 15:00:28,723] Trial 11 finished with value: 0.8997937183086333 and parameters: {'w_0': 0.3998970228981844, 'w_1': 0.4195038495129044}. Best is trial 0 with value: 0.9004730426409286.\n",
      "[I 2025-10-08 15:00:28,734] Trial 12 finished with value: 0.9002702100338792 and parameters: {'w_0': 0.33161751444757653, 'w_1': 0.5135503862216784}. Best is trial 0 with value: 0.9004730426409286.\n",
      "[I 2025-10-08 15:00:28,740] Trial 13 finished with value: 0.9003588014374979 and parameters: {'w_0': 0.5587581291554284, 'w_1': 0.9778120439635134}. Best is trial 0 with value: 0.9004730426409286.\n",
      "[I 2025-10-08 15:00:28,748] Trial 14 finished with value: 0.9003583026664586 and parameters: {'w_0': 0.5705478648816833, 'w_1': 0.9976316275229281}. Best is trial 0 with value: 0.9004730426409286.\n",
      "[I 2025-10-08 15:00:28,756] Trial 15 finished with value: 0.900087319199554 and parameters: {'w_0': 0.6633634594601393, 'w_1': 0.8579693302836475}. Best is trial 0 with value: 0.9004730426409286.\n",
      "[I 2025-10-08 15:00:28,767] Trial 16 finished with value: 0.9001419914755849 and parameters: {'w_0': 0.5106188698347582, 'w_1': 0.6926844373141898}. Best is trial 0 with value: 0.9004730426409286.\n",
      "[I 2025-10-08 15:00:28,776] Trial 17 finished with value: 0.9004425198961294 and parameters: {'w_0': 0.2622713788133537, 'w_1': 0.8691988623024899}. Best is trial 0 with value: 0.9004730426409286.\n",
      "[I 2025-10-08 15:00:28,784] Trial 18 finished with value: 0.9002586450408536 and parameters: {'w_0': 0.16005384799155253, 'w_1': 0.8517223351044378}. Best is trial 0 with value: 0.9004730426409286.\n",
      "[I 2025-10-08 15:00:28,790] Trial 19 finished with value: 0.90021192055351 and parameters: {'w_0': 0.26699107294536956, 'w_1': 0.38759420406396095}. Best is trial 0 with value: 0.9004730426409286.\n",
      "[I 2025-10-08 15:00:28,800] Trial 20 finished with value: 0.8937542620440269 and parameters: {'w_0': 0.4181671744868437, 'w_1': 0.026368084405807735}. Best is trial 0 with value: 0.9004730426409286.\n",
      "[I 2025-10-08 15:00:28,806] Trial 21 finished with value: 0.9003809301832995 and parameters: {'w_0': 0.508095906082825, 'w_1': 0.923854705296241}. Best is trial 0 with value: 0.9004730426409286.\n",
      "[I 2025-10-08 15:00:28,813] Trial 22 finished with value: 0.900438150685087 and parameters: {'w_0': 0.26403988503752934, 'w_1': 0.8903571528483738}. Best is trial 0 with value: 0.9004730426409286.\n",
      "[I 2025-10-08 15:00:28,820] Trial 23 finished with value: 0.9004569818224888 and parameters: {'w_0': 0.2392052784663451, 'w_1': 0.7413592538414855}. Best is trial 0 with value: 0.9004730426409286.\n",
      "[I 2025-10-08 15:00:28,830] Trial 24 finished with value: 0.900430033657798 and parameters: {'w_0': 0.2218832237064603, 'w_1': 0.7709457281981169}. Best is trial 0 with value: 0.9004730426409286.\n",
      "[I 2025-10-08 15:00:28,837] Trial 25 finished with value: 0.9000263099552571 and parameters: {'w_0': 0.08977884953101128, 'w_1': 0.7600095209203965}. Best is trial 0 with value: 0.9004730426409286.\n",
      "[I 2025-10-08 15:00:28,843] Trial 26 finished with value: 0.9003842972307015 and parameters: {'w_0': 0.3475609693485416, 'w_1': 0.6359219374377121}. Best is trial 0 with value: 0.9004730426409286.\n",
      "[I 2025-10-08 15:00:28,852] Trial 27 finished with value: 0.9004375591071574 and parameters: {'w_0': 0.3896056036568631, 'w_1': 0.8074359040525204}. Best is trial 0 with value: 0.9004730426409286.\n",
      "[I 2025-10-08 15:00:28,860] Trial 28 finished with value: 0.9004728633260336 and parameters: {'w_0': 0.22956738296183696, 'w_1': 0.61995432012778}. Best is trial 0 with value: 0.9004730426409286.\n",
      "[I 2025-10-08 15:00:28,864] Trial 29 finished with value: 0.9002571771684781 and parameters: {'w_0': 0.1067844730939237, 'w_1': 0.569982279862253}. Best is trial 0 with value: 0.9004730426409286.\n",
      "[I 2025-10-08 15:00:28,875] Trial 30 finished with value: 0.9002007685707438 and parameters: {'w_0': 0.4537481030865207, 'w_1': 0.651227931042299}. Best is trial 0 with value: 0.9004730426409286.\n",
      "[I 2025-10-08 15:00:28,885] Trial 31 finished with value: 0.9004606577896745 and parameters: {'w_0': 0.23119981530657008, 'w_1': 0.7016849209656222}. Best is trial 0 with value: 0.9004730426409286.\n",
      "[I 2025-10-08 15:00:28,889] Trial 32 finished with value: 0.9004590380379908 and parameters: {'w_0': 0.1924431745423917, 'w_1': 0.5896548720348233}. Best is trial 0 with value: 0.9004730426409286.\n",
      "[I 2025-10-08 15:00:28,897] Trial 33 finished with value: 0.9004427677295541 and parameters: {'w_0': 0.13481125683627093, 'w_1': 0.4463281105468152}. Best is trial 0 with value: 0.9004730426409286.\n",
      "[I 2025-10-08 15:00:28,909] Trial 34 finished with value: 0.9004607190740528 and parameters: {'w_0': 0.19405802544259299, 'w_1': 0.5887420223774212}. Best is trial 0 with value: 0.9004730426409286.\n",
      "[I 2025-10-08 15:00:28,913] Trial 35 finished with value: 0.9004208739020516 and parameters: {'w_0': 0.33100488027452957, 'w_1': 0.6551073013221217}. Best is trial 0 with value: 0.9004730426409286.\n",
      "[I 2025-10-08 15:00:28,926] Trial 36 finished with value: 0.8994263541909491 and parameters: {'w_0': 0.008457472901471724, 'w_1': 0.560964923088048}. Best is trial 0 with value: 0.9004730426409286.\n",
      "[I 2025-10-08 15:00:28,926] Trial 37 finished with value: 0.9000115128931964 and parameters: {'w_0': 0.054100107822388166, 'w_1': 0.47196830288356284}. Best is trial 0 with value: 0.9004730426409286.\n",
      "[I 2025-10-08 15:00:28,926] Trial 38 finished with value: 0.9003326921859292 and parameters: {'w_0': 0.19912265423584716, 'w_1': 0.3347133151825251}. Best is trial 0 with value: 0.9004730426409286.\n",
      "[I 2025-10-08 15:00:28,946] Trial 39 finished with value: 0.9001982222102767 and parameters: {'w_0': 0.1174512947892632, 'w_1': 0.7065676589427352}. Best is trial 0 with value: 0.9004730426409286.\n",
      "[I 2025-10-08 15:00:28,949] Trial 40 finished with value: 0.9004404676662603 and parameters: {'w_0': 0.29318990365423697, 'w_1': 0.6132021912741383}. Best is trial 0 with value: 0.9004730426409286.\n",
      "[I 2025-10-08 15:00:28,956] Trial 41 finished with value: 0.9004706314071825 and parameters: {'w_0': 0.20821885549159486, 'w_1': 0.5832304931325759}. Best is trial 0 with value: 0.9004730426409286.\n",
      "[I 2025-10-08 15:00:28,963] Trial 42 finished with value: 0.9004245459634647 and parameters: {'w_0': 0.15008918537674637, 'w_1': 0.5314611734602315}. Best is trial 0 with value: 0.9004730426409286.\n",
      "[I 2025-10-08 15:00:28,970] Trial 43 finished with value: 0.9003965498807307 and parameters: {'w_0': 0.36849221644260577, 'w_1': 0.6905368926864457}. Best is trial 0 with value: 0.9004730426409286.\n",
      "[I 2025-10-08 15:00:28,979] Trial 44 finished with value: 0.90005514198865 and parameters: {'w_0': 0.0604451864210154, 'w_1': 0.48283099557081643}. Best is trial 0 with value: 0.9004730426409286.\n",
      "[I 2025-10-08 15:00:28,982] Trial 45 finished with value: 0.8997093487463191 and parameters: {'w_0': 0.8130790239477442, 'w_1': 0.8106292012935228}. Best is trial 0 with value: 0.9004730426409286.\n",
      "[I 2025-10-08 15:00:28,992] Trial 46 finished with value: 0.9003670349300998 and parameters: {'w_0': 0.30749834288068456, 'w_1': 0.5455506271628713}. Best is trial 0 with value: 0.9004730426409286.\n",
      "[I 2025-10-08 15:00:28,998] Trial 47 finished with value: 0.9004201515602228 and parameters: {'w_0': 0.46799661165138173, 'w_1': 0.9245678452102573}. Best is trial 0 with value: 0.9004730426409286.\n",
      "[I 2025-10-08 15:00:28,998] Trial 48 finished with value: 0.9004117195178725 and parameters: {'w_0': 0.20252819920759732, 'w_1': 0.3921471142021633}. Best is trial 0 with value: 0.9004730426409286.\n",
      "[I 2025-10-08 15:00:29,014] Trial 49 finished with value: 0.900473073431404 and parameters: {'w_0': 0.2353558047805222, 'w_1': 0.5979444760794486}. Best is trial 49 with value: 0.900473073431404.\n",
      "[I 2025-10-08 15:00:29,023] Trial 50 finished with value: 0.8995172355908052 and parameters: {'w_0': 0.3050018173160652, 'w_1': 0.2734019904350004}. Best is trial 49 with value: 0.900473073431404.\n",
      "[I 2025-10-08 15:00:29,033] Trial 51 finished with value: 0.9004730180652909 and parameters: {'w_0': 0.22900113225581625, 'w_1': 0.6158923046161917}. Best is trial 49 with value: 0.900473073431404.\n",
      "[I 2025-10-08 15:00:29,043] Trial 52 finished with value: 0.9004012808851849 and parameters: {'w_0': 0.15709220440301683, 'w_1': 0.5979301602019041}. Best is trial 49 with value: 0.900473073431404.\n",
      "[I 2025-10-08 15:00:29,048] Trial 53 finished with value: 0.9003967622506721 and parameters: {'w_0': 0.27046623951349297, 'w_1': 0.507060003027959}. Best is trial 49 with value: 0.900473073431404.\n",
      "[I 2025-10-08 15:00:29,051] Trial 54 finished with value: 0.9004190249671279 and parameters: {'w_0': 0.17418069104250994, 'w_1': 0.6280924315997274}. Best is trial 49 with value: 0.900473073431404.\n",
      "[I 2025-10-08 15:00:29,066] Trial 55 finished with value: 0.8961103881599151 and parameters: {'w_0': 0.3585302684441886, 'w_1': 0.08312302555673601}. Best is trial 49 with value: 0.900473073431404.\n",
      "[I 2025-10-08 15:00:29,072] Trial 56 finished with value: 0.8988719339694211 and parameters: {'w_0': 0.9962253844052451, 'w_1': 0.6614621678660995}. Best is trial 49 with value: 0.900473073431404.\n",
      "[I 2025-10-08 15:00:29,082] Trial 57 finished with value: 0.8999938503582602 and parameters: {'w_0': 0.0647589606587684, 'w_1': 0.5858054852675846}. Best is trial 49 with value: 0.900473073431404.\n",
      "[I 2025-10-08 15:00:29,089] Trial 58 finished with value: 0.9004042428591061 and parameters: {'w_0': 0.23511176533984168, 'w_1': 0.44773806092174373}. Best is trial 49 with value: 0.900473073431404.\n",
      "[I 2025-10-08 15:00:29,097] Trial 59 finished with value: 0.9003916172491253 and parameters: {'w_0': 0.28147372812085925, 'w_1': 0.5222922191206829}. Best is trial 49 with value: 0.900473073431404.\n",
      "[I 2025-10-08 15:00:29,104] Trial 60 finished with value: 0.9004327252818143 and parameters: {'w_0': 0.40079703131788635, 'w_1': 0.8187887961776987}. Best is trial 49 with value: 0.900473073431404.\n",
      "[I 2025-10-08 15:00:29,114] Trial 61 finished with value: 0.9004338612341666 and parameters: {'w_0': 0.21563556334199085, 'w_1': 0.7389710929531079}. Best is trial 49 with value: 0.900473073431404.\n",
      "[I 2025-10-08 15:00:29,119] Trial 62 finished with value: 0.9004701018853933 and parameters: {'w_0': 0.24062473937141787, 'w_1': 0.678207028748627}. Best is trial 49 with value: 0.900473073431404.\n",
      "[I 2025-10-08 15:00:29,123] Trial 63 finished with value: 0.9004588094758974 and parameters: {'w_0': 0.25048507960996, 'w_1': 0.5628308336403139}. Best is trial 49 with value: 0.900473073431404.\n",
      "[I 2025-10-08 15:00:29,130] Trial 64 finished with value: 0.9004273432052534 and parameters: {'w_0': 0.3324165628998009, 'w_1': 0.6690220046611992}. Best is trial 49 with value: 0.900473073431404.\n",
      "[I 2025-10-08 15:00:29,132] Trial 65 finished with value: 0.900424244593413 and parameters: {'w_0': 0.17429730331574772, 'w_1': 0.6178074428339841}. Best is trial 49 with value: 0.900473073431404.\n",
      "[I 2025-10-08 15:00:29,144] Trial 66 finished with value: 0.9004699149702708 and parameters: {'w_0': 0.30717257393477204, 'w_1': 0.7436379022507186}. Best is trial 49 with value: 0.900473073431404.\n",
      "[I 2025-10-08 15:00:29,148] Trial 67 finished with value: 0.9004077182786444 and parameters: {'w_0': 0.37731100669182294, 'w_1': 0.7240134189573617}. Best is trial 49 with value: 0.900473073431404.\n",
      "[I 2025-10-08 15:00:29,150] Trial 68 finished with value: 0.900451830284046 and parameters: {'w_0': 0.43236247580223675, 'w_1': 0.9418275539075639}. Best is trial 49 with value: 0.900473073431404.\n",
      "[I 2025-10-08 15:00:29,160] Trial 69 finished with value: 0.9004728034472212 and parameters: {'w_0': 0.3063010779466225, 'w_1': 0.772774605551797}. Best is trial 49 with value: 0.900473073431404.\n",
      "[I 2025-10-08 15:00:29,165] Trial 70 finished with value: 0.9000171268399395 and parameters: {'w_0': 0.6359695029834759, 'w_1': 0.7776135747713666}. Best is trial 49 with value: 0.900473073431404.\n",
      "[I 2025-10-08 15:00:29,170] Trial 71 finished with value: 0.9004461717976328 and parameters: {'w_0': 0.31807964910233727, 'w_1': 0.6782127720152178}. Best is trial 49 with value: 0.900473073431404.\n",
      "[I 2025-10-08 15:00:29,180] Trial 72 finished with value: 0.9004385283438036 and parameters: {'w_0': 0.2532187083419682, 'w_1': 0.8526215023341023}. Best is trial 49 with value: 0.900473073431404.\n",
      "[I 2025-10-08 15:00:29,183] Trial 73 finished with value: 0.9004168234128829 and parameters: {'w_0': 0.27523536901970597, 'w_1': 0.9995120267033198}. Best is trial 49 with value: 0.900473073431404.\n",
      "[I 2025-10-08 15:00:29,190] Trial 74 finished with value: 0.9001196619053431 and parameters: {'w_0': 0.12749384983779272, 'w_1': 0.8960088302449899}. Best is trial 49 with value: 0.900473073431404.\n",
      "[I 2025-10-08 15:00:29,190] Trial 75 finished with value: 0.900461998900855 and parameters: {'w_0': 0.3418093583483758, 'w_1': 0.7810469537931273}. Best is trial 49 with value: 0.900473073431404.\n",
      "[I 2025-10-08 15:00:29,200] Trial 76 finished with value: 0.900467698347882 and parameters: {'w_0': 0.22242268138666754, 'w_1': 0.6419423789698747}. Best is trial 49 with value: 0.900473073431404.\n",
      "[I 2025-10-08 15:00:29,208] Trial 77 finished with value: 0.9004704860912706 and parameters: {'w_0': 0.2978603776441202, 'w_1': 0.7255271104046778}. Best is trial 49 with value: 0.900473073431404.\n",
      "[I 2025-10-08 15:00:29,208] Trial 78 finished with value: 0.9000989325933861 and parameters: {'w_0': 0.09456584182550906, 'w_1': 0.6923806258531624}. Best is trial 49 with value: 0.900473073431404.\n",
      "[I 2025-10-08 15:00:29,221] Trial 79 finished with value: 0.9004239304744965 and parameters: {'w_0': 0.4166731690798556, 'w_1': 0.8310912264113266}. Best is trial 49 with value: 0.900473073431404.\n",
      "[I 2025-10-08 15:00:29,227] Trial 80 finished with value: 0.9001097173090612 and parameters: {'w_0': 0.5457430617286863, 'w_1': 0.719432622855981}. Best is trial 49 with value: 0.900473073431404.\n",
      "[I 2025-10-08 15:00:29,236] Trial 81 finished with value: 0.9004711828839985 and parameters: {'w_0': 0.29999458796287337, 'w_1': 0.7368470509052105}. Best is trial 49 with value: 0.900473073431404.\n",
      "[I 2025-10-08 15:00:29,243] Trial 82 finished with value: 0.900450954148101 and parameters: {'w_0': 0.29152018206464303, 'w_1': 0.6328122451179917}. Best is trial 49 with value: 0.900473073431404.\n",
      "[I 2025-10-08 15:00:29,248] Trial 83 finished with value: 0.9004702733807998 and parameters: {'w_0': 0.2496566067682559, 'w_1': 0.6066872488332873}. Best is trial 49 with value: 0.900473073431404.\n",
      "[I 2025-10-08 15:00:29,248] Trial 84 finished with value: 0.9004611787793146 and parameters: {'w_0': 0.2006443130165405, 'w_1': 0.6070148600065943}. Best is trial 49 with value: 0.900473073431404.\n",
      "[I 2025-10-08 15:00:29,261] Trial 85 finished with value: 0.9002615702285484 and parameters: {'w_0': 0.3496119874604838, 'w_1': 0.5359378641746959}. Best is trial 49 with value: 0.900473073431404.\n",
      "[I 2025-10-08 15:00:29,264] Trial 86 finished with value: 0.9004511819109824 and parameters: {'w_0': 0.26453201881958777, 'w_1': 0.5747458394263218}. Best is trial 49 with value: 0.900473073431404.\n",
      "[I 2025-10-08 15:00:29,264] Trial 87 finished with value: 0.9004498033466514 and parameters: {'w_0': 0.1524408430615256, 'w_1': 0.4895629926227124}. Best is trial 49 with value: 0.900473073431404.\n",
      "[I 2025-10-08 15:00:29,279] Trial 88 finished with value: 0.9004714000768477 and parameters: {'w_0': 0.3222187186782448, 'w_1': 0.7936958275808571}. Best is trial 49 with value: 0.900473073431404.\n",
      "[I 2025-10-08 15:00:29,282] Trial 89 finished with value: 0.9004631079384751 and parameters: {'w_0': 0.3819629577328565, 'w_1': 0.8784099178748996}. Best is trial 49 with value: 0.900473073431404.\n",
      "[I 2025-10-08 15:00:29,292] Trial 90 finished with value: 0.9003304028894447 and parameters: {'w_0': 0.47552786330817526, 'w_1': 0.7966809066492289}. Best is trial 49 with value: 0.900473073431404.\n",
      "[I 2025-10-08 15:00:29,300] Trial 91 finished with value: 0.9004735404678251 and parameters: {'w_0': 0.2835035465769111, 'w_1': 0.7394738940066058}. Best is trial 91 with value: 0.9004735404678251.\n",
      "[I 2025-10-08 15:00:29,300] Trial 92 finished with value: 0.9004699626475952 and parameters: {'w_0': 0.31619864595944663, 'w_1': 0.7658657127529648}. Best is trial 91 with value: 0.9004735404678251.\n",
      "[I 2025-10-08 15:00:29,312] Trial 93 finished with value: 0.9004391421753326 and parameters: {'w_0': 0.21849254179100444, 'w_1': 0.7339390638974822}. Best is trial 91 with value: 0.9004735404678251.\n",
      "[I 2025-10-08 15:00:29,316] Trial 94 finished with value: 0.9004696156534676 and parameters: {'w_0': 0.2797727443888597, 'w_1': 0.7927505130249972}. Best is trial 91 with value: 0.9004735404678251.\n",
      "[I 2025-10-08 15:00:29,319] Trial 95 finished with value: 0.9003113410174669 and parameters: {'w_0': 0.1752531514386218, 'w_1': 0.8332966748308522}. Best is trial 91 with value: 0.9004735404678251.\n",
      "[I 2025-10-08 15:00:29,327] Trial 96 finished with value: 0.900465485393832 and parameters: {'w_0': 0.32873327134507163, 'w_1': 0.9659245273132965}. Best is trial 91 with value: 0.9004735404678251.\n",
      "[I 2025-10-08 15:00:29,336] Trial 97 finished with value: 0.9004682895702548 and parameters: {'w_0': 0.29641751489332474, 'w_1': 0.706835046107226}. Best is trial 91 with value: 0.9004735404678251.\n",
      "[I 2025-10-08 15:00:29,342] Trial 98 finished with value: 0.9003733854757067 and parameters: {'w_0': 0.3597809482294132, 'w_1': 0.6453623313752714}. Best is trial 91 with value: 0.9004735404678251.\n",
      "[I 2025-10-08 15:00:29,342] Trial 99 finished with value: 0.9004079031118258 and parameters: {'w_0': 0.39529065420425447, 'w_1': 0.7588251061806818}. Best is trial 91 with value: 0.9004735404678251.\n",
      "[I 2025-10-08 15:00:29,352] Trial 100 finished with value: 0.9004656641468501 and parameters: {'w_0': 0.236347379859166, 'w_1': 0.552459121820831}. Best is trial 91 with value: 0.9004735404678251.\n",
      "[I 2025-10-08 15:00:29,360] Trial 101 finished with value: 0.9004735236289187 and parameters: {'w_0': 0.25157509004140377, 'w_1': 0.6605171846926643}. Best is trial 91 with value: 0.9004735404678251.\n",
      "[I 2025-10-08 15:00:29,364] Trial 102 finished with value: 0.9004539405947335 and parameters: {'w_0': 0.21097674457383073, 'w_1': 0.6642710406961058}. Best is trial 91 with value: 0.9004735404678251.\n",
      "[I 2025-10-08 15:00:29,371] Trial 103 finished with value: 0.9004671921680061 and parameters: {'w_0': 0.26115297593438686, 'w_1': 0.7570083925987361}. Best is trial 91 with value: 0.9004735404678251.\n",
      "[I 2025-10-08 15:00:29,376] Trial 104 finished with value: 0.9004041350289157 and parameters: {'w_0': 0.1876929790970183, 'w_1': 0.7084894811090443}. Best is trial 91 with value: 0.9004735404678251.\n",
      "[I 2025-10-08 15:00:29,383] Trial 105 finished with value: 0.9004479314811571 and parameters: {'w_0': 0.2890087488307691, 'w_1': 0.6201701807636327}. Best is trial 91 with value: 0.9004735404678251.\n",
      "[I 2025-10-08 15:00:29,390] Trial 106 finished with value: 0.9004504779369542 and parameters: {'w_0': 0.31431613029637673, 'w_1': 0.6810224536812185}. Best is trial 91 with value: 0.9004735404678251.\n",
      "[I 2025-10-08 15:00:29,396] Trial 107 finished with value: 0.9004708204023362 and parameters: {'w_0': 0.2371481388962205, 'w_1': 0.579881296384006}. Best is trial 91 with value: 0.9004735404678251.\n",
      "[I 2025-10-08 15:00:29,401] Trial 108 finished with value: 0.9003681129468732 and parameters: {'w_0': 0.13912817804574848, 'w_1': 0.5789437074131933}. Best is trial 91 with value: 0.9004735404678251.\n",
      "[I 2025-10-08 15:00:29,415] Trial 109 finished with value: 0.9004735223931543 and parameters: {'w_0': 0.2267866408936704, 'w_1': 0.5955446988611173}. Best is trial 91 with value: 0.9004735404678251.\n",
      "[I 2025-10-08 15:00:29,437] Trial 110 finished with value: 0.9004329924167555 and parameters: {'w_0': 0.2484641474997352, 'w_1': 0.5079780680239648}. Best is trial 91 with value: 0.9004735404678251.\n",
      "[I 2025-10-08 15:00:29,440] Trial 111 finished with value: 0.9004732930510926 and parameters: {'w_0': 0.22362671447487048, 'w_1': 0.5959263593918274}. Best is trial 91 with value: 0.9004735404678251.\n",
      "[I 2025-10-08 15:00:29,449] Trial 112 finished with value: 0.9004669343887239 and parameters: {'w_0': 0.22577791492893828, 'w_1': 0.6558757498676437}. Best is trial 91 with value: 0.9004735404678251.\n",
      "[I 2025-10-08 15:00:29,449] Trial 113 finished with value: 0.9004322484027499 and parameters: {'w_0': 0.26956439629842355, 'w_1': 0.549942008709383}. Best is trial 91 with value: 0.9004735404678251.\n",
      "[I 2025-10-08 15:00:29,458] Trial 114 finished with value: 0.9004213747884054 and parameters: {'w_0': 0.17649622207978755, 'w_1': 0.6315932585759823}. Best is trial 91 with value: 0.9004735404678251.\n",
      "[I 2025-10-08 15:00:29,465] Trial 115 finished with value: 0.9004732662716415 and parameters: {'w_0': 0.23398900153805047, 'w_1': 0.5982797028898965}. Best is trial 91 with value: 0.9004735404678251.\n",
      "[I 2025-10-08 15:00:29,465] Trial 116 finished with value: 0.9004576625013594 and parameters: {'w_0': 0.1937727241565396, 'w_1': 0.5983298166597801}. Best is trial 91 with value: 0.9004735404678251.\n",
      "[I 2025-10-08 15:00:29,477] Trial 117 finished with value: 0.9003959532179683 and parameters: {'w_0': 0.3478974635813581, 'w_1': 0.6511543136066494}. Best is trial 91 with value: 0.9004735404678251.\n",
      "[I 2025-10-08 15:00:29,481] Trial 118 finished with value: 0.8994973356786254 and parameters: {'w_0': 0.7772639639916519, 'w_1': 0.6895251087993509}. Best is trial 91 with value: 0.9004735404678251.\n",
      "[I 2025-10-08 15:00:29,481] Trial 119 finished with value: 0.9004451103752152 and parameters: {'w_0': 0.27326363835576006, 'w_1': 0.8959228581965626}. Best is trial 91 with value: 0.9004735404678251.\n",
      "[I 2025-10-08 15:00:29,494] Trial 120 finished with value: 0.9003962390066947 and parameters: {'w_0': 0.3286634028766781, 'w_1': 0.6155107299266742}. Best is trial 91 with value: 0.9004735404678251.\n",
      "[I 2025-10-08 15:00:29,498] Trial 121 finished with value: 0.9004713196630676 and parameters: {'w_0': 0.23167738504747856, 'w_1': 0.5700604343860445}. Best is trial 91 with value: 0.9004735404678251.\n",
      "[I 2025-10-08 15:00:29,498] Trial 122 finished with value: 0.9004704241437216 and parameters: {'w_0': 0.212483478745662, 'w_1': 0.5966629081450794}. Best is trial 91 with value: 0.9004735404678251.\n",
      "[I 2025-10-08 15:00:29,507] Trial 123 finished with value: 0.9004530344071523 and parameters: {'w_0': 0.24554468880238856, 'w_1': 0.5375182933658809}. Best is trial 91 with value: 0.9004735404678251.\n",
      "[I 2025-10-08 15:00:29,515] Trial 124 finished with value: 0.9004379277677571 and parameters: {'w_0': 0.1694519309878846, 'w_1': 0.5718922944189004}. Best is trial 91 with value: 0.9004735404678251.\n",
      "[I 2025-10-08 15:00:29,521] Trial 125 finished with value: 0.9004441683576737 and parameters: {'w_0': 0.2971642898283299, 'w_1': 0.6291973312070054}. Best is trial 91 with value: 0.9004735404678251.\n",
      "[I 2025-10-08 15:00:29,527] Trial 126 finished with value: 0.900369684816435 and parameters: {'w_0': 0.26071918400119154, 'w_1': 0.46466224257975697}. Best is trial 91 with value: 0.9004735404678251.\n",
      "[I 2025-10-08 15:00:29,531] Trial 127 finished with value: 0.9004710480483347 and parameters: {'w_0': 0.2306637300137726, 'w_1': 0.5655917971164517}. Best is trial 91 with value: 0.9004735404678251.\n",
      "[I 2025-10-08 15:00:29,538] Trial 128 finished with value: 0.9004726771927479 and parameters: {'w_0': 0.19394527754850782, 'w_1': 0.526046525284209}. Best is trial 91 with value: 0.9004735404678251.\n",
      "[I 2025-10-08 15:00:29,542] Trial 129 finished with value: 0.9004348768901352 and parameters: {'w_0': 0.1550495242138099, 'w_1': 0.5293553404285031}. Best is trial 91 with value: 0.9004735404678251.\n",
      "[I 2025-10-08 15:00:29,551] Trial 130 finished with value: 0.9004732320568933 and parameters: {'w_0': 0.1874180623199329, 'w_1': 0.5006177816232854}. Best is trial 91 with value: 0.9004735404678251.\n",
      "[I 2025-10-08 15:00:29,557] Trial 131 finished with value: 0.9004719927890343 and parameters: {'w_0': 0.18842263228932293, 'w_1': 0.5177503539126591}. Best is trial 91 with value: 0.9004735404678251.\n",
      "[I 2025-10-08 15:00:29,563] Trial 132 finished with value: 0.9003684635948086 and parameters: {'w_0': 0.11942627148125425, 'w_1': 0.4965197015456781}. Best is trial 91 with value: 0.9004735404678251.\n",
      "[I 2025-10-08 15:00:29,568] Trial 133 finished with value: 0.9004428722841601 and parameters: {'w_0': 0.1925985993982705, 'w_1': 0.40600906115849555}. Best is trial 91 with value: 0.9004735404678251.\n",
      "[I 2025-10-08 15:00:29,573] Trial 134 finished with value: 0.900449200561797 and parameters: {'w_0': 0.13595136605935998, 'w_1': 0.43780997501353525}. Best is trial 91 with value: 0.9004735404678251.\n",
      "[I 2025-10-08 15:00:29,581] Trial 135 finished with value: 0.900473020362741 and parameters: {'w_0': 0.20426755572205169, 'w_1': 0.5181798119247906}. Best is trial 91 with value: 0.9004735404678251.\n",
      "[I 2025-10-08 15:00:29,586] Trial 136 finished with value: 0.9004718758081254 and parameters: {'w_0': 0.20563183744587982, 'w_1': 0.5099835561683793}. Best is trial 91 with value: 0.9004735404678251.\n",
      "[I 2025-10-08 15:00:29,593] Trial 137 finished with value: 0.9003088754245551 and parameters: {'w_0': 0.10108831439512947, 'w_1': 0.48328253764562507}. Best is trial 91 with value: 0.9004735404678251.\n",
      "[I 2025-10-08 15:00:29,602] Trial 138 finished with value: 0.9004498334767016 and parameters: {'w_0': 0.16216707061247587, 'w_1': 0.5207266883357636}. Best is trial 91 with value: 0.9004735404678251.\n",
      "[I 2025-10-08 15:00:29,609] Trial 139 finished with value: 0.9004552506893575 and parameters: {'w_0': 0.2124136183641045, 'w_1': 0.46942353385549473}. Best is trial 91 with value: 0.9004735404678251.\n",
      "[I 2025-10-08 15:00:29,615] Trial 140 finished with value: 0.9004674867820415 and parameters: {'w_0': 0.19008145991020922, 'w_1': 0.5496107886895973}. Best is trial 91 with value: 0.9004735404678251.\n",
      "[I 2025-10-08 15:00:29,623] Trial 141 finished with value: 0.9004725721032609 and parameters: {'w_0': 0.20392209692568672, 'w_1': 0.5119173942681257}. Best is trial 91 with value: 0.9004735404678251.\n",
      "[I 2025-10-08 15:00:29,631] Trial 142 finished with value: 0.9004701270236333 and parameters: {'w_0': 0.17867749772127253, 'w_1': 0.4335210335971389}. Best is trial 91 with value: 0.9004735404678251.\n",
      "[I 2025-10-08 15:00:29,637] Trial 143 finished with value: 0.9004699418170835 and parameters: {'w_0': 0.22087544727451136, 'w_1': 0.5348679639255814}. Best is trial 91 with value: 0.9004735404678251.\n",
      "[I 2025-10-08 15:00:29,643] Trial 144 finished with value: 0.8982828281906681 and parameters: {'w_0': 0.8807439595887541, 'w_1': 0.4620252118377263}. Best is trial 91 with value: 0.9004735404678251.\n",
      "[I 2025-10-08 15:00:29,649] Trial 145 finished with value: 0.9004182957366789 and parameters: {'w_0': 0.25265766524820804, 'w_1': 0.4968731580607873}. Best is trial 91 with value: 0.9004735404678251.\n",
      "[I 2025-10-08 15:00:29,656] Trial 146 finished with value: 0.9003719368200239 and parameters: {'w_0': 0.14780824593126557, 'w_1': 0.6091183162240488}. Best is trial 91 with value: 0.9004735404678251.\n",
      "[I 2025-10-08 15:00:29,666] Trial 147 finished with value: 0.9004707080384375 and parameters: {'w_0': 0.19770232401360335, 'w_1': 0.5532505662884689}. Best is trial 91 with value: 0.9004735404678251.\n",
      "[I 2025-10-08 15:00:29,672] Trial 148 finished with value: 0.9004032930621312 and parameters: {'w_0': 0.2733319023550708, 'w_1': 0.5194629878315327}. Best is trial 91 with value: 0.9004735404678251.\n",
      "[I 2025-10-08 15:00:29,678] Trial 149 finished with value: 0.9004700928572734 and parameters: {'w_0': 0.24089954833919558, 'w_1': 0.584277799309178}. Best is trial 91 with value: 0.9004735404678251.\n"
     ]
    },
    {
     "name": "stdout",
     "output_type": "stream",
     "text": [
      "\n",
      "Hold-out R² (weights learned on train via OOF): 0.9200\n"
     ]
    }
   ],
   "source": [
    "\n",
    "\n",
    "import numpy as np\n",
    "import pandas as pd\n",
    "import optuna\n",
    "from optuna.samplers import TPESampler\n",
    "\n",
    "from sklearn.preprocessing import StandardScaler, OrdinalEncoder, OneHotEncoder\n",
    "from sklearn.compose import ColumnTransformer\n",
    "from sklearn.pipeline import Pipeline\n",
    "from sklearn.model_selection import KFold, cross_val_predict, train_test_split\n",
    "from sklearn.metrics import r2_score\n",
    "from sklearn.linear_model import Ridge\n",
    "from sklearn.ensemble import RandomForestRegressor\n",
    "from xgboost import XGBRegressor\n",
    "import category_encoders as ce\n",
    "\n",
    "# =========================\n",
    "# 1) Load & prepare data\n",
    "# =========================\n",
    "df = pd.read_csv('../../Dataset/gurgaon_properties_post_feature_selection_v2.csv')\n",
    "\n",
    "# clean up furnishing types\n",
    "df['furnishing_type'] = df['furnishing_type'].replace({0.0:'unfurnished',1.0:'semifurnished',2.0:'furnished'})\n",
    "\n",
    "X = df.drop(columns=['price'])\n",
    "y = df['price']\n",
    "y_transformed = np.log1p(y)  # we’ll optimize/evaluate in log-space to match your pipeline\n",
    "\n",
    "# =========================\n",
    "# 2) Preprocessor (same as yours)\n",
    "# =========================\n",
    "preprocessor = ColumnTransformer(\n",
    "    transformers=[\n",
    "        ('num', StandardScaler(), ['bedRoom', 'bathroom', 'built_up_area', 'servant room', 'store room']),\n",
    "        ('cat', OrdinalEncoder(handle_unknown='use_encoded_value', unknown_value=-1),\n",
    "         ['property_type', 'sector', 'balcony', 'agePossession', 'furnishing_type', 'luxury_category', 'floor_category']),\n",
    "        ('cat1', OneHotEncoder(drop='first', sparse_output=False, handle_unknown='ignore'), ['agePossession']),\n",
    "        ('target_enc', ce.TargetEncoder(), ['sector'])\n",
    "    ],\n",
    "    remainder='passthrough'\n",
    ")\n",
    "\n",
    "# =========================\n",
    "# 3) Base models (your tuned params)\n",
    "# =========================\n",
    "best_rf_params = {\n",
    "    'n_estimators': 454,\n",
    "    'max_depth': 39,\n",
    "    'min_samples_split': 2,\n",
    "    'min_samples_leaf': 1,\n",
    "    'max_features': None,\n",
    "    'bootstrap': True,\n",
    "    'random_state': 42\n",
    "}\n",
    "best_xgb_params = {\n",
    "    'n_estimators': 791,\n",
    "    'learning_rate': 0.0266,\n",
    "    'max_depth': 7,\n",
    "    'subsample': 0.9518,\n",
    "    'colsample_bytree': 0.7703,\n",
    "    'gamma': 0.00923,\n",
    "    'reg_alpha': 1.108,\n",
    "    'reg_lambda': 1.4735,\n",
    "    'min_child_weight': 4,\n",
    "    'random_state': 42\n",
    "}\n",
    "\n",
    "rf = RandomForestRegressor(**best_rf_params)\n",
    "xgb = XGBRegressor(**best_xgb_params)\n",
    "ridge = Ridge(alpha=1.0)\n",
    "\n",
    "pipe_rf = Pipeline([('preprocessor', preprocessor), ('model', rf)])\n",
    "pipe_xgb = Pipeline([('preprocessor', preprocessor), ('model', xgb)])\n",
    "pipe_ridge = Pipeline([('preprocessor', preprocessor), ('model', ridge)])\n",
    "\n",
    "# Choose which models to blend\n",
    "base_models = [\n",
    "    ('rf', pipe_rf),\n",
    "    ('xgb', pipe_xgb),\n",
    "    # ('ridge', pipe_ridge),  # <- optionally include ridge in the blend\n",
    "]\n",
    "\n",
    "# =========================\n",
    "# 4) Out-of-fold predictions\n",
    "# =========================\n",
    "kfold = KFold(n_splits=10, shuffle=True, random_state=42)\n",
    "\n",
    "oof_preds = []\n",
    "model_names = []\n",
    "for name, pipe in base_models:\n",
    "    print(f\"Computing OOF predictions for: {name}\")\n",
    "    preds = cross_val_predict(pipe, X, y_transformed, cv=kfold, n_jobs=-1)\n",
    "    oof_preds.append(preds)\n",
    "    model_names.append(name)\n",
    "\n",
    "oof_matrix = np.column_stack(oof_preds)  # shape: (n_samples, n_models)\n",
    "\n",
    "# Baseline (equal weights) for reference\n",
    "equal_weights = np.ones(oof_matrix.shape[1]) / oof_matrix.shape[1]\n",
    "baseline_pred = oof_matrix @ equal_weights\n",
    "baseline_r2 = r2_score(y_transformed, baseline_pred)\n",
    "print(f\"\\nEqual-weights OOF R²: {baseline_r2:.4f}\")\n",
    "\n",
    "# =========================\n",
    "# 5) Optuna to find best weights\n",
    "#    - Non-negative weights, sum to 1 (softmax/normalization)\n",
    "# =========================\n",
    "def objective(trial):\n",
    "    # suggest one weight per model\n",
    "    raw_w = np.array([trial.suggest_float(f\"w_{i}\", 0.0, 1.0) for i in range(oof_matrix.shape[1])])\n",
    "    # enforce non-negativity and sum-to-one\n",
    "    if raw_w.sum() == 0:\n",
    "        raw_w += 1e-8\n",
    "    w = raw_w / raw_w.sum()\n",
    "\n",
    "    pred = oof_matrix @ w\n",
    "    score = r2_score(y_transformed, pred)\n",
    "    return score\n",
    "\n",
    "study = optuna.create_study(direction=\"maximize\", sampler=TPESampler(seed=42))\n",
    "study.optimize(objective, n_trials=200, show_progress_bar=False)\n",
    "\n",
    "best_raw_weights = np.array([study.best_trial.params[f\"w_{i}\"] for i in range(oof_matrix.shape[1])])\n",
    "best_weights = best_raw_weights / best_raw_weights.sum()\n",
    "best_pred = oof_matrix @ best_weights\n",
    "best_r2 = r2_score(y_transformed, best_pred)\n",
    "\n",
    "print(\"\\n🎯 Optimized weights (sum to 1):\")\n",
    "for name, w in zip(model_names, best_weights):\n",
    "    print(f\"  {name}: {w:.4f}\")\n",
    "print(f\"Optimized OOF R²: {best_r2:.4f} (vs equal-weights {baseline_r2:.4f})\")\n",
    "\n",
    "# =========================\n",
    "# 6) Fit final models on full data and define predictor\n",
    "# =========================\n",
    "fitted_models = {}\n",
    "for name, pipe in base_models:\n",
    "    print(f\"Fitting final model on full data: {name}\")\n",
    "    pipe.fit(X, y_transformed)\n",
    "    fitted_models[name] = pipe\n",
    "\n",
    "def predict_log_price(X_new):\n",
    "    # weighted predictions in log-space\n",
    "    preds = []\n",
    "    for (name, _), w in zip(base_models, best_weights):\n",
    "        preds.append(w * fitted_models[name].predict(X_new))\n",
    "    return np.sum(preds, axis=0)\n",
    "\n",
    "def predict_price(X_new):\n",
    "    # convert back to original price scale\n",
    "    return np.expm1(predict_log_price(X_new))\n",
    "\n",
    "# =========================\n",
    "# 7) Optional: hold-out check (to estimate generalization)\n",
    "# =========================\n",
    "# If you want an honest estimate, learn weights on train only (OOF on train), then evaluate on test\n",
    "X_train, X_test, y_train, y_test = train_test_split(X, y_transformed, test_size=0.2, random_state=42)\n",
    "\n",
    "# Recompute OOF on train only\n",
    "oof_preds_train = []\n",
    "for name, pipe in base_models:\n",
    "    preds = cross_val_predict(pipe, X_train, y_train, cv=kfold, n_jobs=-1)\n",
    "    oof_preds_train.append(preds)\n",
    "oof_train_mat = np.column_stack(oof_preds_train)\n",
    "\n",
    "def holdout_objective(trial):\n",
    "    raw_w = np.array([trial.suggest_float(f\"w_{i}\", 0.0, 1.0) for i in range(oof_train_mat.shape[1])])\n",
    "    if raw_w.sum() == 0:\n",
    "        raw_w += 1e-8\n",
    "    w = raw_w / raw_w.sum()\n",
    "    pred = oof_train_mat @ w\n",
    "    return r2_score(y_train, pred)\n",
    "\n",
    "study_holdout = optuna.create_study(direction=\"maximize\", sampler=TPESampler(seed=42))\n",
    "study_holdout.optimize(holdout_objective, n_trials=150, show_progress_bar=False)\n",
    "w_train = np.array([study_holdout.best_trial.params[f\"w_{i}\"] for i in range(oof_train_mat.shape[1])])\n",
    "w_train = w_train / w_train.sum()\n",
    "\n",
    "# Fit models on train set only, evaluate on test\n",
    "fitted_train_models = {}\n",
    "for name, pipe in base_models:\n",
    "    fitted_pipe = Pipeline(pipe.steps)  # fresh clone-ish\n",
    "    fitted_pipe.fit(X_train, y_train)\n",
    "    fitted_train_models[name] = fitted_pipe\n",
    "\n",
    "def predict_log_price_holdout(X_new):\n",
    "    preds = []\n",
    "    for (name, _), w in zip(base_models, w_train):\n",
    "        preds.append(w * fitted_train_models[name].predict(X_new))\n",
    "    return np.sum(preds, axis=0)\n",
    "\n",
    "y_test_pred = predict_log_price_holdout(X_test)\n",
    "holdout_r2 = r2_score(y_test, y_test_pred)\n",
    "print(f\"\\nHold-out R² (weights learned on train via OOF): {holdout_r2:.4f}\")\n",
    "\n",
    "# Example: predict on full X in original scale\n",
    "# preds_price = predict_price(X)\n",
    "# print(preds_price[:5])"
   ]
  },
  {
   "cell_type": "code",
   "execution_count": 48,
   "id": "2d98d844",
   "metadata": {},
   "outputs": [
    {
     "name": "stdout",
     "output_type": "stream",
     "text": [
      "OOF prediction correlation matrix:\n",
      " [[1.     0.9918]\n",
      " [0.9918 1.    ]]\n"
     ]
    }
   ],
   "source": [
    "# after building oof_matrix as in your code\n",
    "import numpy as np\n",
    "corr = np.corrcoef(oof_matrix.T)\n",
    "print(\"OOF prediction correlation matrix:\\n\", np.round(corr, 4))"
   ]
  },
  {
   "cell_type": "code",
   "execution_count": 49,
   "id": "6d70d71e",
   "metadata": {},
   "outputs": [
    {
     "name": "stdout",
     "output_type": "stream",
     "text": [
      "Analytic convex weights -> rf: 0.4519, xgb: 0.5481\n"
     ]
    }
   ],
   "source": [
    "# oof_matrix: (n_samples, 2) with columns [rf_pred, xgb_pred]\n",
    "p1 = oof_matrix[:, 0]  # rf\n",
    "p2 = oof_matrix[:, 1]  # xgb\n",
    "y_ = y_transformed.values if hasattr(y_transformed, 'values') else y_transformed\n",
    "\n",
    "num = np.dot(y_ - p2, p1 - p2)\n",
    "den = np.dot(p1 - p2, p1 - p2) + 1e-12\n",
    "w_rf = np.clip(num / den, 0, 1)\n",
    "w_xgb = 1 - w_rf\n",
    "print(f\"Analytic convex weights -> rf: {w_rf:.4f}, xgb: {w_xgb:.4f}\")"
   ]
  },
  {
   "cell_type": "code",
   "execution_count": 53,
   "id": "d3058efc",
   "metadata": {},
   "outputs": [
    {
     "name": "stdout",
     "output_type": "stream",
     "text": [
      "OOF MSE (log): 0.028901\n",
      "OOF MSE (price): 1.25\n"
     ]
    }
   ],
   "source": [
    "from sklearn.metrics import mean_squared_error\n",
    "import numpy as np\n",
    "\n",
    "# MSE/RMSE in log space\n",
    "mse_log = mean_squared_error(y_transformed, best_pred)\n",
    "print(f\"OOF MSE (log): {mse_log:.6f}\")\n",
    "\n",
    "# MSE/RMSE on original price scale\n",
    "y_true_price = np.expm1(y_transformed)\n",
    "y_pred_price = np.expm1(best_pred)\n",
    "mse_price = mean_squared_error(y_true_price, y_pred_price)\n",
    "\n",
    "print(f\"OOF MSE (price): {mse_price:,.2f}\")"
   ]
  },
  {
   "cell_type": "code",
   "execution_count": null,
   "id": "30c8e066",
   "metadata": {},
   "outputs": [],
   "source": []
  }
 ],
 "metadata": {
  "kernelspec": {
   "display_name": ".venv",
   "language": "python",
   "name": "python3"
  },
  "language_info": {
   "codemirror_mode": {
    "name": "ipython",
    "version": 3
   },
   "file_extension": ".py",
   "mimetype": "text/x-python",
   "name": "python",
   "nbconvert_exporter": "python",
   "pygments_lexer": "ipython3",
   "version": "3.12.1"
  }
 },
 "nbformat": 4,
 "nbformat_minor": 5
}
